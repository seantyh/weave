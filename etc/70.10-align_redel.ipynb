{
 "cells": [
  {
   "cell_type": "code",
   "execution_count": 1,
   "id": "ecf68fa0-e783-4e8c-bdd8-4fa93ee0a2fc",
   "metadata": {},
   "outputs": [],
   "source": [
    "# %load_ext autoreload\n",
    "# %autoreload 2\n",
    "%load_ext watermark"
   ]
  },
  {
   "cell_type": "code",
   "execution_count": 2,
   "id": "553781ce-78e0-4708-b40d-5b894b9a92a6",
   "metadata": {},
   "outputs": [],
   "source": [
    "import sys\n",
    "if \"../src\" not in sys.path:\n",
    "    sys.path.append(\"../src\")\n",
    "    \n",
    "import json\n",
    "import pandas as pd\n",
    "from pathlib import Path\n",
    "from itertools import chain\n",
    "from typing import cast, Dict\n",
    "import subprocess\n",
    "from tqdm.auto import tqdm\n",
    "from praatio import textgrid\n",
    "from weave import Speech, Utterance, Word, Character, Phone\n",
    "from weave import BuildUtt"
   ]
  },
  {
   "attachments": {},
   "cell_type": "markdown",
   "id": "11b17c78",
   "metadata": {},
   "source": [
    "## Aligning annotations and MFA"
   ]
  },
  {
   "cell_type": "code",
   "execution_count": 3,
   "id": "4d2720e4",
   "metadata": {},
   "outputs": [],
   "source": [
    "mfa_aligned_dir = Path(\"~/lago/mfa_data/aligned_retro_redel\").expanduser()\n",
    "tg_dir = Path(\"../data/retro_labels\")"
   ]
  },
  {
   "cell_type": "code",
   "execution_count": 4,
   "id": "7cde345d",
   "metadata": {},
   "outputs": [],
   "source": [
    "import logging\n",
    "\n",
    "logger = logging.getLogger()\n",
    "log_path = str(tg_dir / \"align_annot.log\")\n",
    "logger.addHandler(logging.FileHandler(log_path, \"w\"))\n",
    "logger.addHandler(logging.StreamHandler())\n",
    "logger.handlers[1].setLevel(logging.WARNING)\n",
    "logger.setLevel(logging.DEBUG)\n",
    "logger.handlers[0].setFormatter(logging.Formatter('[%(levelname)s] (%(name)s) %(asctime)s: %(message)s'))"
   ]
  },
  {
   "cell_type": "code",
   "execution_count": 5,
   "id": "500ccee8-9aae-40bd-bf41-9a844ad47207",
   "metadata": {},
   "outputs": [],
   "source": [
    "### Read charac-boundary dictionary\n",
    "word_syll_map = pd.read_csv(Path(\"../data/mandarin_taiwan_mfa_redelvar.syll.tsv\"), sep=\"\\t\")\\\n",
    "                  .groupby(\"ipa\").first().drop(\"word\", axis=1)\\\n",
    "                  .to_dict(orient=\"index\")\n",
    "word_syll_map = cast(Dict[str, Dict[str, str]], word_syll_map)"
   ]
  },
  {
   "cell_type": "code",
   "execution_count": 9,
   "id": "efef3e47",
   "metadata": {},
   "outputs": [
    {
     "data": {
      "text/plain": [
       "['LJH_GY',\n",
       " 'CJH_GY',\n",
       " 'KCZX_GY',\n",
       " 'XHY_GY',\n",
       " 'HSK_GY',\n",
       " 'WJL_GY',\n",
       " 'GYX_GY',\n",
       " 'CZX_GY',\n",
       " 'CN_GY',\n",
       " 'JXW_GY',\n",
       " 'LZW_GY',\n",
       " 'YYS_GY',\n",
       " 'LRL_GY',\n",
       " 'XHR_GY',\n",
       " 'GWH_GY']"
      ]
     },
     "execution_count": 9,
     "metadata": {},
     "output_type": "execute_result"
    }
   ],
   "source": [
    "annot_files = list(tg_dir.glob(\"*.TextGrid\"))\n",
    "speaker_ids = [f.stem.replace(\"_label\", \"\") \n",
    "               for f in annot_files\n",
    "               if f.stem.endswith(\"_label\")]\n",
    "speaker_ids[:5]"
   ]
  },
  {
   "cell_type": "code",
   "execution_count": 7,
   "id": "74c321cb",
   "metadata": {},
   "outputs": [
    {
     "data": {
      "text/plain": [
       "PosixPath('../data/retro_labels')"
      ]
     },
     "execution_count": 7,
     "metadata": {},
     "output_type": "execute_result"
    }
   ],
   "source": [
    "tg_dir"
   ]
  },
  {
   "cell_type": "code",
   "execution_count": 8,
   "id": "05b26266",
   "metadata": {},
   "outputs": [
    {
     "data": {
      "application/vnd.jupyter.widget-view+json": {
       "model_id": "806cc75137a64800b161cd98f86a48eb",
       "version_major": 2,
       "version_minor": 0
      },
      "text/plain": [
       "  0%|          | 0/30 [00:00<?, ?it/s]"
      ]
     },
     "metadata": {},
     "output_type": "display_data"
    },
    {
     "ename": "FileNotFoundError",
     "evalue": "[Errno 2] No such file or directory: '../data/retro_labels/CN_GY.mfa_label.TextGrid'",
     "output_type": "error",
     "traceback": [
      "\u001b[0;31m---------------------------------------------------------------------------\u001b[0m",
      "\u001b[0;31mFileNotFoundError\u001b[0m                         Traceback (most recent call last)",
      "Cell \u001b[0;32mIn[8], line 3\u001b[0m\n\u001b[1;32m      1\u001b[0m \u001b[39mfor\u001b[39;00m speaker_id \u001b[39min\u001b[39;00m tqdm(speaker_ids):\n\u001b[1;32m      2\u001b[0m   tg_path \u001b[39m=\u001b[39m tg_dir \u001b[39m/\u001b[39m \u001b[39mf\u001b[39m\u001b[39m\"\u001b[39m\u001b[39m{\u001b[39;00mspeaker_id\u001b[39m}\u001b[39;00m\u001b[39m_label.TextGrid\u001b[39m\u001b[39m\"\u001b[39m\n\u001b[0;32m----> 3\u001b[0m   speech \u001b[39m=\u001b[39m Speech\u001b[39m.\u001b[39;49mfrom_textgrid_fon(tg_path, [\u001b[39m\"\u001b[39;49m\u001b[39mnote\u001b[39;49m\u001b[39m\"\u001b[39;49m, \u001b[39m\"\u001b[39;49m\u001b[39mrealization\u001b[39;49m\u001b[39m\"\u001b[39;49m])\n\u001b[1;32m      5\u001b[0m   mfa_speaker_dir \u001b[39m=\u001b[39m mfa_aligned_dir \u001b[39m/\u001b[39m speaker_id\n\u001b[1;32m      6\u001b[0m   mfa_speaker_paths \u001b[39m=\u001b[39m \u001b[39mlist\u001b[39m(mfa_speaker_dir\u001b[39m.\u001b[39mglob(\u001b[39m\"\u001b[39m\u001b[39m*.TextGrid\u001b[39m\u001b[39m\"\u001b[39m))\n",
      "File \u001b[0;32m~/lago/weave/etc/../src/weave/speech.py:75\u001b[0m, in \u001b[0;36mSpeech.from_textgrid_fon\u001b[0;34m(cls, tg_path, annot_fields)\u001b[0m\n\u001b[1;32m     70\u001b[0m \u001b[39m@classmethod\u001b[39m\n\u001b[1;32m     71\u001b[0m \u001b[39mdef\u001b[39;00m \u001b[39mfrom_textgrid_fon\u001b[39m(\u001b[39mcls\u001b[39m, \n\u001b[1;32m     72\u001b[0m                       tg_path, \n\u001b[1;32m     73\u001b[0m                       annot_fields: List[\u001b[39mstr\u001b[39m]\u001b[39m=\u001b[39m[]\n\u001b[1;32m     74\u001b[0m         ) \u001b[39m-\u001b[39m\u001b[39m>\u001b[39m \u001b[39m\"\u001b[39m\u001b[39mSpeech\u001b[39m\u001b[39m\"\u001b[39m:\n\u001b[0;32m---> 75\u001b[0m     tg \u001b[39m=\u001b[39m textgrid\u001b[39m.\u001b[39;49mopenTextgrid(\u001b[39mstr\u001b[39;49m(tg_path), \u001b[39mFalse\u001b[39;49;00m)\n\u001b[1;32m     77\u001b[0m     tier_names \u001b[39m=\u001b[39m tg\u001b[39m.\u001b[39mtierNames\n\u001b[1;32m     78\u001b[0m     \u001b[39mif\u001b[39;00m \u001b[39mset\u001b[39m([\u001b[39m\"\u001b[39m\u001b[39mutt\u001b[39m\u001b[39m\"\u001b[39m, \u001b[39m\"\u001b[39m\u001b[39mch\u001b[39m\u001b[39m\"\u001b[39m, \u001b[39m\"\u001b[39m\u001b[39mword\u001b[39m\u001b[39m\"\u001b[39m])\u001b[39m-\u001b[39m\u001b[39mset\u001b[39m(tier_names):\n",
      "File \u001b[0;32m~/miniconda3/envs/mfa/lib/python3.10/site-packages/praatio/textgrid.py:72\u001b[0m, in \u001b[0;36mopenTextgrid\u001b[0;34m(fnFullPath, includeEmptyIntervals, reportingMode, duplicateNamesMode)\u001b[0m\n\u001b[1;32m     68\u001b[0m utils\u001b[39m.\u001b[39mvalidateOption(\n\u001b[1;32m     69\u001b[0m     \u001b[39m\"\u001b[39m\u001b[39mduplicateNamesMode\u001b[39m\u001b[39m\"\u001b[39m, duplicateNamesMode, constants\u001b[39m.\u001b[39mDuplicateNames\n\u001b[1;32m     70\u001b[0m )\n\u001b[1;32m     71\u001b[0m \u001b[39mtry\u001b[39;00m:\n\u001b[0;32m---> 72\u001b[0m     \u001b[39mwith\u001b[39;00m io\u001b[39m.\u001b[39;49mopen(fnFullPath, \u001b[39m\"\u001b[39;49m\u001b[39mr\u001b[39;49m\u001b[39m\"\u001b[39;49m, encoding\u001b[39m=\u001b[39;49m\u001b[39m\"\u001b[39;49m\u001b[39mutf-16\u001b[39;49m\u001b[39m\"\u001b[39;49m) \u001b[39mas\u001b[39;00m fd:\n\u001b[1;32m     73\u001b[0m         data \u001b[39m=\u001b[39m fd\u001b[39m.\u001b[39mread()\n\u001b[1;32m     74\u001b[0m \u001b[39mexcept\u001b[39;00m \u001b[39mUnicodeError\u001b[39;00m:\n",
      "\u001b[0;31mFileNotFoundError\u001b[0m: [Errno 2] No such file or directory: '../data/retro_labels/CN_GY.mfa_label.TextGrid'"
     ]
    }
   ],
   "source": [
    "for speaker_id in tqdm(speaker_ids):\n",
    "  tg_path = tg_dir / f\"{speaker_id}_label.TextGrid\"\n",
    "  speech = Speech.from_textgrid_fon(tg_path, [\"note\", \"realization\"])\n",
    "\n",
    "  mfa_speaker_dir = mfa_aligned_dir / speaker_id\n",
    "  mfa_speaker_paths = list(mfa_speaker_dir.glob(\"*.TextGrid\"))\n",
    "  mfa_speaker_paths.sort()\n",
    "\n",
    "  mfa_utt_list = []\n",
    "  # for mfa_tg_x in mfa_speaker_paths:\n",
    "  for utt_idx in range(len(speech.utterances)):\n",
    "    mfa_tg_x = mfa_speaker_dir / f\"{speaker_id}_{utt_idx:03d}.TextGrid\"\n",
    "    if not mfa_tg_x.exists():\n",
    "      logger.warning(\"Not found: %s\", str(mfa_tg_x))\n",
    "      continue\n",
    "    \n",
    "    fa = textgrid.openTextgrid(str(mfa_tg_x), False)\n",
    "    fa_words = fa.getTier(\"words\")\n",
    "    fa_phones = fa.getTier(\"phones\")\n",
    "    mfa_wlist = BuildUtt.build_words_phones(fa_words, fa_phones)  #type: ignore\n",
    "    mfa_words = BuildUtt.build_characters(mfa_wlist, word_syll_map)  #type: ignore\n",
    "    mfa_utt = Utterance.from_words(mfa_words)\n",
    "    mfa_utt = BuildUtt.align_with_utterance_cyy_annot(mfa_utt, speech.utterances[utt_idx])\n",
    "    mfa_utt_list.append(mfa_utt)\n",
    "    \n",
    "  mfa_speech = Speech.from_utterances(mfa_utt_list)\n",
    "  mfa_speech.to_textgrid(tg_path.with_suffix(\".mfa.TextGrid\"))\n",
    "  tg_path.with_suffix(\".mfa.json\").write_text(json.dumps(mfa_speech.to_dict()))\n",
    "  mfa_tg_path = tg_path.with_suffix(\".mfa.TextGrid\")\n",
    "  mfa_json_path = tg_path.with_suffix(\".mfa.json\")\n",
    "  logger.info(\"Done: %s\", str(mfa_tg_path))\n",
    "  logger.info(\"Done: %s\", str(mfa_json_path))\n",
    "\n",
    "  print(subprocess.run([\"sha1sum\", str(mfa_tg_path)], capture_output=True).stdout.decode().strip())\n",
    "  print(subprocess.run([\"sha1sum\", str(mfa_json_path)], capture_output=True).stdout.decode().strip())"
   ]
  },
  {
   "attachments": {},
   "cell_type": "markdown",
   "id": "352a1b42",
   "metadata": {},
   "source": [
    "## Watermarks"
   ]
  },
  {
   "cell_type": "code",
   "execution_count": null,
   "id": "8b40b2f9",
   "metadata": {},
   "outputs": [
    {
     "name": "stdout",
     "output_type": "stream",
     "text": [
      "Last updated: 2023-05-16T11:58:31.397853+02:00\n",
      "\n",
      "Python implementation: CPython\n",
      "Python version       : 3.10.10\n",
      "IPython version      : 8.13.1\n",
      "\n",
      "Compiler    : Clang 14.0.6 \n",
      "OS          : Darwin\n",
      "Release     : 22.1.0\n",
      "Machine     : arm64\n",
      "Processor   : arm\n",
      "CPU cores   : 8\n",
      "Architecture: 64bit\n",
      "\n"
     ]
    }
   ],
   "source": [
    "%watermark"
   ]
  },
  {
   "cell_type": "code",
   "execution_count": null,
   "id": "77ebdd48",
   "metadata": {},
   "outputs": [
    {
     "name": "stdout",
     "output_type": "stream",
     "text": [
      "json   : 2.0.9\n",
      "pandas : 2.0.1\n",
      "logging: 0.5.1.2\n",
      "praatio: 6.0.0\n",
      "sys    : 3.10.10 | packaged by conda-forge | (main, Mar 24 2023, 20:12:31) [Clang 14.0.6 ]\n",
      "\n"
     ]
    }
   ],
   "source": [
    "%watermark --iversions"
   ]
  },
  {
   "cell_type": "code",
   "execution_count": null,
   "id": "7b7a6a5d",
   "metadata": {},
   "outputs": [],
   "source": []
  }
 ],
 "metadata": {
  "kernelspec": {
   "display_name": "Python 3 (ipykernel)",
   "language": "python",
   "name": "python3"
  },
  "language_info": {
   "codemirror_mode": {
    "name": "ipython",
    "version": 3
   },
   "file_extension": ".py",
   "mimetype": "text/x-python",
   "name": "python",
   "nbconvert_exporter": "python",
   "pygments_lexer": "ipython3",
   "version": "3.10.10"
  }
 },
 "nbformat": 4,
 "nbformat_minor": 5
}
