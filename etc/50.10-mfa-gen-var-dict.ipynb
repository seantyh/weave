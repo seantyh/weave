{
 "cells": [
  {
   "cell_type": "code",
   "execution_count": 1,
   "id": "ce339d98-4c20-48a0-841f-ac341190fd5b",
   "metadata": {
    "tags": []
   },
   "outputs": [],
   "source": [
    "from pathlib import Path\n",
    "import re\n",
    "from itertools import product\n",
    "from typing import List"
   ]
  },
  {
   "cell_type": "markdown",
   "id": "42376869-d1eb-4000-9673-69d21b81e95e",
   "metadata": {
    "tags": []
   },
   "source": [
    "## Read reference dict"
   ]
  },
  {
   "cell_type": "code",
   "execution_count": 2,
   "id": "330a8596-79c1-4fa7-9b0d-cf066c73b6af",
   "metadata": {
    "tags": []
   },
   "outputs": [],
   "source": [
    "base_dir = Path(\"/Users/seantyh/Documents/MFA/pretrained_models/dictionary/\")\n",
    "ref_dict = base_dir / \"mandarin_taiwan_mfa.dict\""
   ]
  },
  {
   "cell_type": "code",
   "execution_count": 3,
   "id": "cf57d60d-8702-4475-9371-5358c68305d9",
   "metadata": {
    "tags": []
   },
   "outputs": [],
   "source": [
    "pdict_list = Path(ref_dict).read_text()\n",
    "pdict_list = pdict_list.strip().split(\"\\n\")\n",
    "pdict_list = [x.split(\"\\t\") for x in pdict_list]\n",
    "pdict_list = [x for x in pdict_list if len(x)>0]"
   ]
  },
  {
   "cell_type": "code",
   "execution_count": 4,
   "id": "a4ad334b-b981-485a-a236-5559d9c29eda",
   "metadata": {
    "tags": []
   },
   "outputs": [
    {
     "data": {
      "text/plain": [
       "[['<eps>', '1.0', '0.0', '0.0', '0.0', 'sil'],\n",
       " ['<unk>', '0.99', '0.27', '1.86', '0.86', 'spn'],\n",
       " ['㐌', '0.99', '0.26', '1.0', '1.0', 'i˧˥'],\n",
       " ['㐖', '0.99', '0.26', '1.0', '1.0', 'ɕ j e˧˥'],\n",
       " ['㐖毒', '0.99', '0.26', '1.0', '1.0', 'ɕ j e˧˥ t u˧˥']]"
      ]
     },
     "execution_count": 4,
     "metadata": {},
     "output_type": "execute_result"
    }
   ],
   "source": [
    "pdict_list[:5]"
   ]
  },
  {
   "cell_type": "markdown",
   "id": "96ed2863-2bbe-41f3-b1ba-3a6efebdc997",
   "metadata": {},
   "source": [
    "## Set mapping rules"
   ]
  },
  {
   "cell_type": "code",
   "execution_count": 5,
   "id": "a2247579-1c6e-46f9-b39e-1c8b6ce1ef08",
   "metadata": {
    "tags": []
   },
   "outputs": [],
   "source": [
    "mappings = {\n",
    "    \"ʈʂ ʐ̩\": \"ts z̩\",\n",
    "    \"ʈʂʰ ʐ̩\": \"tsʰ z̩\",\n",
    "    \"ʂ ʐ̩\": \"s z̩\",\n",
    "    \"ts z̩\": \"ʈʂ ʐ̩\",\n",
    "    \"tsʰ z̩\": \"ʈʂʰ ʐ̩\",\n",
    "    \"s z̩\": \"ʂ ʐ̩\",\n",
    "    \"ʈʂ \": \"ts \",\n",
    "    \"ʈʂʰ \": \"tsʰ \",\n",
    "    \"ʂ \": \"s \",    \n",
    "    \"ts \": \"ʈʂ \",\n",
    "    \"tsʰ \": \"ʈʂʰ \",\n",
    "    \"s \": \"ʂ \"\n",
    "}\n",
    "\n",
    "pat = re.compile(\"|\".join(mappings.keys()))"
   ]
  },
  {
   "cell_type": "code",
   "execution_count": 6,
   "id": "c135e347-a60f-4014-8c21-4fd1caac05f6",
   "metadata": {
    "tags": []
   },
   "outputs": [],
   "source": [
    "def make_variants(ori_pron: str, matches: List[re.Match], debug=False):\n",
    "    spans = [x.span() for x in matches] \n",
    "    variants = []\n",
    "    _print = print if debug else lambda *x: ...\n",
    "    _print(\"Origin:\", ori_pron)\n",
    "    for comb in product(*[[0, 1]]*len(matches)):    \n",
    "        # first segment before first match\n",
    "        new_pron = ori_pron[:spans[0][0]]\n",
    "        for idx, flag in enumerate(comb):\n",
    "            ori_phone = matches[idx].group()\n",
    "            if flag == 0:\n",
    "                new_pron += ori_phone\n",
    "            else:\n",
    "                new_pron += mappings[ori_phone]\n",
    "            if idx < len(comb)-1:\n",
    "                # there is a following match\n",
    "                new_pron += ori_pron[spans[idx][1]:spans[idx+1][0]]\n",
    "            else:\n",
    "                # this is the last match\n",
    "                new_pron += ori_pron[spans[idx][1]:]\n",
    "        _print(comb, new_pron)\n",
    "        variants.append(new_pron)\n",
    "    return variants"
   ]
  },
  {
   "cell_type": "code",
   "execution_count": 7,
   "id": "61727119-d4da-4b80-b6e4-cc285ce7bdc4",
   "metadata": {
    "tags": []
   },
   "outputs": [
    {
     "data": {
      "text/plain": [
       "['ʈʂ ə˥˥ n ʂ ʐ̩˧˥', 'ʈʂ ə˥˥ n s z̩˧˥', 'ts ə˥˥ n ʂ ʐ̩˧˥', 'ts ə˥˥ n s z̩˧˥']"
      ]
     },
     "execution_count": 7,
     "metadata": {},
     "output_type": "execute_result"
    }
   ],
   "source": [
    "make_variants(s:=\"ʈʂ ə˥˥ n ʂ ʐ̩˧˥\", list(pat.finditer(s)))"
   ]
  },
  {
   "cell_type": "code",
   "execution_count": 8,
   "id": "a8d4aa9b-3900-4753-a5d3-5a087304df94",
   "metadata": {
    "tags": []
   },
   "outputs": [
    {
     "data": {
      "text/plain": [
       "['ʈʂ ʐ̩˥˩ ʈʂʰ o˧˥ ŋ',\n",
       " 'ʈʂ ʐ̩˥˩ tsʰ o˧˥ ŋ',\n",
       " 'ts z̩˥˩ ʈʂʰ o˧˥ ŋ',\n",
       " 'ts z̩˥˩ tsʰ o˧˥ ŋ']"
      ]
     },
     "execution_count": 8,
     "metadata": {},
     "output_type": "execute_result"
    }
   ],
   "source": [
    "make_variants(s:=\"ʈʂ ʐ̩˥˩ ʈʂʰ o˧˥ ŋ\", list(pat.finditer(s)))"
   ]
  },
  {
   "cell_type": "code",
   "execution_count": 9,
   "id": "c0bbb755-9ae6-4d49-8d36-6ba5197e72c3",
   "metadata": {
    "tags": []
   },
   "outputs": [
    {
     "name": "stdout",
     "output_type": "stream",
     "text": [
      "Origin: ʈʂ u˥˥ ŋ\n",
      "(0,) ʈʂ u˥˥ ŋ\n",
      "(1,) ts u˥˥ ŋ\n",
      "Origin: ʈʂ ʐ̩˥˥ ʈʂ u˥˥\n",
      "(0, 0) ʈʂ ʐ̩˥˥ ʈʂ u˥˥\n",
      "(0, 1) ʈʂ ʐ̩˥˥ ts u˥˥\n",
      "(1, 0) ts z̩˥˥ ʈʂ u˥˥\n",
      "(1, 1) ts z̩˥˥ ts u˥˥\n",
      "Origin: ʈʂ u˥˥ ŋ ʂ a˥˥ n ʈʂ w a˥˥ ŋ\n",
      "(0, 0, 0) ʈʂ u˥˥ ŋ ʂ a˥˥ n ʈʂ w a˥˥ ŋ\n",
      "(0, 0, 1) ʈʂ u˥˥ ŋ ʂ a˥˥ n ts w a˥˥ ŋ\n",
      "(0, 1, 0) ʈʂ u˥˥ ŋ s a˥˥ n ʈʂ w a˥˥ ŋ\n",
      "(0, 1, 1) ʈʂ u˥˥ ŋ s a˥˥ n ts w a˥˥ ŋ\n",
      "(1, 0, 0) ts u˥˥ ŋ ʂ a˥˥ n ʈʂ w a˥˥ ŋ\n",
      "(1, 0, 1) ts u˥˥ ŋ ʂ a˥˥ n ts w a˥˥ ŋ\n",
      "(1, 1, 0) ts u˥˥ ŋ s a˥˥ n ʈʂ w a˥˥ ŋ\n",
      "(1, 1, 1) ts u˥˥ ŋ s a˥˥ n ts w a˥˥ ŋ\n"
     ]
    }
   ],
   "source": [
    "## simple testing\n",
    "def compare_list(x,y):\n",
    "    return frozenset(x) == frozenset(y)\n",
    "assert compare_list(  # 中\n",
    "            make_variants(s:=\"ʈʂ u˥˥ ŋ\", list(pat.finditer(s)), debug=True),\n",
    "            ['ʈʂ u˥˥ ŋ', 'ts u˥˥ ŋ'])\n",
    "assert compare_list( # 蜘蛛\n",
    "            make_variants(s:=\"ʈʂ ʐ̩˥˥ ʈʂ u˥˥\", list(pat.finditer(s)), debug=True),\n",
    "            ['ʈʂ ʐ̩˥˥ ʈʂ u˥˥', 'ʈʂ ʐ̩˥˥ ts u˥˥', 'ts z̩˥˥ ʈʂ u˥˥', 'ts z̩˥˥ ts u˥˥'])\n",
    "assert compare_list( # 中山裝\n",
    "            make_variants(s:=\"ʈʂ u˥˥ ŋ ʂ a˥˥ n ʈʂ w a˥˥ ŋ\", list(pat.finditer(s)), debug=True),\n",
    "            ['ʈʂ u˥˥ ŋ ʂ a˥˥ n ʈʂ w a˥˥ ŋ',\n",
    "             'ʈʂ u˥˥ ŋ ʂ a˥˥ n ts w a˥˥ ŋ',\n",
    "             'ʈʂ u˥˥ ŋ s a˥˥ n ʈʂ w a˥˥ ŋ',\n",
    "             'ʈʂ u˥˥ ŋ s a˥˥ n ts w a˥˥ ŋ',\n",
    "             'ts u˥˥ ŋ ʂ a˥˥ n ʈʂ w a˥˥ ŋ',\n",
    "             'ts u˥˥ ŋ ʂ a˥˥ n ts w a˥˥ ŋ',\n",
    "             'ts u˥˥ ŋ s a˥˥ n ʈʂ w a˥˥ ŋ',\n",
    "             'ts u˥˥ ŋ s a˥˥ n ts w a˥˥ ŋ'])\n"
   ]
  },
  {
   "cell_type": "markdown",
   "id": "05e3ed56-315e-4a06-8896-af78f80051df",
   "metadata": {},
   "source": [
    "## Main Loop"
   ]
  },
  {
   "cell_type": "code",
   "execution_count": 10,
   "id": "703ba379-a335-4fc9-bc35-54162c89ee32",
   "metadata": {
    "tags": []
   },
   "outputs": [],
   "source": [
    "vardict_list = []\n",
    "for item_x in pdict_list:    \n",
    "    ori_pron = item_x[5]\n",
    "    matches = list(pat.finditer(ori_pron))\n",
    "    n_matches = len(matches)                  \n",
    "    if n_matches == 0:\n",
    "        vardict_list.append(item_x)\n",
    "    else:\n",
    "        variants = make_variants(ori_pron, matches)\n",
    "        word = item_x[0]\n",
    "        pron_prior = str(round(1/(2**len(matches)),2))\n",
    "        sil_weight = str(0.5)\n",
    "        vardict_list.extend([word, pron_prior, sil_weight, sil_weight, sil_weight, var_x]\n",
    "                             for var_x in variants)"
   ]
  },
  {
   "cell_type": "code",
   "execution_count": 11,
   "id": "34654ac9-de84-4e63-8af2-7794b418aad8",
   "metadata": {
    "tags": []
   },
   "outputs": [
    {
     "data": {
      "text/plain": [
       "(82661, 131379)"
      ]
     },
     "execution_count": 11,
     "metadata": {},
     "output_type": "execute_result"
    }
   ],
   "source": [
    "len(pdict_list), len(vardict_list)"
   ]
  },
  {
   "cell_type": "markdown",
   "id": "9a92aae4-f02b-45e9-9497-60941919cf4f",
   "metadata": {
    "tags": []
   },
   "source": [
    "## Write file"
   ]
  },
  {
   "cell_type": "code",
   "execution_count": 12,
   "id": "40a89f84-e9a6-44ec-b34b-277ea184af0b",
   "metadata": {
    "tags": []
   },
   "outputs": [],
   "source": [
    "\n",
    "var_dict_path = base_dir / \"mandarin_taiwan_mfa_retrovar.dict\"\n",
    "with var_dict_path.open(\"w\") as f:\n",
    "    for item_x in vardict_list:\n",
    "        f.write(\"\\t\".join(item_x))\n",
    "        f.write(\"\\n\")"
   ]
  },
  {
   "cell_type": "code",
   "execution_count": 13,
   "id": "444e4f90-a694-4542-ac55-2fd2c8bfbcb3",
   "metadata": {
    "tags": []
   },
   "outputs": [
    {
     "name": "stdout",
     "output_type": "stream",
     "text": [
      "b853afe049ce2f12fce2818abc615d416fb01584  mandarin_taiwan_mfa_retrovar.dict\n"
     ]
    }
   ],
   "source": [
    "!cd {var_dict_path.parent} && sha1sum {var_dict_path.name}"
   ]
  },
  {
   "cell_type": "code",
   "execution_count": null,
   "id": "bc899799-4184-496a-8e5e-d450ebc022e7",
   "metadata": {},
   "outputs": [],
   "source": []
  }
 ],
 "metadata": {
  "kernelspec": {
   "display_name": "Python 3 (ipykernel)",
   "language": "python",
   "name": "python3"
  },
  "language_info": {
   "codemirror_mode": {
    "name": "ipython",
    "version": 3
   },
   "file_extension": ".py",
   "mimetype": "text/x-python",
   "name": "python",
   "nbconvert_exporter": "python",
   "pygments_lexer": "ipython3",
   "version": "3.10.10"
  }
 },
 "nbformat": 4,
 "nbformat_minor": 5
}
