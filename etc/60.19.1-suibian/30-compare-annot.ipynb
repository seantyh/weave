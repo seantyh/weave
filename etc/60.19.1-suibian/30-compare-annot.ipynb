{
 "cells": [
  {
   "attachments": {},
   "cell_type": "markdown",
   "metadata": {},
   "source": [
    "## Dependencies"
   ]
  },
  {
   "attachments": {},
   "cell_type": "markdown",
   "metadata": {},
   "source": [
    "```\n",
    "# 60.19.1/10\n",
    "1273da041af906c8b222591979dd93c870c76cb9  ../../data/suibian/suibian_phones_loglik.csv\n",
    "c8fb196927a5c8090559f66eea9d9c7726a5c80d  ../../data/suibian/suibian_feats.csv\n",
    "```"
   ]
  },
  {
   "cell_type": "code",
   "execution_count": 1,
   "metadata": {},
   "outputs": [
    {
     "name": "stdout",
     "output_type": "stream",
     "text": [
      "1273da041af906c8b222591979dd93c870c76cb9  ../../data/suibian/suibian_phones_loglik.csv\n",
      "c8fb196927a5c8090559f66eea9d9c7726a5c80d  ../../data/suibian/suibian_feats.csv\n"
     ]
    }
   ],
   "source": [
    "phones_df_path = \"../../data/suibian/suibian_phones_loglik.csv\"\n",
    "feats_df_path = \"../../data/suibian/suibian_feats.csv\"\n",
    "!sha1sum $phones_df_path $feats_df_path"
   ]
  },
  {
   "attachments": {},
   "cell_type": "markdown",
   "metadata": {},
   "source": [
    "## Load Data"
   ]
  },
  {
   "cell_type": "code",
   "execution_count": 2,
   "metadata": {},
   "outputs": [],
   "source": [
    "import pandas as pd\n",
    "WORD = \"隨便\"\n",
    "phones_df = pd.read_csv(phones_df_path)\n",
    "feats_df = pd.read_csv(feats_df_path)"
   ]
  },
  {
   "cell_type": "code",
   "execution_count": 3,
   "metadata": {},
   "outputs": [
    {
     "data": {
      "text/plain": [
       "(1424, 49)"
      ]
     },
     "execution_count": 3,
     "metadata": {},
     "output_type": "execute_result"
    }
   ],
   "source": [
    "phones_df.shape "
   ]
  },
  {
   "cell_type": "code",
   "execution_count": 4,
   "metadata": {},
   "outputs": [
    {
     "data": {
      "text/html": [
       "<div>\n",
       "<style scoped>\n",
       "    .dataframe tbody tr th:only-of-type {\n",
       "        vertical-align: middle;\n",
       "    }\n",
       "\n",
       "    .dataframe tbody tr th {\n",
       "        vertical-align: top;\n",
       "    }\n",
       "\n",
       "    .dataframe thead th {\n",
       "        text-align: right;\n",
       "    }\n",
       "</style>\n",
       "<table border=\"1\" class=\"dataframe\">\n",
       "  <thead>\n",
       "    <tr style=\"text-align: right;\">\n",
       "      <th></th>\n",
       "      <th>utt_id</th>\n",
       "      <th>t</th>\n",
       "      <th>phone</th>\n",
       "      <th>ml_phone</th>\n",
       "      <th>sil</th>\n",
       "      <th>spn</th>\n",
       "      <th>a</th>\n",
       "      <th>aj</th>\n",
       "      <th>aw</th>\n",
       "      <th>o</th>\n",
       "      <th>...</th>\n",
       "      <th>ts</th>\n",
       "      <th>tsʰ</th>\n",
       "      <th>ɕ</th>\n",
       "      <th>z</th>\n",
       "      <th>z̩</th>\n",
       "      <th>s</th>\n",
       "      <th>ŋ</th>\n",
       "      <th>ŋ̍</th>\n",
       "      <th>ɻ</th>\n",
       "      <th>ʔ</th>\n",
       "    </tr>\n",
       "  </thead>\n",
       "  <tbody>\n",
       "    <tr>\n",
       "      <th>0</th>\n",
       "      <td>ZXQ_GY_3357</td>\n",
       "      <td>0</td>\n",
       "      <td>s</td>\n",
       "      <td>s</td>\n",
       "      <td>-7.760230</td>\n",
       "      <td>-5.340469</td>\n",
       "      <td>-13.153953</td>\n",
       "      <td>-11.517451</td>\n",
       "      <td>-12.777015</td>\n",
       "      <td>-7.815475</td>\n",
       "      <td>...</td>\n",
       "      <td>-2.632007</td>\n",
       "      <td>-2.135581</td>\n",
       "      <td>-2.840243</td>\n",
       "      <td>-10.105884</td>\n",
       "      <td>-8.159972</td>\n",
       "      <td>-0.920592</td>\n",
       "      <td>-14.133311</td>\n",
       "      <td>-14.133311</td>\n",
       "      <td>-14.201430</td>\n",
       "      <td>-14.459453</td>\n",
       "    </tr>\n",
       "    <tr>\n",
       "      <th>1</th>\n",
       "      <td>ZXQ_GY_3357</td>\n",
       "      <td>1</td>\n",
       "      <td>s</td>\n",
       "      <td>ʂ</td>\n",
       "      <td>-8.084499</td>\n",
       "      <td>-4.200573</td>\n",
       "      <td>-14.151817</td>\n",
       "      <td>-13.254002</td>\n",
       "      <td>-14.363815</td>\n",
       "      <td>-12.498680</td>\n",
       "      <td>...</td>\n",
       "      <td>-4.242767</td>\n",
       "      <td>-3.799923</td>\n",
       "      <td>-2.998569</td>\n",
       "      <td>-15.620865</td>\n",
       "      <td>-13.674953</td>\n",
       "      <td>-1.233650</td>\n",
       "      <td>-16.600349</td>\n",
       "      <td>-16.600349</td>\n",
       "      <td>-18.242882</td>\n",
       "      <td>-17.365234</td>\n",
       "    </tr>\n",
       "    <tr>\n",
       "      <th>2</th>\n",
       "      <td>ZXQ_GY_3357</td>\n",
       "      <td>2</td>\n",
       "      <td>s</td>\n",
       "      <td>s</td>\n",
       "      <td>-9.565180</td>\n",
       "      <td>-5.604002</td>\n",
       "      <td>-16.109534</td>\n",
       "      <td>-15.350348</td>\n",
       "      <td>-16.072615</td>\n",
       "      <td>-14.419035</td>\n",
       "      <td>...</td>\n",
       "      <td>-5.373827</td>\n",
       "      <td>-4.113650</td>\n",
       "      <td>-3.797114</td>\n",
       "      <td>-17.291193</td>\n",
       "      <td>-15.345286</td>\n",
       "      <td>-0.483443</td>\n",
       "      <td>-18.357508</td>\n",
       "      <td>-18.357508</td>\n",
       "      <td>-18.983919</td>\n",
       "      <td>-17.063307</td>\n",
       "    </tr>\n",
       "    <tr>\n",
       "      <th>3</th>\n",
       "      <td>ZXQ_GY_3357</td>\n",
       "      <td>3</td>\n",
       "      <td>s</td>\n",
       "      <td>s</td>\n",
       "      <td>-11.225339</td>\n",
       "      <td>-5.542615</td>\n",
       "      <td>-19.381956</td>\n",
       "      <td>-18.148511</td>\n",
       "      <td>-18.735116</td>\n",
       "      <td>-16.947393</td>\n",
       "      <td>...</td>\n",
       "      <td>-6.444936</td>\n",
       "      <td>-4.965444</td>\n",
       "      <td>-3.570695</td>\n",
       "      <td>-19.574193</td>\n",
       "      <td>-17.628282</td>\n",
       "      <td>-0.388345</td>\n",
       "      <td>-21.288297</td>\n",
       "      <td>-21.288297</td>\n",
       "      <td>-21.166013</td>\n",
       "      <td>-19.876005</td>\n",
       "    </tr>\n",
       "    <tr>\n",
       "      <th>4</th>\n",
       "      <td>ZXQ_GY_3357</td>\n",
       "      <td>4</td>\n",
       "      <td>s</td>\n",
       "      <td>s</td>\n",
       "      <td>-13.865740</td>\n",
       "      <td>-12.093344</td>\n",
       "      <td>-27.630392</td>\n",
       "      <td>-26.267866</td>\n",
       "      <td>-26.784742</td>\n",
       "      <td>-21.428354</td>\n",
       "      <td>...</td>\n",
       "      <td>-8.822866</td>\n",
       "      <td>-8.897547</td>\n",
       "      <td>-4.101191</td>\n",
       "      <td>-23.046228</td>\n",
       "      <td>-21.100321</td>\n",
       "      <td>-0.020071</td>\n",
       "      <td>-29.411276</td>\n",
       "      <td>-29.411276</td>\n",
       "      <td>-28.679525</td>\n",
       "      <td>-26.354857</td>\n",
       "    </tr>\n",
       "  </tbody>\n",
       "</table>\n",
       "<p>5 rows × 49 columns</p>\n",
       "</div>"
      ],
      "text/plain": [
       "        utt_id  t phone ml_phone        sil        spn          a         aj   \n",
       "0  ZXQ_GY_3357  0     s        s  -7.760230  -5.340469 -13.153953 -11.517451  \\\n",
       "1  ZXQ_GY_3357  1     s        ʂ  -8.084499  -4.200573 -14.151817 -13.254002   \n",
       "2  ZXQ_GY_3357  2     s        s  -9.565180  -5.604002 -16.109534 -15.350348   \n",
       "3  ZXQ_GY_3357  3     s        s -11.225339  -5.542615 -19.381956 -18.148511   \n",
       "4  ZXQ_GY_3357  4     s        s -13.865740 -12.093344 -27.630392 -26.267866   \n",
       "\n",
       "          aw          o  ...        ts       tsʰ         ɕ          z   \n",
       "0 -12.777015  -7.815475  ... -2.632007 -2.135581 -2.840243 -10.105884  \\\n",
       "1 -14.363815 -12.498680  ... -4.242767 -3.799923 -2.998569 -15.620865   \n",
       "2 -16.072615 -14.419035  ... -5.373827 -4.113650 -3.797114 -17.291193   \n",
       "3 -18.735116 -16.947393  ... -6.444936 -4.965444 -3.570695 -19.574193   \n",
       "4 -26.784742 -21.428354  ... -8.822866 -8.897547 -4.101191 -23.046228   \n",
       "\n",
       "          z̩         s          ŋ         ŋ̍          ɻ          ʔ  \n",
       "0  -8.159972 -0.920592 -14.133311 -14.133311 -14.201430 -14.459453  \n",
       "1 -13.674953 -1.233650 -16.600349 -16.600349 -18.242882 -17.365234  \n",
       "2 -15.345286 -0.483443 -18.357508 -18.357508 -18.983919 -17.063307  \n",
       "3 -17.628282 -0.388345 -21.288297 -21.288297 -21.166013 -19.876005  \n",
       "4 -21.100321 -0.020071 -29.411276 -29.411276 -28.679525 -26.354857  \n",
       "\n",
       "[5 rows x 49 columns]"
      ]
     },
     "execution_count": 4,
     "metadata": {},
     "output_type": "execute_result"
    }
   ],
   "source": [
    "phones_df.head()"
   ]
  },
  {
   "cell_type": "code",
   "execution_count": 5,
   "metadata": {},
   "outputs": [
    {
     "data": {
      "text/plain": [
       "phone\n",
       "s    39\n",
       "ʂ     2\n",
       "Name: count, dtype: int64"
      ]
     },
     "execution_count": 5,
     "metadata": {},
     "output_type": "execute_result"
    }
   ],
   "source": [
    "onset_phone = phones_df.groupby(\"utt_id\").first().iloc[:, :2]\n",
    "onset_phone.phone.value_counts()"
   ]
  },
  {
   "cell_type": "code",
   "execution_count": 6,
   "metadata": {},
   "outputs": [
    {
     "data": {
      "text/html": [
       "<div>\n",
       "<style scoped>\n",
       "    .dataframe tbody tr th:only-of-type {\n",
       "        vertical-align: middle;\n",
       "    }\n",
       "\n",
       "    .dataframe tbody tr th {\n",
       "        vertical-align: top;\n",
       "    }\n",
       "\n",
       "    .dataframe thead th {\n",
       "        text-align: right;\n",
       "    }\n",
       "</style>\n",
       "<table border=\"1\" class=\"dataframe\">\n",
       "  <thead>\n",
       "    <tr style=\"text-align: right;\">\n",
       "      <th></th>\n",
       "      <th>t</th>\n",
       "      <th>phone</th>\n",
       "    </tr>\n",
       "    <tr>\n",
       "      <th>utt_id</th>\n",
       "      <th></th>\n",
       "      <th></th>\n",
       "    </tr>\n",
       "  </thead>\n",
       "  <tbody>\n",
       "    <tr>\n",
       "      <th>WJH_GY_1574</th>\n",
       "      <td>0</td>\n",
       "      <td>ʂ</td>\n",
       "    </tr>\n",
       "    <tr>\n",
       "      <th>WZW_GY_1205</th>\n",
       "      <td>0</td>\n",
       "      <td>ʂ</td>\n",
       "    </tr>\n",
       "  </tbody>\n",
       "</table>\n",
       "</div>"
      ],
      "text/plain": [
       "             t phone\n",
       "utt_id              \n",
       "WJH_GY_1574  0     ʂ\n",
       "WZW_GY_1205  0     ʂ"
      ]
     },
     "execution_count": 6,
     "metadata": {},
     "output_type": "execute_result"
    }
   ],
   "source": [
    "onset_phone.query(\"phone!='s'\")"
   ]
  },
  {
   "cell_type": "code",
   "execution_count": null,
   "metadata": {},
   "outputs": [],
   "source": []
  }
 ],
 "metadata": {
  "kernelspec": {
   "display_name": "mfa",
   "language": "python",
   "name": "python3"
  },
  "language_info": {
   "codemirror_mode": {
    "name": "ipython",
    "version": 3
   },
   "file_extension": ".py",
   "mimetype": "text/x-python",
   "name": "python",
   "nbconvert_exporter": "python",
   "pygments_lexer": "ipython3",
   "version": "3.11.3"
  },
  "orig_nbformat": 4
 },
 "nbformat": 4,
 "nbformat_minor": 2
}
