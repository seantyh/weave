{
 "cells": [
  {
   "cell_type": "code",
   "execution_count": 1,
   "id": "ecf68fa0-e783-4e8c-bdd8-4fa93ee0a2fc",
   "metadata": {},
   "outputs": [],
   "source": [
    "# %load_ext autoreload\n",
    "# %autoreload 2\n",
    "%load_ext watermark"
   ]
  },
  {
   "cell_type": "code",
   "execution_count": 2,
   "id": "553781ce-78e0-4708-b40d-5b894b9a92a6",
   "metadata": {},
   "outputs": [],
   "source": [
    "import sys\n",
    "if \"../src\" not in sys.path:\n",
    "    sys.path.append(\"../src\")\n",
    "    \n",
    "import json\n",
    "import pandas as pd\n",
    "from pathlib import Path\n",
    "from itertools import chain\n",
    "from typing import cast, Dict\n",
    "import subprocess\n",
    "from praatio import textgrid\n",
    "from weave import Speech, Utterance, Word, Character, Phone\n",
    "from weave import BuildUtt"
   ]
  },
  {
   "attachments": {},
   "cell_type": "markdown",
   "id": "11b17c78",
   "metadata": {},
   "source": [
    "## Aligning annotations and MFA"
   ]
  },
  {
   "cell_type": "code",
   "execution_count": 3,
   "id": "7cde345d",
   "metadata": {},
   "outputs": [],
   "source": [
    "import logging\n",
    "\n",
    "logger = logging.getLogger()\n",
    "logger.addHandler(logging.FileHandler(\"../data/fon_tg/align_annot.log\", \"w\"))\n",
    "logger.addHandler(logging.StreamHandler())\n",
    "logger.handlers[1].setLevel(logging.WARNING)\n",
    "logger.setLevel(logging.DEBUG)\n",
    "logger.handlers[0].setFormatter(logging.Formatter('[%(levelname)s] (%(name)s) %(asctime)s: %(message)s'))"
   ]
  },
  {
   "cell_type": "code",
   "execution_count": 4,
   "id": "500ccee8-9aae-40bd-bf41-9a844ad47207",
   "metadata": {},
   "outputs": [],
   "source": [
    "### Read charac-boundary dictionary\n",
    "word_syll_map = pd.read_csv(Path(\"../data/mandarin_taiwan_mfa_retrovar.syll.tsv\"), sep=\"\\t\")\\\n",
    "                  .groupby(\"ipa\").first().drop(\"word\", axis=1)\\\n",
    "                  .to_dict(orient=\"index\")\n",
    "word_syll_map = cast(Dict[str, Dict[str, str]], word_syll_map)"
   ]
  },
  {
   "cell_type": "code",
   "execution_count": 5,
   "id": "3e2d515b-a224-474e-92b5-c034230a769e",
   "metadata": {},
   "outputs": [],
   "source": [
    "mfa_data_dir = Path(\"~/lago/mfa_data/aligned_retro\").expanduser()\n",
    "tg_dir = Path(\"../data/fon_tg\")"
   ]
  },
  {
   "cell_type": "code",
   "execution_count": 6,
   "id": "05b26266",
   "metadata": {},
   "outputs": [
    {
     "name": "stderr",
     "output_type": "stream",
     "text": [
      "Not found: /Users/seantyh/lago/mfa_data/aligned_retro/CN_GY/CN_GY_077.TextGrid\n"
     ]
    },
    {
     "name": "stdout",
     "output_type": "stream",
     "text": [
      "56751c02a187be3d0cf6da36aca7e9304f8202e5  ../data/fon_tg/CN_GY_label.mfa.TextGrid\n",
      "4f60869e2ac99eaf774de638af4d9807deb96995  ../data/fon_tg/CN_GY_label.mfa.json\n"
     ]
    }
   ],
   "source": [
    "speaker_id = \"CN_GY\"\n",
    "tg_path = tg_dir / f\"{speaker_id}_label.TextGrid\"\n",
    "speech = Speech.from_textgrid_fon(tg_path, [\"note\", \"realization\"])\n",
    "\n",
    "mfa_speaker_dir = mfa_data_dir / speaker_id\n",
    "mfa_speaker_paths = list(mfa_speaker_dir.glob(\"*.TextGrid\"))\n",
    "mfa_speaker_paths.sort()\n",
    "\n",
    "mfa_utt_list = []\n",
    "# for mfa_tg_x in mfa_speaker_paths:\n",
    "for utt_idx in range(len(speech.utterances)):\n",
    "  mfa_tg_x = mfa_speaker_dir / f\"{speaker_id}_{utt_idx:03d}.TextGrid\"\n",
    "  if not mfa_tg_x.exists():\n",
    "    logger.warning(\"Not found: %s\", str(mfa_tg_x))\n",
    "    continue\n",
    "  \n",
    "  fa = textgrid.openTextgrid(str(mfa_tg_x), False)\n",
    "  fa_words = fa.getTier(\"words\")\n",
    "  fa_phones = fa.getTier(\"phones\")\n",
    "  mfa_wlist = BuildUtt.build_words_phones(fa_words, fa_phones)  #type: ignore\n",
    "  mfa_words = BuildUtt.build_characters(mfa_wlist, word_syll_map)  #type: ignore\n",
    "  mfa_utt = Utterance.from_words(mfa_words)\n",
    "  mfa_utt = BuildUtt.align_with_utterance_cyy_annot(mfa_utt, speech.utterances[utt_idx])\n",
    "  mfa_utt_list.append(mfa_utt)\n",
    "  \n",
    "mfa_speech = Speech.from_utterances(mfa_utt_list)\n",
    "mfa_speech.to_textgrid(tg_path.with_suffix(\".mfa.TextGrid\"))\n",
    "tg_path.with_suffix(\".mfa.json\").write_text(json.dumps(mfa_speech.to_dict()))\n",
    "mfa_tg_path = tg_path.with_suffix(\".mfa.TextGrid\")\n",
    "mfa_json_path = tg_path.with_suffix(\".mfa.json\")\n",
    "logger.info(\"Done: %s\", str(mfa_tg_path))\n",
    "logger.info(\"Done: %s\", str(mfa_json_path))\n",
    "\n",
    "print(subprocess.run([\"sha1sum\", str(mfa_tg_path)], capture_output=True).stdout.decode().strip())\n",
    "print(subprocess.run([\"sha1sum\", str(mfa_json_path)], capture_output=True).stdout.decode().strip())"
   ]
  },
  {
   "attachments": {},
   "cell_type": "markdown",
   "id": "c5d23917",
   "metadata": {},
   "source": [
    "## Test loading"
   ]
  },
  {
   "cell_type": "code",
   "execution_count": 7,
   "id": "093e4acf",
   "metadata": {},
   "outputs": [],
   "source": [
    "\n",
    "speaker_id = \"CN_GY\"\n",
    "tg_dir = Path(\"../data/fon_tg\")\n",
    "tg_path = tg_dir / f\"{speaker_id}_label.TextGrid\"\n",
    "\n",
    "indict = json.loads(tg_path.with_suffix(\".mfa.json\").read_text())\n",
    "mfa_loaded = Speech.from_dict(indict)"
   ]
  },
  {
   "cell_type": "code",
   "execution_count": 8,
   "id": "fc514f5b",
   "metadata": {},
   "outputs": [
    {
     "data": {
      "text/plain": [
       "<Speech: 305 utterances, 1830.06 sec(s)>"
      ]
     },
     "execution_count": 8,
     "metadata": {},
     "output_type": "execute_result"
    }
   ],
   "source": [
    "mfa_loaded"
   ]
  },
  {
   "cell_type": "code",
   "execution_count": 9,
   "id": "d02ec29d",
   "metadata": {},
   "outputs": [
    {
     "data": {
      "text/plain": [
       "<Word: [2.64-3.09] 沒有>\n",
       " <Character: [2.64-2.96] 沒>\n",
       "  <Phone: [2.64-2.76] m>\n",
       "  <Phone: [2.76-2.96] ej˧˥>\n",
       " <Character: [2.96-3.09] 有>\n",
       "  <Phone: [2.96-3.05] j>\n",
       "  <Phone: [3.05-3.09] ow˨˩˦>"
      ]
     },
     "execution_count": 9,
     "metadata": {},
     "output_type": "execute_result"
    }
   ],
   "source": [
    "mfa_loaded.utterances[0].words[0]"
   ]
  },
  {
   "attachments": {},
   "cell_type": "markdown",
   "id": "352a1b42",
   "metadata": {},
   "source": [
    "## Watermarks"
   ]
  },
  {
   "cell_type": "code",
   "execution_count": 10,
   "id": "8b40b2f9",
   "metadata": {},
   "outputs": [
    {
     "name": "stdout",
     "output_type": "stream",
     "text": [
      "Last updated: 2023-05-10T11:18:57.480827+02:00\n",
      "\n",
      "Python implementation: CPython\n",
      "Python version       : 3.10.10\n",
      "IPython version      : 8.12.0\n",
      "\n",
      "Compiler    : Clang 14.0.6 \n",
      "OS          : Darwin\n",
      "Release     : 22.1.0\n",
      "Machine     : arm64\n",
      "Processor   : arm\n",
      "CPU cores   : 8\n",
      "Architecture: 64bit\n",
      "\n"
     ]
    }
   ],
   "source": [
    "%watermark"
   ]
  },
  {
   "cell_type": "code",
   "execution_count": 11,
   "id": "77ebdd48",
   "metadata": {},
   "outputs": [
    {
     "name": "stdout",
     "output_type": "stream",
     "text": [
      "logging: 0.5.1.2\n",
      "sys    : 3.10.10 | packaged by conda-forge | (main, Mar 24 2023, 20:12:31) [Clang 14.0.6 ]\n",
      "pandas : 1.5.2\n",
      "json   : 2.0.9\n",
      "praatio: 6.0.0\n",
      "\n"
     ]
    }
   ],
   "source": [
    "%watermark --iversions"
   ]
  }
 ],
 "metadata": {
  "kernelspec": {
   "display_name": "Python 3 (ipykernel)",
   "language": "python",
   "name": "python3"
  },
  "language_info": {
   "codemirror_mode": {
    "name": "ipython",
    "version": 3
   },
   "file_extension": ".py",
   "mimetype": "text/x-python",
   "name": "python",
   "nbconvert_exporter": "python",
   "pygments_lexer": "ipython3",
   "version": "3.10.10"
  }
 },
 "nbformat": 4,
 "nbformat_minor": 5
}
