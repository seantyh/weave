{
 "cells": [
  {
   "cell_type": "code",
   "execution_count": 1,
   "id": "18e609c0-7aa0-4d2e-a877-ec16bd5eb3eb",
   "metadata": {},
   "outputs": [],
   "source": [
    "%load_ext watermark"
   ]
  },
  {
   "cell_type": "markdown",
   "id": "aaacea3c-1b40-4259-8ad0-e90250d4a52d",
   "metadata": {},
   "source": [
    "## Data dependencies"
   ]
  },
  {
   "cell_type": "markdown",
   "id": "719909d1-6bed-4e8b-a036-049c66c55d53",
   "metadata": {},
   "source": [
    "```\n",
    "Directory hash: '878029d4ec735540276c27aac3b21c7221088c34'\n",
    "```"
   ]
  },
  {
   "cell_type": "code",
   "execution_count": 2,
   "id": "cfe0575b-3587-4c17-bc11-9380b7ca9d93",
   "metadata": {},
   "outputs": [
    {
     "data": {
      "text/plain": [
       "'878029d4ec735540276c27aac3b21c7221088c34'"
      ]
     },
     "execution_count": 2,
     "metadata": {},
     "output_type": "execute_result"
    }
   ],
   "source": [
    "from hashlib import sha1\n",
    "from pathlib import Path\n",
    "asp_dir = \"../data/asp\"\n",
    "h = sha1()\n",
    "for path_x in Path(asp_dir).glob(\"*.txt\"):\n",
    "    h.update(path_x.read_text().encode())\n",
    "h.hexdigest()"
   ]
  },
  {
   "cell_type": "markdown",
   "id": "520181f5-2224-4e6a-8b8a-c3d77c339f1f",
   "metadata": {},
   "source": [
    "## Load data"
   ]
  },
  {
   "cell_type": "code",
   "execution_count": 3,
   "id": "afbd3947-0de8-4d3b-9640-e499dac9ca42",
   "metadata": {},
   "outputs": [],
   "source": [
    "import pandas as pd\n",
    "import torchaudio\n",
    "from speechbrain.lobes.features import MFCC\n",
    "from speechbrain.dataio.dataio import read_audio"
   ]
  },
  {
   "cell_type": "code",
   "execution_count": 4,
   "id": "cc62f776-fb77-4e08-b25a-7b021b07ec85",
   "metadata": {},
   "outputs": [],
   "source": [
    "from tqdm.auto import tqdm"
   ]
  },
  {
   "cell_type": "code",
   "execution_count": 5,
   "id": "7b360615-3ccd-4480-9bdd-dc47b3ad8784",
   "metadata": {},
   "outputs": [
    {
     "data": {
      "application/vnd.jupyter.widget-view+json": {
       "model_id": "7370438ec1fe4d3bab7dd3917920b0ec",
       "version_major": 2,
       "version_minor": 0
      },
      "text/plain": [
       "  0%|          | 0/2512 [00:00<?, ?it/s]"
      ]
     },
     "metadata": {},
     "output_type": "display_data"
    },
    {
     "name": "stderr",
     "output_type": "stream",
     "text": [
      "/Users/seantyh/miniconda3/lib/python3.10/site-packages/torch/functional.py:641: UserWarning: stft with return_complex=False is deprecated. In a future pytorch release, stft will return complex tensors for all inputs, and return_complex=False will raise an error.\n",
      "Note: you can still call torch.view_as_real on the complex output to recover the old return format. (Triggered internally at /Users/runner/work/pytorch/pytorch/pytorch/aten/src/ATen/native/SpectralOps.cpp:867.)\n",
      "  return _VF.stft(input, n_fft, hop_length, win_length, window,  # type: ignore[attr-defined]\n"
     ]
    }
   ],
   "source": [
    "wav_dir = Path(\"../data/TaiwaneseMandarinCorpus/\")\n",
    "for path_x in Path(asp_dir).glob(\"*.txt\"):\n",
    "    df = pd.read_csv(path_x)\n",
    "    df_vec = pd.DataFrame(columns=[\"mfcc_first\", \"mfcc_mean\"], \n",
    "                          index=df.index)\n",
    "    wav_path = wav_dir / f\"{path_x.stem}.wav\"\n",
    "    assert wav_path.exists()\n",
    "    \n",
    "    wav, sr = torchaudio.load(wav_path)\n",
    "    ## by-item loop\n",
    "    for idx, row in tqdm(df.iterrows(), total=df.shape[0]):\n",
    "        start_frame = int(row.start_t * sr)\n",
    "        end_frame = int(row.end_t * sr)\n",
    "        seg = wav[:,start_frame:end_frame]\n",
    "        \n",
    "        n_fft = int(.025*sr)\n",
    "        mfcc_fn = MFCC(context=False, \n",
    "               win_length=25,\n",
    "               hop_length=10,\n",
    "               n_fft=n_fft,\n",
    "               sample_rate=sr, n_mfcc=20)\n",
    "        mfcc_tensor = mfcc_fn(seg)  # mfcc_tensor: (B, n_frame, n_mfcc_coef)\n",
    "        df_vec.at[idx, \"mfcc_first\"] = mfcc_tensor[0, 0, :].numpy()\n",
    "        df_vec.at[idx, \"mfcc_mean\"] = mfcc_tensor.mean(dim=1).squeeze().numpy()\n",
    "    break"
   ]
  },
  {
   "cell_type": "code",
   "execution_count": 6,
   "id": "89db068b-987a-411c-96ee-1f9c4986cf7c",
   "metadata": {},
   "outputs": [],
   "source": [
    "df_merged = df.join(df_vec)"
   ]
  },
  {
   "cell_type": "code",
   "execution_count": 7,
   "id": "05c0246b-9790-4d5f-829d-1c8ed85329e5",
   "metadata": {},
   "outputs": [
    {
     "name": "stdout",
     "output_type": "stream",
     "text": [
      "9b410e0f0043e71172f599c9e23184e68245302e  ../data/CXH2_GY.mfcc.parquet\n"
     ]
    }
   ],
   "source": [
    "sbjname = path_x.stem\n",
    "out_path = f\"../data/{sbjname}.mfcc.parquet\"\n",
    "df_merged.to_parquet(out_path)\n",
    "!sha1sum $out_path"
   ]
  },
  {
   "cell_type": "markdown",
   "id": "5fa5bf23-491c-4f18-940d-f887a50175d8",
   "metadata": {},
   "source": [
    "## Watermark"
   ]
  },
  {
   "cell_type": "code",
   "execution_count": 8,
   "id": "c66abbae-2958-41ea-95ea-ed521f33856b",
   "metadata": {},
   "outputs": [
    {
     "name": "stdout",
     "output_type": "stream",
     "text": [
      "Last updated: 2023-04-23T15:06:38.320823+02:00\n",
      "\n",
      "Python implementation: CPython\n",
      "Python version       : 3.10.10\n",
      "IPython version      : 8.12.0\n",
      "\n",
      "Compiler    : Clang 14.0.6 \n",
      "OS          : Darwin\n",
      "Release     : 22.1.0\n",
      "Machine     : arm64\n",
      "Processor   : arm\n",
      "CPU cores   : 8\n",
      "Architecture: 64bit\n",
      "\n"
     ]
    }
   ],
   "source": [
    "%watermark"
   ]
  },
  {
   "cell_type": "code",
   "execution_count": 9,
   "id": "49e04d30-97cb-43f3-aa02-30abb30e8896",
   "metadata": {},
   "outputs": [
    {
     "name": "stdout",
     "output_type": "stream",
     "text": [
      "pandas    : 1.5.2\n",
      "torchaudio: 2.0.1\n",
      "\n"
     ]
    }
   ],
   "source": [
    "%watermark --iversion"
   ]
  },
  {
   "cell_type": "code",
   "execution_count": null,
   "id": "ec88f98d-e6e1-4406-9896-0aaf3700ed7e",
   "metadata": {},
   "outputs": [],
   "source": []
  }
 ],
 "metadata": {
  "kernelspec": {
   "display_name": "Python 3 (ipykernel)",
   "language": "python",
   "name": "python3"
  },
  "language_info": {
   "codemirror_mode": {
    "name": "ipython",
    "version": 3
   },
   "file_extension": ".py",
   "mimetype": "text/x-python",
   "name": "python",
   "nbconvert_exporter": "python",
   "pygments_lexer": "ipython3",
   "version": "3.10.10"
  }
 },
 "nbformat": 4,
 "nbformat_minor": 5
}
