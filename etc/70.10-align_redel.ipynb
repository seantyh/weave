{
 "cells": [
  {
   "cell_type": "code",
   "execution_count": 1,
   "id": "ecf68fa0-e783-4e8c-bdd8-4fa93ee0a2fc",
   "metadata": {},
   "outputs": [],
   "source": [
    "# %load_ext autoreload\n",
    "# %autoreload 2\n",
    "%load_ext watermark"
   ]
  },
  {
   "cell_type": "code",
   "execution_count": 2,
   "id": "553781ce-78e0-4708-b40d-5b894b9a92a6",
   "metadata": {},
   "outputs": [],
   "source": [
    "import sys\n",
    "if \"../src\" not in sys.path:\n",
    "    sys.path.append(\"../src\")\n",
    "    \n",
    "import json\n",
    "import pandas as pd\n",
    "from pathlib import Path\n",
    "from itertools import chain\n",
    "from typing import cast, Dict\n",
    "import subprocess\n",
    "from tqdm.auto import tqdm\n",
    "from praatio import textgrid\n",
    "from weave import Speech, Utterance, Word, Character, Phone\n",
    "from weave import BuildUtt"
   ]
  },
  {
   "attachments": {},
   "cell_type": "markdown",
   "id": "11b17c78",
   "metadata": {},
   "source": [
    "## Aligning annotations and MFA"
   ]
  },
  {
   "cell_type": "code",
   "execution_count": 3,
   "id": "4d2720e4",
   "metadata": {},
   "outputs": [],
   "source": [
    "mfa_aligned_dir = Path(\"~/lago/mfa_data/aligned_retro_redel\").expanduser()\n",
    "tg_dir = Path(\"../data/retro_labels\")"
   ]
  },
  {
   "cell_type": "code",
   "execution_count": 4,
   "id": "7cde345d",
   "metadata": {},
   "outputs": [],
   "source": [
    "import logging\n",
    "\n",
    "logger = logging.getLogger()\n",
    "log_path = str(tg_dir / \"align_annot.log\")\n",
    "logger.addHandler(logging.FileHandler(log_path, \"w\"))\n",
    "logger.addHandler(logging.StreamHandler())\n",
    "logger.handlers[1].setLevel(logging.WARNING)\n",
    "logger.setLevel(logging.DEBUG)\n",
    "logger.handlers[0].setFormatter(logging.Formatter('[%(levelname)s] (%(name)s) %(asctime)s: %(message)s'))"
   ]
  },
  {
   "cell_type": "code",
   "execution_count": 5,
   "id": "500ccee8-9aae-40bd-bf41-9a844ad47207",
   "metadata": {},
   "outputs": [],
   "source": [
    "### Read charac-boundary dictionary\n",
    "word_syll_map = pd.read_csv(Path(\"../data/mandarin_taiwan_mfa_redelvar.syll.tsv\"), sep=\"\\t\")\\\n",
    "                  .groupby(\"ipa\").first().drop(\"word\", axis=1)\\\n",
    "                  .to_dict(orient=\"index\")\n",
    "word_syll_map = cast(Dict[str, Dict[str, str]], word_syll_map)"
   ]
  },
  {
   "cell_type": "code",
   "execution_count": 6,
   "id": "efef3e47",
   "metadata": {},
   "outputs": [
    {
     "data": {
      "text/plain": [
       "['LJH_GY', 'CJH_GY', 'KCZX_GY', 'XHY_GY', 'HSK_GY']"
      ]
     },
     "execution_count": 6,
     "metadata": {},
     "output_type": "execute_result"
    }
   ],
   "source": [
    "annot_files = list(tg_dir.glob(\"*.TextGrid\"))\n",
    "speaker_ids = [f.stem.replace(\"_label\", \"\") \n",
    "               for f in annot_files\n",
    "               if f.stem.endswith(\"_label\")]\n",
    "speaker_ids[:5]"
   ]
  },
  {
   "cell_type": "code",
   "execution_count": 7,
   "id": "74c321cb",
   "metadata": {},
   "outputs": [
    {
     "data": {
      "text/plain": [
       "PosixPath('../data/retro_labels')"
      ]
     },
     "execution_count": 7,
     "metadata": {},
     "output_type": "execute_result"
    }
   ],
   "source": [
    "tg_dir"
   ]
  },
  {
   "cell_type": "code",
   "execution_count": 8,
   "id": "05b26266",
   "metadata": {},
   "outputs": [
    {
     "data": {
      "application/vnd.jupyter.widget-view+json": {
       "model_id": "10c1a5dbef5e4156a597be5bb5d7572a",
       "version_major": 2,
       "version_minor": 0
      },
      "text/plain": [
       "  0%|          | 0/15 [00:00<?, ?it/s]"
      ]
     },
     "metadata": {},
     "output_type": "display_data"
    },
    {
     "name": "stdout",
     "output_type": "stream",
     "text": [
      "64e094defecf566f9da917794ade71e9b8c292d2  ../data/retro_labels/LJH_GY_label.mfa.TextGrid\n",
      "49deaf2686fb3ea8201d059aef4ba53abe4c7ca3  ../data/retro_labels/LJH_GY_label.mfa.json\n",
      "f2c7d4681a9d99076f91d839faa2bf33bb3eec7b  ../data/retro_labels/CJH_GY_label.mfa.TextGrid\n",
      "3bcae8b0f7bb2295f4113cfb7e7b3e819ea32027  ../data/retro_labels/CJH_GY_label.mfa.json\n"
     ]
    },
    {
     "name": "stderr",
     "output_type": "stream",
     "text": [
      "Not found: /Users/seantyh/lago/mfa_data/aligned_retro_redel/KCZX_GY/KCZX_GY_333.TextGrid\n"
     ]
    },
    {
     "name": "stdout",
     "output_type": "stream",
     "text": [
      "2c30f620f51a1758362a8b1230318f44bea1b59e  ../data/retro_labels/KCZX_GY_label.mfa.TextGrid\n",
      "3dbf7e92cf96d575c72f2ef622e0e1e003186b68  ../data/retro_labels/KCZX_GY_label.mfa.json\n"
     ]
    },
    {
     "name": "stderr",
     "output_type": "stream",
     "text": [
      "Not found: /Users/seantyh/lago/mfa_data/aligned_retro_redel/XHY_GY/XHY_GY_087.TextGrid\n",
      "Not found: /Users/seantyh/lago/mfa_data/aligned_retro_redel/XHY_GY/XHY_GY_088.TextGrid\n"
     ]
    },
    {
     "name": "stdout",
     "output_type": "stream",
     "text": [
      "95ec9bc1aed6122ee8ad4d1454adcfe3def7a71e  ../data/retro_labels/XHY_GY_label.mfa.TextGrid\n",
      "af008eba082ac007620e9dd59d76d2b28b6bbe3b  ../data/retro_labels/XHY_GY_label.mfa.json\n"
     ]
    },
    {
     "name": "stderr",
     "output_type": "stream",
     "text": [
      "The labels are not matching, skipped: mm, 好\n",
      "The labels are not matching, skipped: 說, mm\n",
      "The labels are not matching, skipped: 國語, 說\n",
      "The labels are not matching, skipped: 跟, 國語\n",
      "The labels are not matching, skipped: 說, 跟\n",
      "The labels are not matching, skipped: 台語, 說\n",
      "The labels are not matching, skipped: hon, 台語\n",
      "The labels are not matching, skipped: 我, hoN\n",
      "The labels are not matching, skipped: 覺得, 我\n",
      "The labels are not matching, skipped: 要, 覺得\n",
      "The labels are not matching, skipped: 看, 要\n",
      "The labels are not matching, skipped: 我, 看\n",
      "The labels are not matching, skipped: 跟, 我\n",
      "The labels are not matching, skipped: 誰, 跟\n",
      "The labels are not matching, skipped: 在一起, 誰\n",
      "The labels are not matching, skipped: 一般, 在一起\n",
      "The labels are not matching, skipped: 來, 一般\n",
      "The labels are not matching, skipped: 講, 來\n",
      "The labels are not matching, skipped: hon, 講\n",
      "The labels are not matching, skipped: 我, hoN\n",
      "The labels are not matching, skipped: 跟, 我\n",
      "The labels are not matching, skipped: 工廠, 跟\n",
      "The labels are not matching, skipped: 的, 工廠\n",
      "The labels are not matching, skipped: 師傅, 的\n",
      "The labels are not matching, skipped: 他們, 師傅\n",
      "The labels are not matching, skipped: 大部分, 他們\n",
      "The labels are not matching, skipped: 都, 大部分\n",
      "The labels are not matching, skipped: 講, 都\n",
      "The labels are not matching, skipped: 台語, 講\n",
      "The labels are not matching, skipped: 講, 台語\n",
      "The labels are not matching, skipped: 國語, 講\n",
      "The labels are not matching, skipped: 我, 國語\n",
      "The labels are not matching, skipped: 覺得, 我\n",
      "The labels are not matching, skipped: 現在, 覺得\n",
      "The labels are not matching, skipped: 這, 現在\n",
      "The labels are not matching, skipped: 個, 這\n",
      "The labels are not matching, skipped: 社會, 個\n",
      "The labels are not matching, skipped: 就是, 社會\n",
      "The labels are not matching, skipped: 國, 就是\n",
      "The labels are not matching, skipped: 台語, 國\n",
      "The labels are not matching, skipped: 這樣, 台語\n",
      "The labels are not matching, skipped: 交, 這樣\n",
      "The labels are not matching, skipped: 交錯, 交\n",
      "The labels are not matching, skipped: 著, 交錯\n",
      "The labels are not matching, skipped: 啊, 著\n",
      "Not found: /Users/seantyh/lago/mfa_data/aligned_retro_redel/HSK_GY/HSK_GY_155.TextGrid\n"
     ]
    },
    {
     "name": "stdout",
     "output_type": "stream",
     "text": [
      "992ff2158e1a9f3fcf3f8ec63834f4f3827fd2a0  ../data/retro_labels/HSK_GY_label.mfa.TextGrid\n",
      "957bd0caf0134d96e93e241b6692a37bdfd22642  ../data/retro_labels/HSK_GY_label.mfa.json\n",
      "e09eeeddd8007be6313ed0810857f3f3e2c0e5dc  ../data/retro_labels/WJL_GY_label.mfa.TextGrid\n",
      "3729f30239a7ecc19a67393b5da45ffe326bef38  ../data/retro_labels/WJL_GY_label.mfa.json\n"
     ]
    },
    {
     "name": "stderr",
     "output_type": "stream",
     "text": [
      "Not found: /Users/seantyh/lago/mfa_data/aligned_retro_redel/GYX_GY/GYX_GY_061.TextGrid\n"
     ]
    },
    {
     "name": "stdout",
     "output_type": "stream",
     "text": [
      "da4864163fac74f66841c85c66213db4ec86e430  ../data/retro_labels/GYX_GY_label.mfa.TextGrid\n",
      "08b55259e6fd44325c22bd00b070ccad36cd3b4c  ../data/retro_labels/GYX_GY_label.mfa.json\n",
      "8f3ba463f3c1ef4108f369c90d4d2476ec709eff  ../data/retro_labels/CZX_GY_label.mfa.TextGrid\n",
      "7182d26f1ce403bebb102e20fc21f92a232339d9  ../data/retro_labels/CZX_GY_label.mfa.json\n"
     ]
    },
    {
     "name": "stderr",
     "output_type": "stream",
     "text": [
      "Not found: /Users/seantyh/lago/mfa_data/aligned_retro_redel/CN_GY/CN_GY_077.TextGrid\n"
     ]
    },
    {
     "name": "stdout",
     "output_type": "stream",
     "text": [
      "ad75756d03135984adf0a82b55df8359f9061000  ../data/retro_labels/CN_GY_label.mfa.TextGrid\n",
      "cdbe4fa2e7e4fd76ec25c6f98681552e73d5043e  ../data/retro_labels/CN_GY_label.mfa.json\n",
      "663404293013fdc945f325a0e11ad74ed757e400  ../data/retro_labels/JXW_GY_label.mfa.TextGrid\n",
      "271f511580fb3382d1ed2c54ea8f4392bf0112ab  ../data/retro_labels/JXW_GY_label.mfa.json\n",
      "5fcfac53037841d390086a4291f4c4955d34f817  ../data/retro_labels/LZW_GY_label.mfa.TextGrid\n",
      "a29e5569f846248b473f15a71d5e156dbe7a6864  ../data/retro_labels/LZW_GY_label.mfa.json\n"
     ]
    },
    {
     "name": "stderr",
     "output_type": "stream",
     "text": [
      "The labels are not matching, skipped: siun, siun kong\n"
     ]
    },
    {
     "name": "stdout",
     "output_type": "stream",
     "text": [
      "3270c8eaf4a0c5c1a5eca92f02359dcb43684e48  ../data/retro_labels/YYS_GY_label.mfa.TextGrid\n",
      "c9a2d7b3f3f1bf436e1f61e3529d3aa6ee9b8cea  ../data/retro_labels/YYS_GY_label.mfa.json\n"
     ]
    },
    {
     "name": "stderr",
     "output_type": "stream",
     "text": [
      "Not found: /Users/seantyh/lago/mfa_data/aligned_retro_redel/LRL_GY/LRL_GY_016.TextGrid\n"
     ]
    },
    {
     "name": "stdout",
     "output_type": "stream",
     "text": [
      "911b3196928465a58a696a47cbf1826c956a5b21  ../data/retro_labels/LRL_GY_label.mfa.TextGrid\n",
      "d6f8302dd04945cf17abc33b24f257dfb8dfe018  ../data/retro_labels/LRL_GY_label.mfa.json\n",
      "cfd55cad0ee939f6919cbe5a8244e32fa2094932  ../data/retro_labels/XHR_GY_label.mfa.TextGrid\n",
      "fb28446536a24b650d25b7770ed575ba6b73fe98  ../data/retro_labels/XHR_GY_label.mfa.json\n"
     ]
    },
    {
     "name": "stderr",
     "output_type": "stream",
     "text": [
      "Not found: /Users/seantyh/lago/mfa_data/aligned_retro_redel/GWH_GY/GWH_GY_054.TextGrid\n"
     ]
    },
    {
     "name": "stdout",
     "output_type": "stream",
     "text": [
      "70598e0e8fedfafa747d2f0fb80716cdcd581b1c  ../data/retro_labels/GWH_GY_label.mfa.TextGrid\n",
      "706ba5f889d18eff78285a0c031e7350a5552fd9  ../data/retro_labels/GWH_GY_label.mfa.json\n"
     ]
    }
   ],
   "source": [
    "for speaker_id in tqdm(speaker_ids):\n",
    "  tg_path = tg_dir / f\"{speaker_id}_label.TextGrid\"\n",
    "  speech = Speech.from_textgrid_fon(tg_path, [\"note\", \"realization\"])\n",
    "\n",
    "  mfa_speaker_dir = mfa_aligned_dir / speaker_id\n",
    "  mfa_speaker_paths = list(mfa_speaker_dir.glob(\"*.TextGrid\"))\n",
    "  mfa_speaker_paths.sort()\n",
    "\n",
    "  mfa_utt_list = []\n",
    "  # for mfa_tg_x in mfa_speaker_paths:\n",
    "  for utt_idx in range(len(speech.utterances)):\n",
    "    mfa_tg_x = mfa_speaker_dir / f\"{speaker_id}_{utt_idx:03d}.TextGrid\"\n",
    "    if not mfa_tg_x.exists():\n",
    "      logger.warning(\"Not found: %s\", str(mfa_tg_x))\n",
    "      continue\n",
    "    \n",
    "    fa = textgrid.openTextgrid(str(mfa_tg_x), False)\n",
    "    fa_words = fa.getTier(\"words\")\n",
    "    fa_phones = fa.getTier(\"phones\")\n",
    "    mfa_wlist = BuildUtt.build_words_phones(fa_words, fa_phones)  #type: ignore\n",
    "    mfa_words = BuildUtt.build_characters(mfa_wlist, word_syll_map)  #type: ignore\n",
    "    mfa_utt = Utterance.from_words(mfa_words)\n",
    "    mfa_utt = BuildUtt.align_with_utterance_cyy_annot(mfa_utt, speech.utterances[utt_idx])\n",
    "    mfa_utt_list.append(mfa_utt)\n",
    "    \n",
    "  mfa_speech = Speech.from_utterances(mfa_utt_list)\n",
    "  mfa_speech.to_textgrid(tg_path.with_suffix(\".mfa.TextGrid\"))\n",
    "  tg_path.with_suffix(\".mfa.json\").write_text(json.dumps(mfa_speech.to_dict()))\n",
    "  mfa_tg_path = tg_path.with_suffix(\".mfa.TextGrid\")\n",
    "  mfa_json_path = tg_path.with_suffix(\".mfa.json\")\n",
    "  logger.info(\"Done: %s\", str(mfa_tg_path))\n",
    "  logger.info(\"Done: %s\", str(mfa_json_path))\n",
    "\n",
    "  print(subprocess.run([\"sha1sum\", str(mfa_tg_path)], capture_output=True).stdout.decode().strip())\n",
    "  print(subprocess.run([\"sha1sum\", str(mfa_json_path)], capture_output=True).stdout.decode().strip())"
   ]
  },
  {
   "attachments": {},
   "cell_type": "markdown",
   "id": "352a1b42",
   "metadata": {},
   "source": [
    "## Watermarks"
   ]
  },
  {
   "cell_type": "code",
   "execution_count": 9,
   "id": "8b40b2f9",
   "metadata": {},
   "outputs": [
    {
     "name": "stdout",
     "output_type": "stream",
     "text": [
      "Last updated: 2023-05-16T12:02:04.539335+02:00\n",
      "\n",
      "Python implementation: CPython\n",
      "Python version       : 3.10.10\n",
      "IPython version      : 8.13.1\n",
      "\n",
      "Compiler    : Clang 14.0.6 \n",
      "OS          : Darwin\n",
      "Release     : 22.1.0\n",
      "Machine     : arm64\n",
      "Processor   : arm\n",
      "CPU cores   : 8\n",
      "Architecture: 64bit\n",
      "\n"
     ]
    }
   ],
   "source": [
    "%watermark"
   ]
  },
  {
   "cell_type": "code",
   "execution_count": 10,
   "id": "77ebdd48",
   "metadata": {},
   "outputs": [
    {
     "name": "stdout",
     "output_type": "stream",
     "text": [
      "praatio: 6.0.0\n",
      "logging: 0.5.1.2\n",
      "sys    : 3.10.10 | packaged by conda-forge | (main, Mar 24 2023, 20:12:31) [Clang 14.0.6 ]\n",
      "pandas : 2.0.1\n",
      "json   : 2.0.9\n",
      "\n"
     ]
    }
   ],
   "source": [
    "%watermark --iversions"
   ]
  },
  {
   "cell_type": "code",
   "execution_count": null,
   "id": "7b7a6a5d",
   "metadata": {},
   "outputs": [],
   "source": []
  }
 ],
 "metadata": {
  "kernelspec": {
   "display_name": "Python 3 (ipykernel)",
   "language": "python",
   "name": "python3"
  },
  "language_info": {
   "codemirror_mode": {
    "name": "ipython",
    "version": 3
   },
   "file_extension": ".py",
   "mimetype": "text/x-python",
   "name": "python",
   "nbconvert_exporter": "python",
   "pygments_lexer": "ipython3",
   "version": "3.10.10"
  }
 },
 "nbformat": 4,
 "nbformat_minor": 5
}
