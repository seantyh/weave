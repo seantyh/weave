{
 "cells": [
  {
   "attachments": {},
   "cell_type": "markdown",
   "metadata": {},
   "source": [
    "## Data dependencies"
   ]
  },
  {
   "attachments": {},
   "cell_type": "markdown",
   "metadata": {},
   "source": [
    "`d896d31474decf727af64d30c704a4195b51ce9c  ../../data/fst/utt_rzs_xianzai.json`"
   ]
  },
  {
   "cell_type": "code",
   "execution_count": 1,
   "metadata": {},
   "outputs": [
    {
     "name": "stdout",
     "output_type": "stream",
     "text": [
      "5b561827a93acfb268819ca4fa12b4ead197831b  -\n",
      "d896d31474decf727af64d30c704a4195b51ce9c  ../../data/fst/utt_rzs_xianzai.json\n"
     ]
    }
   ],
   "source": [
    "annot_seq_dir = \"../../data/fst/xianzai-seq-annot\"\n",
    "utt_rzs_path = \"../../data/fst/utt_rzs_xianzai.json\"\n",
    "!sha1sum $annot_seq_dir/* | sha1sum\n",
    "!sha1sum $utt_rzs_path"
   ]
  },
  {
   "attachments": {},
   "cell_type": "markdown",
   "metadata": {},
   "source": [
    "## Load Data"
   ]
  },
  {
   "cell_type": "code",
   "execution_count": 2,
   "metadata": {},
   "outputs": [],
   "source": [
    "import json\n",
    "from pathlib import Path\n",
    "from praatio import textgrid\n",
    "\n",
    "utt_rzs = json.loads(Path(utt_rzs_path).read_text())\n",
    "annot_seq = {}\n",
    "for path in Path(annot_seq_dir).glob(\"*.TextGrid\"):    \n",
    "    tg = textgrid.openTextgrid(path, includeEmptyIntervals=True)\n",
    "    phone_tier = tg.getTier(\"phone\")    \n",
    "    annot_seq[path.stem] = \" \".join(x.label for x in phone_tier.entries)\n"
   ]
  },
  {
   "cell_type": "code",
   "execution_count": 3,
   "metadata": {},
   "outputs": [],
   "source": [
    "for utt, annot_rzs in annot_seq.items():\n",
    "  annot_seq[utt] = {\n",
    "    \"annot\": annot_rzs,\n",
    "    \"kaldi_post\": utt_rzs[utt][\"post\"],\n",
    "    \"kaldi_ori\": utt_rzs[utt][\"ori\"],\n",
    "  }"
   ]
  },
  {
   "cell_type": "code",
   "execution_count": 4,
   "metadata": {},
   "outputs": [
    {
     "data": {
      "text/plain": [
       "(60,\n",
       " [('ɕ j. aɪ.', 9),\n",
       "  ('ɕ j. e. n ts aɪ', 7),\n",
       "  ('ɕ j. e.', 4),\n",
       "  ('ɕ j. e. aɪ.', 4),\n",
       "  ('ɕ j. a.', 3)],\n",
       " [('ɕ e n ts aj', 11),\n",
       "  ('ɕ j a aj', 7),\n",
       "  ('ɕ j a', 6),\n",
       "  ('ɕ e n aj', 4),\n",
       "  ('ɕ e aj', 4)])"
      ]
     },
     "execution_count": 4,
     "metadata": {},
     "output_type": "execute_result"
    }
   ],
   "source": [
    "from collections import Counter \n",
    "annot_freq = Counter()\n",
    "mfa_freq = Counter()\n",
    "for utt, item_x in annot_seq.items():\n",
    "   annot_freq[item_x[\"annot\"]] += 1\n",
    "   mfa_freq[item_x[\"kaldi_post\"]] += 1\n",
    "\n",
    "len(annot_seq), annot_freq.most_common(5), mfa_freq.most_common(5)"
   ]
  },
  {
   "cell_type": "code",
   "execution_count": 17,
   "metadata": {},
   "outputs": [],
   "source": [
    "import re\n",
    "from difflib import SequenceMatcher\n",
    "from collections import Counter\n",
    "\n",
    "del_freq = Counter()\n",
    "ins_freq = Counter()\n",
    "sub_map = {}\n",
    "\n",
    "for utt, item_x in annot_seq.items():\n",
    "  seq_a = item_x[\"annot\"].strip().split()\n",
    "  seq_b = item_x[\"kaldi_post\"].strip().split()\n",
    "  assert not any(x==\" \" for x in seq_a), seq_a\n",
    "  m = SequenceMatcher(None, seq_a, seq_b)\n",
    "\n",
    "  for act, ai, aj, bi, bj in m.get_opcodes():\n",
    "    toks_a = tuple(seq_a[ai:aj])\n",
    "    toks_b = tuple(seq_b[bi:bj])\n",
    "    if act == \"delete\":\n",
    "      del_freq[toks_a] += 1\n",
    "    elif act == \"insert\":\n",
    "      ins_freq[toks_b] += 1\n",
    "    elif act == \"replace\":\n",
    "      sub_map.setdefault(toks_a, []).append(toks_b)        \n"
   ]
  },
  {
   "cell_type": "code",
   "execution_count": 31,
   "metadata": {},
   "outputs": [
    {
     "data": {
      "text/plain": [
       "Counter({'ɕ j. aɪ.': 9,\n",
       "         'ɕ j. e. n ts aɪ': 7,\n",
       "         'ɕ j. e.': 4,\n",
       "         'ɕ j. e. aɪ.': 4,\n",
       "         'ɕ j. a.': 3,\n",
       "         'ɕ ɪ. aɪ.': 2,\n",
       "         'ɕ j eɪ.': 2,\n",
       "         'ɕ ɪ. n ts a': 2,\n",
       "         'ʑ j. a.': 2,\n",
       "         'ɕ j e n ts aɪ': 2,\n",
       "         'ɕ j. e. n': 2,\n",
       "         'ɕ n̩ aɪ': 1,\n",
       "         'ɕ ɪ. n d. aɪ': 1,\n",
       "         'ɕ ɪ. n a': 1,\n",
       "         'ɕ j e. n d. aɪ': 1,\n",
       "         'pɕ aɪ.': 1,\n",
       "         'e. a.': 1,\n",
       "         'ɕ eɪ.': 1,\n",
       "         'ɕ ɪ n ts aɪ': 1,\n",
       "         'ɕ e. n ts aɪ': 1,\n",
       "         'ts e. w': 1,\n",
       "         'ɕ j. e. n aɪ': 1,\n",
       "         'ɕ ɪ. n ts. a': 1,\n",
       "         'ts ɨ. a.': 1,\n",
       "         'ɕ j. e. a. b.': 1,\n",
       "         'ɕ j. e. n ts. aɪ.': 1,\n",
       "         'ɕ j e. aɪ.': 1,\n",
       "         'ɕ j. eɪ.': 1,\n",
       "         'ɕ j e. n aɪ.': 1,\n",
       "         'ɕ i. n a w': 1,\n",
       "         'ɕ ɪ. n ts aɪ': 1,\n",
       "         'ɕ j a': 1})"
      ]
     },
     "execution_count": 31,
     "metadata": {},
     "output_type": "execute_result"
    }
   ],
   "source": [
    "Counter(x[\"annot\"] for x in annot_seq.values())"
   ]
  },
  {
   "cell_type": "code",
   "execution_count": null,
   "metadata": {},
   "outputs": [],
   "source": []
  }
 ],
 "metadata": {
  "kernelspec": {
   "display_name": "mfa",
   "language": "python",
   "name": "python3"
  },
  "language_info": {
   "codemirror_mode": {
    "name": "ipython",
    "version": 3
   },
   "file_extension": ".py",
   "mimetype": "text/x-python",
   "name": "python",
   "nbconvert_exporter": "python",
   "pygments_lexer": "ipython3",
   "version": "3.11.3"
  },
  "orig_nbformat": 4
 },
 "nbformat": 4,
 "nbformat_minor": 2
}
