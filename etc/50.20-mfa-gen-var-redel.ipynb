{
 "cells": [
  {
   "cell_type": "code",
   "execution_count": 1,
   "id": "0dbb6bf4",
   "metadata": {},
   "outputs": [],
   "source": [
    "%load_ext watermark"
   ]
  },
  {
   "cell_type": "code",
   "execution_count": 2,
   "id": "ce339d98-4c20-48a0-841f-ac341190fd5b",
   "metadata": {
    "tags": []
   },
   "outputs": [],
   "source": [
    "from pathlib import Path\n",
    "import re\n",
    "from itertools import product\n",
    "from typing import List"
   ]
  },
  {
   "attachments": {},
   "cell_type": "markdown",
   "id": "42376869-d1eb-4000-9673-69d21b81e95e",
   "metadata": {
    "tags": []
   },
   "source": [
    "## Read reference dict"
   ]
  },
  {
   "cell_type": "code",
   "execution_count": 3,
   "id": "330a8596-79c1-4fa7-9b0d-cf066c73b6af",
   "metadata": {
    "tags": []
   },
   "outputs": [],
   "source": [
    "base_dir = Path(\"/Users/seantyh/Documents/MFA/pretrained_models/dictionary/\")\n",
    "ref_dict = base_dir / \"mandarin_taiwan_mfa.dict\""
   ]
  },
  {
   "cell_type": "code",
   "execution_count": 4,
   "id": "cf57d60d-8702-4475-9371-5358c68305d9",
   "metadata": {
    "tags": []
   },
   "outputs": [],
   "source": [
    "pdict_list = Path(ref_dict).read_text()\n",
    "pdict_list = pdict_list.strip().split(\"\\n\")\n",
    "pdict_list = [x.split(\"\\t\") for x in pdict_list]\n",
    "pdict_list = [x for x in pdict_list if len(x)>0]"
   ]
  },
  {
   "cell_type": "code",
   "execution_count": 5,
   "id": "a4ad334b-b981-485a-a236-5559d9c29eda",
   "metadata": {
    "tags": []
   },
   "outputs": [
    {
     "data": {
      "text/plain": [
       "[['<eps>', '1.0', '0.0', '0.0', '0.0', 'sil'],\n",
       " ['<unk>', '0.99', '0.27', '1.86', '0.86', 'spn'],\n",
       " ['㐌', '0.99', '0.26', '1.0', '1.0', 'i˧˥'],\n",
       " ['㐖', '0.99', '0.26', '1.0', '1.0', 'ɕ j e˧˥'],\n",
       " ['㐖毒', '0.99', '0.26', '1.0', '1.0', 'ɕ j e˧˥ t u˧˥']]"
      ]
     },
     "execution_count": 5,
     "metadata": {},
     "output_type": "execute_result"
    }
   ],
   "source": [
    "pdict_list[:5]"
   ]
  },
  {
   "attachments": {},
   "cell_type": "markdown",
   "id": "96ed2863-2bbe-41f3-b1ba-3a6efebdc997",
   "metadata": {},
   "source": [
    "## Set mapping rules"
   ]
  },
  {
   "cell_type": "code",
   "execution_count": 6,
   "id": "a2247579-1c6e-46f9-b39e-1c8b6ce1ef08",
   "metadata": {
    "tags": []
   },
   "outputs": [],
   "source": [
    "mappings = {\n",
    "    \"ʈʂ ʐ̩\": \"ts z̩\",\n",
    "    \"ʈʂʰ ʐ̩\": \"tsʰ z̩\",\n",
    "    \"ʂ ʐ̩\": \"s z̩\",\n",
    "    \"ts z̩\": \"ʈʂ ʐ̩\",\n",
    "    \"tsʰ z̩\": \"ʈʂʰ ʐ̩\",\n",
    "    \"s z̩\": \"ʂ ʐ̩\",\n",
    "    \"ʈʂ \": \"ts \",\n",
    "    \"ʈʂʰ \": \"tsʰ \",\n",
    "    \"ʂ \": \"s \",    \n",
    "    \"ts \": \"ʈʂ \",\n",
    "    \"tsʰ \": \"ʈʂʰ \",\n",
    "    \"s \": \"ʂ \"\n",
    "}\n",
    "\n",
    "pat = re.compile(\"|\".join(mappings.keys()))"
   ]
  },
  {
   "cell_type": "code",
   "execution_count": 7,
   "id": "3eebf218",
   "metadata": {},
   "outputs": [
    {
     "data": {
      "text/plain": [
       "[0]"
      ]
     },
     "execution_count": 7,
     "metadata": {},
     "output_type": "execute_result"
    }
   ],
   "source": [
    "tone_pat = re.compile(\"[\\u02e5-\\u02e9]+\")\n",
    "def find_onsets(pho_toks: List[str]):\n",
    "    nuclueus_idxs = []\n",
    "    onset_idxs = []\n",
    "    for i, phone_x in enumerate(pho_toks):\n",
    "        if tone_pat.findall(phone_x):\n",
    "            nuclueus_idxs.append(i)\n",
    "        else:\n",
    "            continue\n",
    "        \n",
    "        # test previdx is not coda or another nucleus\n",
    "        if i-1 < 0: continue\n",
    "        if i-1 in nuclueus_idxs: continue\n",
    "        if pho_toks[i-1] in \"jwɥ\": \n",
    "            # it may be a glide. Try the i-2 idx\n",
    "            if (i-2 < 0 \n",
    "                or i-2 in nuclueus_idxs\n",
    "                or pho_toks[i-2] in \"nŋɻ\"):\n",
    "                # the glide is the onset, like /ɥ e˧˥ n/\n",
    "                onset_idxs.append(i-1)\n",
    "            else:\n",
    "                # there is a consonant before the glide. It is the onset.\n",
    "                onset_idxs.append(i-2)\n",
    "        elif pho_toks[i-1] not in \"nŋɻ\":\n",
    "            onset_idxs.append(i-1)\n",
    "        else:\n",
    "            # there is no onset\n",
    "            pass\n",
    "    return onset_idxs\n",
    "# find_onsets(\"ʈʂ ə˥˥ n ʂ ʐ̩˧˥\".split())\n",
    "find_onsets(\"tɕʰ j e˧˥ n\".split())"
   ]
  },
  {
   "attachments": {},
   "cell_type": "markdown",
   "id": "bfd1464f",
   "metadata": {},
   "source": [
    "### Find onset tests"
   ]
  },
  {
   "cell_type": "code",
   "execution_count": 8,
   "id": "684ff049",
   "metadata": {},
   "outputs": [],
   "source": [
    "assert find_onsets(\"tɕʰ j e˧˥ n\".split()) == [0]\n",
    "assert find_onsets(\"ʈʂ ə˥˥ n ʂ ʐ̩˧˥\".split()) == [0,3]\n",
    "assert find_onsets(\"tʰ aj˥˩ ɕ ɥ e˧˥ n\".split()) == [0,2]"
   ]
  },
  {
   "cell_type": "code",
   "execution_count": 9,
   "id": "b79d32aa",
   "metadata": {},
   "outputs": [],
   "source": [
    "def make_deletion_variants(ori_pron: str, debug=False):\n",
    "    pho_toks = ori_pron.split(\" \")\n",
    "    onset_idxs = find_onsets(pho_toks)\n",
    "    variants = []\n",
    "    _print = print if debug else lambda *x: ...\n",
    "    _print(\"Origin:\", ori_pron)\n",
    "\n",
    "    for comb in product(*[[0, 1]]*len(onset_idxs)):                    \n",
    "        var_toks = list(pho_toks)\n",
    "        for idx, flag in enumerate(comb):            \n",
    "            if flag == 1:\n",
    "                var_toks[onset_idxs[idx]] = \"\"\n",
    "        var_toks = [x for x in var_toks if x]\n",
    "        var_pron = \" \".join(var_toks)\n",
    "        _print(comb, var_pron)\n",
    "        variants.append(var_pron)\n",
    "    return variants"
   ]
  },
  {
   "cell_type": "code",
   "execution_count": 10,
   "id": "57bc0681",
   "metadata": {},
   "outputs": [
    {
     "name": "stdout",
     "output_type": "stream",
     "text": [
      "Origin: tɕʰ j e˧˥ n\n",
      "(0,) tɕʰ j e˧˥ n\n",
      "(1,) j e˧˥ n\n"
     ]
    },
    {
     "data": {
      "text/plain": [
       "['tɕʰ j e˧˥ n', 'j e˧˥ n']"
      ]
     },
     "execution_count": 10,
     "metadata": {},
     "output_type": "execute_result"
    }
   ],
   "source": [
    "make_deletion_variants(\"tɕʰ j e˧˥ n\", debug=True)"
   ]
  },
  {
   "cell_type": "code",
   "execution_count": 11,
   "id": "362b83f5",
   "metadata": {},
   "outputs": [
    {
     "name": "stdout",
     "output_type": "stream",
     "text": [
      "Origin: ʈʂ ə˥˥ n ʂ ʐ̩˧˥\n",
      "(0, 0) ʈʂ ə˥˥ n ʂ ʐ̩˧˥\n",
      "(0, 1) ʈʂ ə˥˥ n ʐ̩˧˥\n",
      "(1, 0) ə˥˥ n ʂ ʐ̩˧˥\n",
      "(1, 1) ə˥˥ n ʐ̩˧˥\n"
     ]
    },
    {
     "data": {
      "text/plain": [
       "['ʈʂ ə˥˥ n ʂ ʐ̩˧˥', 'ʈʂ ə˥˥ n ʐ̩˧˥', 'ə˥˥ n ʂ ʐ̩˧˥', 'ə˥˥ n ʐ̩˧˥']"
      ]
     },
     "execution_count": 11,
     "metadata": {},
     "output_type": "execute_result"
    }
   ],
   "source": [
    "make_deletion_variants(\"ʈʂ ə˥˥ n ʂ ʐ̩˧˥\", debug=True)"
   ]
  },
  {
   "cell_type": "code",
   "execution_count": 12,
   "id": "c135e347-a60f-4014-8c21-4fd1caac05f6",
   "metadata": {
    "tags": []
   },
   "outputs": [],
   "source": [
    "def make_retro_variants(ori_pron: str, matches: List[re.Match], debug=False):\n",
    "    spans = [x.span() for x in matches] \n",
    "    variants = []\n",
    "    _print = print if debug else lambda *x: ...\n",
    "    _print(\"Origin:\", ori_pron)\n",
    "\n",
    "    for comb in product(*[[0, 1]]*len(matches)):    \n",
    "        # first segment before first match\n",
    "        new_pron = ori_pron[:spans[0][0]]\n",
    "        for idx, flag in enumerate(comb):\n",
    "            ori_phone = matches[idx].group()\n",
    "            if flag == 0:\n",
    "                new_pron += ori_phone\n",
    "            else:\n",
    "                new_pron += mappings[ori_phone]\n",
    "            if idx < len(comb)-1:\n",
    "                # there is a following match\n",
    "                new_pron += ori_pron[spans[idx][1]:spans[idx+1][0]]\n",
    "            else:\n",
    "                # this is the last match\n",
    "                new_pron += ori_pron[spans[idx][1]:]\n",
    "        _print(comb, new_pron)\n",
    "        variants.append(new_pron)\n",
    "    return variants"
   ]
  },
  {
   "attachments": {},
   "cell_type": "markdown",
   "id": "05e3ed56-315e-4a06-8896-af78f80051df",
   "metadata": {},
   "source": [
    "## Main Loop"
   ]
  },
  {
   "cell_type": "code",
   "execution_count": 13,
   "id": "703ba379-a335-4fc9-bc35-54162c89ee32",
   "metadata": {
    "tags": []
   },
   "outputs": [],
   "source": [
    "vardict_list = []\n",
    "for item_x in pdict_list:    \n",
    "    ori_pron = item_x[5]\n",
    "    matches = list(pat.finditer(ori_pron))\n",
    "    n_matches = len(matches)                  \n",
    "    if n_matches == 0:\n",
    "        onsetdel_variants = make_deletion_variants(ori_pron)\n",
    "        variants = onsetdel_variants\n",
    "    else:\n",
    "        retro_variants = make_retro_variants(ori_pron, matches)\n",
    "        onsetdel_variants = make_deletion_variants(ori_pron)\n",
    "        variants = retro_variants + onsetdel_variants[1:]  # the first element is always the original one\n",
    "    word = item_x[0]\n",
    "    ori_prior = float(item_x[1])\n",
    "    pron_prior = str(round(ori_prior/len(variants),2))\n",
    "    sil_weight = str(0.5)\n",
    "    vardict_list.extend([word, pron_prior, sil_weight, sil_weight, sil_weight, var_x]\n",
    "                         for var_x in variants)"
   ]
  },
  {
   "cell_type": "code",
   "execution_count": 14,
   "id": "34654ac9-de84-4e63-8af2-7794b418aad8",
   "metadata": {
    "tags": []
   },
   "outputs": [
    {
     "data": {
      "text/plain": [
       "(82661, 616597)"
      ]
     },
     "execution_count": 14,
     "metadata": {},
     "output_type": "execute_result"
    }
   ],
   "source": [
    "len(pdict_list), len(vardict_list)"
   ]
  },
  {
   "attachments": {},
   "cell_type": "markdown",
   "id": "9a92aae4-f02b-45e9-9497-60941919cf4f",
   "metadata": {
    "tags": []
   },
   "source": [
    "## Write file"
   ]
  },
  {
   "cell_type": "code",
   "execution_count": 15,
   "id": "40a89f84-e9a6-44ec-b34b-277ea184af0b",
   "metadata": {
    "tags": []
   },
   "outputs": [],
   "source": [
    "\n",
    "var_dict_path = base_dir / \"mandarin_taiwan_mfa_redelvar.dict\"\n",
    "with var_dict_path.open(\"w\") as f:\n",
    "    for item_x in vardict_list:\n",
    "        f.write(\"\\t\".join(item_x))\n",
    "        f.write(\"\\n\")"
   ]
  },
  {
   "cell_type": "code",
   "execution_count": 16,
   "id": "444e4f90-a694-4542-ac55-2fd2c8bfbcb3",
   "metadata": {
    "tags": []
   },
   "outputs": [
    {
     "name": "stdout",
     "output_type": "stream",
     "text": [
      "8df503bbfa3770b629e2c0a9401bfdc2e4cf4ddf  mandarin_taiwan_mfa_redelvar.dict\n"
     ]
    }
   ],
   "source": [
    "!cd {var_dict_path.parent} && sha1sum {var_dict_path.name}"
   ]
  },
  {
   "attachments": {},
   "cell_type": "markdown",
   "id": "bc899799-4184-496a-8e5e-d450ebc022e7",
   "metadata": {},
   "source": [
    "## Watermarks"
   ]
  },
  {
   "cell_type": "code",
   "execution_count": 17,
   "id": "484e01bf",
   "metadata": {},
   "outputs": [
    {
     "name": "stdout",
     "output_type": "stream",
     "text": [
      "Last updated: 2023-05-15T11:26:52.023084+02:00\n",
      "\n",
      "Python implementation: CPython\n",
      "Python version       : 3.10.10\n",
      "IPython version      : 8.12.0\n",
      "\n",
      "Compiler    : Clang 14.0.6 \n",
      "OS          : Darwin\n",
      "Release     : 22.1.0\n",
      "Machine     : arm64\n",
      "Processor   : arm\n",
      "CPU cores   : 8\n",
      "Architecture: 64bit\n",
      "\n"
     ]
    }
   ],
   "source": [
    "%watermark"
   ]
  },
  {
   "cell_type": "code",
   "execution_count": 18,
   "id": "1d7e76d9",
   "metadata": {},
   "outputs": [
    {
     "name": "stdout",
     "output_type": "stream",
     "text": [
      "re: 2.2.1\n",
      "\n"
     ]
    }
   ],
   "source": [
    "%watermark --iversions"
   ]
  },
  {
   "cell_type": "code",
   "execution_count": null,
   "id": "d5a2f9d5",
   "metadata": {},
   "outputs": [],
   "source": []
  }
 ],
 "metadata": {
  "kernelspec": {
   "display_name": "Python 3 (ipykernel)",
   "language": "python",
   "name": "python3"
  },
  "language_info": {
   "codemirror_mode": {
    "name": "ipython",
    "version": 3
   },
   "file_extension": ".py",
   "mimetype": "text/x-python",
   "name": "python",
   "nbconvert_exporter": "python",
   "pygments_lexer": "ipython3",
   "version": "3.10.10"
  }
 },
 "nbformat": 4,
 "nbformat_minor": 5
}
