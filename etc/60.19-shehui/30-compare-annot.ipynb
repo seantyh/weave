{
 "cells": [
  {
   "attachments": {},
   "cell_type": "markdown",
   "metadata": {},
   "source": [
    "## Dependencies"
   ]
  },
  {
   "attachments": {},
   "cell_type": "markdown",
   "metadata": {},
   "source": [
    "```\n",
    "# 60.19/20\n",
    "01c932213afb09e5df84b8f061315ccaf01150b4  ../../data/shehui/shehui_phones_loglik.csv\n",
    "1dc688287a27da6582e17cc3e04ad8fe1a928ce4  ../../data/shehui/shehui_feats.csv\n",
    "```"
   ]
  },
  {
   "cell_type": "code",
   "execution_count": 1,
   "metadata": {},
   "outputs": [
    {
     "name": "stdout",
     "output_type": "stream",
     "text": [
      "01c932213afb09e5df84b8f061315ccaf01150b4  ../../data/shehui/shehui_phones_loglik.csv\n",
      "1dc688287a27da6582e17cc3e04ad8fe1a928ce4  ../../data/shehui/shehui_feats.csv\n",
      "7338ee4755f5853be3cd6a3ce7711553485e84fc  ../../data/shehui/shehui_judge.csv\n"
     ]
    }
   ],
   "source": [
    "phones_df_path = \"../../data/shehui/shehui_phones_loglik.csv\"\n",
    "feats_df_path = \"../../data/shehui/shehui_feats.csv\"\n",
    "annot_path = \"../../data/shehui/shehui_judge.csv\"  # manual annotation\n",
    "!sha1sum $phones_df_path $feats_df_path $annot_path"
   ]
  },
  {
   "attachments": {},
   "cell_type": "markdown",
   "metadata": {},
   "source": [
    "## Load Data"
   ]
  },
  {
   "cell_type": "code",
   "execution_count": 2,
   "metadata": {},
   "outputs": [],
   "source": [
    "import pandas as pd\n",
    "WORD = \"社會\"\n",
    "phones_df = pd.read_csv(phones_df_path)\n",
    "feats_df = pd.read_csv(feats_df_path)\n",
    "annot_df = pd.read_csv(annot_path, header=None, names=[\"utt_id\", \"annot\"])\n",
    "annot_df.annot.fillna(\"ʂ\", inplace=True)\n",
    "annot_df.annot = annot_df.annot.str.replace(\"d\", \"s\")"
   ]
  },
  {
   "cell_type": "code",
   "execution_count": 3,
   "metadata": {},
   "outputs": [
    {
     "data": {
      "text/plain": [
       "((3864, 49), (101, 2))"
      ]
     },
     "execution_count": 3,
     "metadata": {},
     "output_type": "execute_result"
    }
   ],
   "source": [
    "phones_df.shape, annot_df.shape"
   ]
  },
  {
   "cell_type": "code",
   "execution_count": 4,
   "metadata": {},
   "outputs": [
    {
     "data": {
      "text/html": [
       "<div>\n",
       "<style scoped>\n",
       "    .dataframe tbody tr th:only-of-type {\n",
       "        vertical-align: middle;\n",
       "    }\n",
       "\n",
       "    .dataframe tbody tr th {\n",
       "        vertical-align: top;\n",
       "    }\n",
       "\n",
       "    .dataframe thead th {\n",
       "        text-align: right;\n",
       "    }\n",
       "</style>\n",
       "<table border=\"1\" class=\"dataframe\">\n",
       "  <thead>\n",
       "    <tr style=\"text-align: right;\">\n",
       "      <th></th>\n",
       "      <th>utt_id</th>\n",
       "      <th>t</th>\n",
       "      <th>phone</th>\n",
       "      <th>ml_phone</th>\n",
       "      <th>sil</th>\n",
       "      <th>spn</th>\n",
       "      <th>a</th>\n",
       "      <th>aj</th>\n",
       "      <th>aw</th>\n",
       "      <th>o</th>\n",
       "      <th>...</th>\n",
       "      <th>ts</th>\n",
       "      <th>tsʰ</th>\n",
       "      <th>ɕ</th>\n",
       "      <th>z</th>\n",
       "      <th>z̩</th>\n",
       "      <th>s</th>\n",
       "      <th>ŋ</th>\n",
       "      <th>ŋ̍</th>\n",
       "      <th>ɻ</th>\n",
       "      <th>ʔ</th>\n",
       "    </tr>\n",
       "  </thead>\n",
       "  <tbody>\n",
       "    <tr>\n",
       "      <th>0</th>\n",
       "      <td>XSH_GY_3144</td>\n",
       "      <td>0</td>\n",
       "      <td>s</td>\n",
       "      <td>s</td>\n",
       "      <td>-7.681640</td>\n",
       "      <td>-6.503642</td>\n",
       "      <td>-4.345111</td>\n",
       "      <td>-8.721248</td>\n",
       "      <td>-8.010677</td>\n",
       "      <td>-7.272399</td>\n",
       "      <td>...</td>\n",
       "      <td>-1.886970</td>\n",
       "      <td>-3.645827</td>\n",
       "      <td>-3.640338</td>\n",
       "      <td>-4.887408</td>\n",
       "      <td>-2.941501</td>\n",
       "      <td>-1.147632</td>\n",
       "      <td>-5.503642</td>\n",
       "      <td>-5.503642</td>\n",
       "      <td>-12.391040</td>\n",
       "      <td>-16.211841</td>\n",
       "    </tr>\n",
       "    <tr>\n",
       "      <th>1</th>\n",
       "      <td>XSH_GY_3144</td>\n",
       "      <td>1</td>\n",
       "      <td>s</td>\n",
       "      <td>ts</td>\n",
       "      <td>-5.310816</td>\n",
       "      <td>-6.586954</td>\n",
       "      <td>-8.147581</td>\n",
       "      <td>-10.421438</td>\n",
       "      <td>-7.652265</td>\n",
       "      <td>-7.322141</td>\n",
       "      <td>...</td>\n",
       "      <td>-1.226126</td>\n",
       "      <td>-3.822740</td>\n",
       "      <td>-3.268888</td>\n",
       "      <td>-6.033983</td>\n",
       "      <td>-4.088075</td>\n",
       "      <td>-1.321073</td>\n",
       "      <td>-7.533209</td>\n",
       "      <td>-7.533209</td>\n",
       "      <td>-12.929338</td>\n",
       "      <td>-17.819410</td>\n",
       "    </tr>\n",
       "    <tr>\n",
       "      <th>2</th>\n",
       "      <td>XSH_GY_3144</td>\n",
       "      <td>2</td>\n",
       "      <td>s</td>\n",
       "      <td>ts</td>\n",
       "      <td>-5.749047</td>\n",
       "      <td>-5.802193</td>\n",
       "      <td>-6.734258</td>\n",
       "      <td>-7.944333</td>\n",
       "      <td>-8.090920</td>\n",
       "      <td>-8.237176</td>\n",
       "      <td>...</td>\n",
       "      <td>-0.969098</td>\n",
       "      <td>-3.513551</td>\n",
       "      <td>-3.404324</td>\n",
       "      <td>-6.641660</td>\n",
       "      <td>-4.695748</td>\n",
       "      <td>-1.230424</td>\n",
       "      <td>-8.741521</td>\n",
       "      <td>-8.741521</td>\n",
       "      <td>-12.683087</td>\n",
       "      <td>-18.482972</td>\n",
       "    </tr>\n",
       "    <tr>\n",
       "      <th>3</th>\n",
       "      <td>XSH_GY_3144</td>\n",
       "      <td>3</td>\n",
       "      <td>s</td>\n",
       "      <td>s</td>\n",
       "      <td>-6.987211</td>\n",
       "      <td>-4.373899</td>\n",
       "      <td>-9.618829</td>\n",
       "      <td>-8.396303</td>\n",
       "      <td>-8.528719</td>\n",
       "      <td>-8.476888</td>\n",
       "      <td>...</td>\n",
       "      <td>-1.617296</td>\n",
       "      <td>-4.674959</td>\n",
       "      <td>-2.562410</td>\n",
       "      <td>-7.692209</td>\n",
       "      <td>-5.746301</td>\n",
       "      <td>-0.717901</td>\n",
       "      <td>-8.726934</td>\n",
       "      <td>-8.726934</td>\n",
       "      <td>-13.768919</td>\n",
       "      <td>-20.936250</td>\n",
       "    </tr>\n",
       "    <tr>\n",
       "      <th>4</th>\n",
       "      <td>XSH_GY_3144</td>\n",
       "      <td>4</td>\n",
       "      <td>s</td>\n",
       "      <td>s</td>\n",
       "      <td>-4.199553</td>\n",
       "      <td>-4.513033</td>\n",
       "      <td>-7.592516</td>\n",
       "      <td>-7.766592</td>\n",
       "      <td>-6.352526</td>\n",
       "      <td>-8.014597</td>\n",
       "      <td>...</td>\n",
       "      <td>-3.196867</td>\n",
       "      <td>-5.620840</td>\n",
       "      <td>-1.458639</td>\n",
       "      <td>-7.029349</td>\n",
       "      <td>-5.083437</td>\n",
       "      <td>-0.723299</td>\n",
       "      <td>-6.967547</td>\n",
       "      <td>-6.967547</td>\n",
       "      <td>-13.110853</td>\n",
       "      <td>-17.870264</td>\n",
       "    </tr>\n",
       "  </tbody>\n",
       "</table>\n",
       "<p>5 rows × 49 columns</p>\n",
       "</div>"
      ],
      "text/plain": [
       "        utt_id  t phone ml_phone       sil       spn         a         aj   \n",
       "0  XSH_GY_3144  0     s        s -7.681640 -6.503642 -4.345111  -8.721248  \\\n",
       "1  XSH_GY_3144  1     s       ts -5.310816 -6.586954 -8.147581 -10.421438   \n",
       "2  XSH_GY_3144  2     s       ts -5.749047 -5.802193 -6.734258  -7.944333   \n",
       "3  XSH_GY_3144  3     s        s -6.987211 -4.373899 -9.618829  -8.396303   \n",
       "4  XSH_GY_3144  4     s        s -4.199553 -4.513033 -7.592516  -7.766592   \n",
       "\n",
       "         aw         o  ...        ts       tsʰ         ɕ         z        z̩   \n",
       "0 -8.010677 -7.272399  ... -1.886970 -3.645827 -3.640338 -4.887408 -2.941501  \\\n",
       "1 -7.652265 -7.322141  ... -1.226126 -3.822740 -3.268888 -6.033983 -4.088075   \n",
       "2 -8.090920 -8.237176  ... -0.969098 -3.513551 -3.404324 -6.641660 -4.695748   \n",
       "3 -8.528719 -8.476888  ... -1.617296 -4.674959 -2.562410 -7.692209 -5.746301   \n",
       "4 -6.352526 -8.014597  ... -3.196867 -5.620840 -1.458639 -7.029349 -5.083437   \n",
       "\n",
       "          s         ŋ        ŋ̍          ɻ          ʔ  \n",
       "0 -1.147632 -5.503642 -5.503642 -12.391040 -16.211841  \n",
       "1 -1.321073 -7.533209 -7.533209 -12.929338 -17.819410  \n",
       "2 -1.230424 -8.741521 -8.741521 -12.683087 -18.482972  \n",
       "3 -0.717901 -8.726934 -8.726934 -13.768919 -20.936250  \n",
       "4 -0.723299 -6.967547 -6.967547 -13.110853 -17.870264  \n",
       "\n",
       "[5 rows x 49 columns]"
      ]
     },
     "execution_count": 4,
     "metadata": {},
     "output_type": "execute_result"
    }
   ],
   "source": [
    "phones_df.head()"
   ]
  },
  {
   "cell_type": "code",
   "execution_count": 5,
   "metadata": {},
   "outputs": [
    {
     "data": {
      "text/html": [
       "<div>\n",
       "<style scoped>\n",
       "    .dataframe tbody tr th:only-of-type {\n",
       "        vertical-align: middle;\n",
       "    }\n",
       "\n",
       "    .dataframe tbody tr th {\n",
       "        vertical-align: top;\n",
       "    }\n",
       "\n",
       "    .dataframe thead th {\n",
       "        text-align: right;\n",
       "    }\n",
       "</style>\n",
       "<table border=\"1\" class=\"dataframe\">\n",
       "  <thead>\n",
       "    <tr style=\"text-align: right;\">\n",
       "      <th></th>\n",
       "      <th>utt_id</th>\n",
       "      <th>annot</th>\n",
       "    </tr>\n",
       "  </thead>\n",
       "  <tbody>\n",
       "    <tr>\n",
       "      <th>0</th>\n",
       "      <td>CJH_GY_1544</td>\n",
       "      <td>ʂ</td>\n",
       "    </tr>\n",
       "    <tr>\n",
       "      <th>1</th>\n",
       "      <td>CJH_GY_2944</td>\n",
       "      <td>ʂ</td>\n",
       "    </tr>\n",
       "    <tr>\n",
       "      <th>2</th>\n",
       "      <td>CJJ_GY_3607</td>\n",
       "      <td>ʂ</td>\n",
       "    </tr>\n",
       "    <tr>\n",
       "      <th>3</th>\n",
       "      <td>CJJ_GY_3612</td>\n",
       "      <td>ʂ</td>\n",
       "    </tr>\n",
       "    <tr>\n",
       "      <th>4</th>\n",
       "      <td>CJJ_GY_3628</td>\n",
       "      <td>ʂ</td>\n",
       "    </tr>\n",
       "  </tbody>\n",
       "</table>\n",
       "</div>"
      ],
      "text/plain": [
       "        utt_id annot\n",
       "0  CJH_GY_1544     ʂ\n",
       "1  CJH_GY_2944     ʂ\n",
       "2  CJJ_GY_3607     ʂ\n",
       "3  CJJ_GY_3612     ʂ\n",
       "4  CJJ_GY_3628     ʂ"
      ]
     },
     "execution_count": 5,
     "metadata": {},
     "output_type": "execute_result"
    }
   ],
   "source": [
    "annot_df.head()"
   ]
  },
  {
   "cell_type": "code",
   "execution_count": 6,
   "metadata": {},
   "outputs": [
    {
     "data": {
      "text/plain": [
       "phone\n",
       "s    91\n",
       "ʂ    10\n",
       "Name: count, dtype: int64"
      ]
     },
     "execution_count": 6,
     "metadata": {},
     "output_type": "execute_result"
    }
   ],
   "source": [
    "onset_phone = phones_df.groupby(\"utt_id\").first().iloc[:, :2]\n",
    "onset_phone.phone.value_counts()"
   ]
  },
  {
   "cell_type": "code",
   "execution_count": 7,
   "metadata": {},
   "outputs": [
    {
     "data": {
      "text/plain": [
       "annot\n",
       "s    73\n",
       "ʂ    28\n",
       "Name: count, dtype: int64"
      ]
     },
     "execution_count": 7,
     "metadata": {},
     "output_type": "execute_result"
    }
   ],
   "source": [
    "annot_df.annot.value_counts()"
   ]
  },
  {
   "cell_type": "code",
   "execution_count": 8,
   "metadata": {},
   "outputs": [],
   "source": [
    "annot_df = annot_df.join(onset_phone, on=\"utt_id\")\n",
    "# annot_df.set_index(\"id\").join(onset_phone.set_index(\"utt_id\")\n"
   ]
  },
  {
   "cell_type": "code",
   "execution_count": 9,
   "metadata": {},
   "outputs": [
    {
     "name": "stdout",
     "output_type": "stream",
     "text": [
      "              precision    recall  f1-score   support\n",
      "\n",
      "           s       0.77      0.96      0.85        73\n",
      "           ʂ       0.70      0.25      0.37        28\n",
      "\n",
      "    accuracy                           0.76       101\n",
      "   macro avg       0.73      0.60      0.61       101\n",
      "weighted avg       0.75      0.76      0.72       101\n",
      "\n"
     ]
    }
   ],
   "source": [
    "from sklearn.metrics import classification_report, confusion_matrix, ConfusionMatrixDisplay\n",
    "print(classification_report(annot_df.annot, annot_df.phone))"
   ]
  },
  {
   "cell_type": "code",
   "execution_count": 10,
   "metadata": {},
   "outputs": [
    {
     "data": {
      "text/plain": [
       "Text(0.5, 0, 'Forced-alignment')"
      ]
     },
     "execution_count": 10,
     "metadata": {},
     "output_type": "execute_result"
    },
    {
     "data": {
      "image/png": "[encoded data removed]",
      "text/plain": [
       "<Figure size 640x480 with 1 Axes>"
      ]
     },
     "metadata": {},
     "output_type": "display_data"
    }
   ],
   "source": [
    "import matplotlib.pyplot as plt\n",
    "cm_disp = ConfusionMatrixDisplay(confusion_matrix(annot_df.annot, annot_df.phone), \n",
    "                       display_labels=[\"s\", \"ʂ\"])\n",
    "cm_disp.plot(colorbar=False, text_kw={\"fontsize\": 16})\n",
    "plt.ylabel(\"Manual Annotation\")\n",
    "plt.xlabel(\"Forced-alignment\")"
   ]
  },
  {
   "cell_type": "code",
   "execution_count": null,
   "metadata": {},
   "outputs": [],
   "source": []
  }
 ],
 "metadata": {
  "kernelspec": {
   "display_name": "mfa",
   "language": "python",
   "name": "python3"
  },
  "language_info": {
   "codemirror_mode": {
    "name": "ipython",
    "version": 3
   },
   "file_extension": ".py",
   "mimetype": "text/x-python",
   "name": "python",
   "nbconvert_exporter": "python",
   "pygments_lexer": "ipython3",
   "version": "3.11.3"
  },
  "orig_nbformat": 4
 },
 "nbformat": 4,
 "nbformat_minor": 2
}
