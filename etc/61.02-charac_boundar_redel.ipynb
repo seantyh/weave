{
 "cells": [
  {
   "cell_type": "code",
   "execution_count": 1,
   "id": "2f28dce1-2065-4bfd-a306-a548ad7b74c6",
   "metadata": {},
   "outputs": [],
   "source": [
    "%load_ext watermark"
   ]
  },
  {
   "cell_type": "code",
   "execution_count": 2,
   "id": "1263b3bc-9061-4f4e-acb6-06397864c573",
   "metadata": {},
   "outputs": [],
   "source": [
    "import re\n",
    "from itertools import chain\n",
    "from pathlib import Path\n",
    "from tqdm.auto import tqdm\n",
    "import pynini as pn"
   ]
  },
  {
   "cell_type": "code",
   "execution_count": 3,
   "id": "447f537f-a54d-452c-ac35-52691337f5dc",
   "metadata": {},
   "outputs": [],
   "source": [
    "dict_dir = Path(\"/Users/seantyh/Documents/MFA/pretrained_models/dictionary/\")\n",
    "dict_name = \"mandarin_taiwan_mfa_redelvar.dict\"\n",
    "dtext = (dict_dir / dict_name).read_text()"
   ]
  },
  {
   "cell_type": "code",
   "execution_count": 4,
   "id": "5075ac57-e236-4700-8a80-fd4492439ae7",
   "metadata": {},
   "outputs": [
    {
     "data": {
      "text/plain": [
       "616593"
      ]
     },
     "execution_count": 4,
     "metadata": {},
     "output_type": "execute_result"
    }
   ],
   "source": [
    "ipa_list = []\n",
    "for ln in dtext.split(\"\\n\"):\n",
    "    fields = ln.strip().split(\"\\t\")\n",
    "    if len(fields) < 6:\n",
    "        continue\n",
    "    ipa_x = fields[5]\n",
    "    word = fields[0]\n",
    "    if ipa_x in (\"sil\", \"spn\") or \\\n",
    "       ipa_x.startswith(\"#\"):\n",
    "        continue\n",
    "    ipa_list.append((word, ipa_x))\n",
    "len(ipa_list)    "
   ]
  },
  {
   "cell_type": "code",
   "execution_count": 5,
   "id": "e91b6709-ebef-4082-9911-cc6dbad4b8cd",
   "metadata": {},
   "outputs": [],
   "source": [
    "def tokenize(x):\n",
    "    toks = x.split()\n",
    "    outs = []\n",
    "    for tok_x in toks:\n",
    "        tone = re.findall(\"[\\u02e5-\\u02e9]+\", tok_x)\n",
    "        if tone:\n",
    "            outs.append(tok_x.replace(tone[0], \"\"))\n",
    "            outs.append(tone[0])\n",
    "        else:\n",
    "            outs.append(tok_x)\n",
    "    return outs\n",
    "\n",
    "token_set = set(chain.from_iterable(\n",
    "                tokenize(x) \n",
    "                for x in map(lambda x: x[1], ipa_list)))"
   ]
  },
  {
   "cell_type": "code",
   "execution_count": 6,
   "id": "757a4f73-7461-404c-ac72-db5e7b5c9d6c",
   "metadata": {},
   "outputs": [
    {
     "data": {
      "text/plain": [
       "48"
      ]
     },
     "execution_count": 6,
     "metadata": {},
     "output_type": "execute_result"
    }
   ],
   "source": [
    "len(token_set)"
   ]
  },
  {
   "cell_type": "code",
   "execution_count": 7,
   "id": "8e0c865e-2706-443b-bdeb-e5f59ca266c0",
   "metadata": {},
   "outputs": [
    {
     "data": {
      "text/plain": [
       "{'˥˥', '˥˩', '˦', '˧˥', '˨', '˨˩˦', '˩'}"
      ]
     },
     "execution_count": 7,
     "metadata": {},
     "output_type": "execute_result"
    }
   ],
   "source": [
    "tone_set = set(x for x in token_set if re.match(\"[\\u02e5-\\u02e9]+\", x))\n",
    "tone_set"
   ]
  },
  {
   "cell_type": "code",
   "execution_count": 8,
   "id": "f095976b-c613-4667-802e-bd9d55ff202d",
   "metadata": {},
   "outputs": [],
   "source": [
    "def fsa_tokenize(instr): \n",
    "    return \" \".join(f\"[{x}]\" \n",
    "                    for x in tokenize(instr))\n",
    "\n",
    "def accep(t):\n",
    "    a = pn.accep(t, token_type=sym)\n",
    "    a.set_input_symbols(sym)\n",
    "    return a\n",
    "\n",
    "def postproc(s):\n",
    "    s = re.sub(r\"[\\[\\]]\", \"\", s.strip())\n",
    "    s = re.sub(r\" ([\\u02e5-\\u02e9]+)\", \"\\\\1\", s)\n",
    "    return s\n",
    "\n",
    "def decode_path(fst):\n",
    "    fst.set_output_symbols(sym)\n",
    "    sp = pn.shortestpath(fst).paths(input_token_type=sym, output_token_type=sym)\n",
    "    return list(sp.ostrings())[0]\n",
    "\n",
    "def make_syllables(syllstr):\n",
    "    return [postproc(x) \n",
    "            for x in syllstr.split(\",\") \n",
    "            if x]"
   ]
  },
  {
   "cell_type": "code",
   "execution_count": 9,
   "id": "4500d06f-f924-4af3-a634-43ee9f58b4ea",
   "metadata": {},
   "outputs": [
    {
     "data": {
      "text/plain": [
       "41"
      ]
     },
     "execution_count": 9,
     "metadata": {},
     "output_type": "execute_result"
    }
   ],
   "source": [
    "phone_set = token_set - tone_set\n",
    "len(phone_set)"
   ]
  },
  {
   "cell_type": "code",
   "execution_count": 10,
   "id": "6b42fd88-30c4-4b2f-88c6-311d5d439c4f",
   "metadata": {},
   "outputs": [],
   "source": [
    "sym = pn.SymbolTable()\n",
    "sym.add_symbol(\"(eps)\", 0)\n",
    "sym.add_symbol(\",\", 1)\n",
    "for tok_x in token_set:\n",
    "    sym.add_symbol(f\"[{tok_x}]\", sym.num_symbols())"
   ]
  },
  {
   "cell_type": "code",
   "execution_count": 11,
   "id": "8226af13-62d4-4ffb-b050-0caaa1b3de46",
   "metadata": {},
   "outputs": [],
   "source": [
    "coda_fsa = pn.union(accep(\"[n]\"), accep(\"[ŋ]\"))\n",
    "phones_fsa = pn.union(*[accep(f\"[{x}]\") for x in phone_set])\n",
    "tones_fsa = pn.union(*[accep(f\"[{x}]\") for x in tone_set])\n",
    "boundary_fst = pn.cross(accep(\"\"), accep(\",\"))\n",
    "er_fsa_1 = accep(\"[ɻ]\")\n",
    "er_fsa_2 = accep(\"[ʔ]\") + accep(\"[o]\") + tones_fsa + accep(\"[ɻ]\") # all tones of 二\n",
    "er_fsa_3 = accep(\"[o]\") + tones_fsa + accep(\"[ɻ]\") # all tones of 二 after onset deletion\n",
    "er_fsa = pn.union(er_fsa_1, er_fsa_2, er_fsa_3)"
   ]
  },
  {
   "cell_type": "code",
   "execution_count": 12,
   "id": "bb54b38f-a6a4-4149-bc34-178f3bee7014",
   "metadata": {},
   "outputs": [],
   "source": [
    "syllable_fsa = phones_fsa.closure(1) + tones_fsa + coda_fsa.closure(0)\n",
    "syllable_fsa = pn.union(syllable_fsa, er_fsa)\n",
    "syllable_fsa.optimize()\n",
    "syllable_fst = syllable_fsa + boundary_fst\n",
    "pron_fst = syllable_fst.closure(1)\n",
    "pron_fst.optimize()\n",
    "pron_fst.set_input_symbols(sym)\n",
    "pron_fst.set_output_symbols(sym)\n",
    "pass  # suppress output"
   ]
  },
  {
   "cell_type": "code",
   "execution_count": 13,
   "id": "ce511351-cef5-45fd-9e60-816f812b17e6",
   "metadata": {},
   "outputs": [
    {
     "data": {
      "image/svg+xml": [
       "<?xml version=\"1.0\" encoding=\"UTF-8\"?>\n",
       "<svg xmlns=\"http://www.w3.org/2000/svg\" xmlns:xlink=\"http://www.w3.org/1999/xlink\" width=\"138pt\" height=\"200pt\" viewBox=\"0 0 138 200\" version=\"1.1\">\n",
       "<defs>\n",
       "<g>\n",
       "<symbol overflow=\"visible\" id=\"glyph0-0\">\n",
       "<path style=\"stroke:none;\" d=\"M 1.941406 0 L 1.941406 -8.75 L 8.941406 -8.75 L 8.941406 0 Z M 2.160156 -0.21875 L 8.722656 -0.21875 L 8.722656 -8.53125 L 2.160156 -8.53125 Z M 2.160156 -0.21875 \"/>\n",
       "</symbol>\n",
       "<symbol overflow=\"visible\" id=\"glyph0-1\">\n",
       "<path style=\"stroke:none;\" d=\"M 0.507812 -4.582031 C 0.507812 -5.636719 0.664062 -6.546875 0.984375 -7.3125 C 1.304688 -8.074219 1.726562 -8.644531 2.257812 -9.015625 C 2.667969 -9.3125 3.089844 -9.460938 3.527344 -9.460938 C 4.238281 -9.460938 4.875 -9.097656 5.441406 -8.375 C 6.148438 -7.476562 6.5 -6.257812 6.5 -4.722656 C 6.5 -3.648438 6.347656 -2.734375 6.035156 -1.984375 C 5.726562 -1.230469 5.332031 -0.683594 4.851562 -0.34375 C 4.371094 -0.00390625 3.90625 0.164062 3.460938 0.164062 C 2.574219 0.164062 1.839844 -0.359375 1.25 -1.402344 C 0.753906 -2.28125 0.507812 -3.339844 0.507812 -4.582031 Z M 1.847656 -4.410156 C 1.847656 -3.132812 2.003906 -2.09375 2.316406 -1.285156 C 2.578125 -0.605469 2.964844 -0.265625 3.480469 -0.265625 C 3.726562 -0.265625 3.980469 -0.378906 4.246094 -0.597656 C 4.511719 -0.820312 4.710938 -1.191406 4.847656 -1.710938 C 5.058594 -2.492188 5.160156 -3.597656 5.160156 -5.023438 C 5.160156 -6.082031 5.050781 -6.964844 4.832031 -7.671875 C 4.667969 -8.195312 4.457031 -8.566406 4.199219 -8.785156 C 4.011719 -8.933594 3.785156 -9.011719 3.519531 -9.011719 C 3.210938 -9.011719 2.933594 -8.871094 2.695312 -8.59375 C 2.367188 -8.214844 2.140625 -7.621094 2.023438 -6.808594 C 1.90625 -5.996094 1.847656 -5.199219 1.847656 -4.410156 Z M 1.847656 -4.410156 \"/>\n",
       "</symbol>\n",
       "<symbol overflow=\"visible\" id=\"glyph0-2\">\n",
       "<path style=\"stroke:none;\" d=\"M 1.640625 -8.359375 L 3.898438 -9.460938 L 4.121094 -9.460938 L 4.121094 -1.632812 C 4.121094 -1.113281 4.144531 -0.789062 4.1875 -0.664062 C 4.230469 -0.535156 4.320312 -0.4375 4.457031 -0.371094 C 4.59375 -0.300781 4.871094 -0.261719 5.292969 -0.253906 L 5.292969 0 L 1.804688 0 L 1.804688 -0.253906 C 2.242188 -0.261719 2.523438 -0.300781 2.652344 -0.367188 C 2.78125 -0.433594 2.867188 -0.519531 2.917969 -0.632812 C 2.96875 -0.746094 2.996094 -1.078125 2.996094 -1.632812 L 2.996094 -6.636719 C 2.996094 -7.3125 2.972656 -7.746094 2.925781 -7.9375 C 2.894531 -8.082031 2.835938 -8.191406 2.75 -8.257812 C 2.667969 -8.328125 2.566406 -8.359375 2.449219 -8.359375 C 2.28125 -8.359375 2.042969 -8.289062 1.742188 -8.148438 Z M 1.640625 -8.359375 \"/>\n",
       "</symbol>\n",
       "<symbol overflow=\"visible\" id=\"glyph0-3\">\n",
       "<path style=\"stroke:none;\" d=\"M 4.15625 2.777344 L 1.148438 2.777344 L 1.148438 -9.480469 L 4.15625 -9.480469 L 4.15625 -8.941406 L 2.175781 -8.941406 L 2.175781 2.242188 L 4.15625 2.242188 Z M 4.15625 2.777344 \"/>\n",
       "</symbol>\n",
       "<symbol overflow=\"visible\" id=\"glyph0-4\">\n",
       "<path style=\"stroke:none;\" d=\"M 4.335938 0 L 3.269531 0 L 0.179688 -9.707031 L 0.972656 -10.023438 L 3.269531 -2.777344 L 3.269531 -10.023438 L 4.335938 -10.023438 Z M 4.335938 0 \"/>\n",
       "</symbol>\n",
       "<symbol overflow=\"visible\" id=\"glyph0-5\">\n",
       "<path style=\"stroke:none;\" d=\"M 0.511719 -9.480469 L 3.519531 -9.480469 L 3.519531 2.78125 L 0.511719 2.78125 L 0.511719 2.242188 L 2.496094 2.242188 L 2.496094 -8.941406 L 0.511719 -8.941406 Z M 0.511719 -9.480469 \"/>\n",
       "</symbol>\n",
       "<symbol overflow=\"visible\" id=\"glyph0-6\">\n",
       "<path style=\"stroke:none;\" d=\"M 4.335938 0 L 3.269531 0 L 3.269531 -8.957031 L 1.027344 -8.957031 L 1.027344 -10.023438 L 4.335938 -10.023438 Z M 4.335938 0 \"/>\n",
       "</symbol>\n",
       "<symbol overflow=\"visible\" id=\"glyph0-7\">\n",
       "<path style=\"stroke:none;\" d=\"M 4.335938 0 L 3.269531 0 L 3.269531 -8.273438 L 0.984375 -4.492188 L 0.261719 -5.023438 L 3.269531 -10.023438 L 4.335938 -10.023438 Z M 4.335938 0 \"/>\n",
       "</symbol>\n",
       "<symbol overflow=\"visible\" id=\"glyph0-8\">\n",
       "<path style=\"stroke:none;\" d=\"M 4.335938 0 L 1.027344 0 L 1.027344 -1.066406 L 3.269531 -1.066406 L 3.269531 -10.023438 L 4.335938 -10.023438 Z M 4.335938 0 \"/>\n",
       "</symbol>\n",
       "<symbol overflow=\"visible\" id=\"glyph0-9\">\n",
       "<path style=\"stroke:none;\" d=\"M 4.335938 0 L 3.269531 0 L 0.453125 -2.808594 L 1.027344 -3.507812 L 3.269531 -1.273438 L 3.269531 -10.023438 L 4.335938 -10.023438 Z M 4.335938 0 \"/>\n",
       "</symbol>\n",
       "<symbol overflow=\"visible\" id=\"glyph0-10\">\n",
       "<path style=\"stroke:none;\" d=\"M 4.335938 0 L 3.269531 0 L 3.269531 -6.714844 L 1.027344 -6.714844 L 1.027344 -7.78125 L 3.269531 -7.78125 L 3.269531 -10.023438 L 4.335938 -10.023438 Z M 4.335938 0 \"/>\n",
       "</symbol>\n",
       "<symbol overflow=\"visible\" id=\"glyph0-11\">\n",
       "<path style=\"stroke:none;\" d=\"M 4.335938 0 L 3.269531 0 L 3.269531 -2.242188 L 1.027344 -2.242188 L 1.027344 -3.308594 L 3.269531 -3.308594 L 3.269531 -10.023438 L 4.335938 -10.023438 Z M 4.335938 0 \"/>\n",
       "</symbol>\n",
       "<symbol overflow=\"visible\" id=\"glyph0-12\">\n",
       "<path style=\"stroke:none;\" d=\"M 5.980469 -0.144531 C 5.980469 0.882812 5.765625 1.664062 5.332031 2.207031 C 4.898438 2.75 4.296875 3.023438 3.519531 3.023438 C 3.128906 3.023438 2.828125 2.949219 2.613281 2.808594 C 2.402344 2.667969 2.296875 2.507812 2.296875 2.332031 C 2.296875 2.1875 2.351562 2.050781 2.457031 1.929688 C 2.566406 1.808594 2.699219 1.75 2.859375 1.75 C 3.066406 1.75 3.328125 1.882812 3.636719 2.152344 C 3.882812 2.371094 4.078125 2.480469 4.226562 2.480469 C 4.453125 2.480469 4.613281 2.367188 4.710938 2.140625 C 4.804688 1.914062 4.855469 1.414062 4.855469 0.644531 L 4.855469 -3.980469 C 4.855469 -4.554688 4.78125 -4.96875 4.632812 -5.222656 C 4.484375 -5.476562 4.234375 -5.605469 3.890625 -5.605469 C 3.335938 -5.605469 2.792969 -5.308594 2.261719 -4.71875 L 2.261719 -1.414062 C 2.261719 -0.953125 2.3125 -0.644531 2.414062 -0.488281 C 2.515625 -0.332031 2.753906 -0.253906 3.136719 -0.253906 L 3.28125 -0.253906 L 3.28125 0 L 0.183594 0 L 0.183594 -0.253906 L 0.320312 -0.253906 C 0.636719 -0.253906 0.851562 -0.332031 0.964844 -0.492188 C 1.078125 -0.652344 1.136719 -0.960938 1.136719 -1.414062 L 1.136719 -3.738281 C 1.136719 -4.546875 1.109375 -5.046875 1.054688 -5.242188 C 1 -5.4375 0.859375 -5.539062 0.636719 -5.539062 C 0.507812 -5.539062 0.359375 -5.503906 0.183594 -5.433594 L 0.0820312 -5.679688 L 1.96875 -6.445312 L 2.261719 -6.445312 L 2.261719 -5.121094 C 2.996094 -6.003906 3.699219 -6.445312 4.367188 -6.445312 C 5.445312 -6.445312 5.980469 -5.660156 5.980469 -4.089844 Z M 5.980469 -0.144531 \"/>\n",
       "</symbol>\n",
       "<symbol overflow=\"visible\" id=\"glyph0-13\">\n",
       "<path style=\"stroke:none;\" d=\"M 2.261719 -5.121094 C 2.996094 -6.003906 3.695312 -6.445312 4.363281 -6.445312 C 4.703125 -6.445312 4.996094 -6.359375 5.242188 -6.191406 C 5.488281 -6.019531 5.683594 -5.738281 5.832031 -5.347656 C 5.933594 -5.074219 5.980469 -4.652344 5.980469 -4.089844 L 5.980469 -1.414062 C 5.980469 -1.019531 6.011719 -0.75 6.078125 -0.609375 C 6.128906 -0.496094 6.207031 -0.40625 6.320312 -0.34375 C 6.433594 -0.277344 6.636719 -0.246094 6.9375 -0.246094 L 6.9375 0 L 3.84375 0 L 3.84375 -0.246094 L 3.972656 -0.246094 C 4.265625 -0.246094 4.46875 -0.289062 4.582031 -0.378906 C 4.699219 -0.46875 4.78125 -0.597656 4.828125 -0.773438 C 4.84375 -0.839844 4.855469 -1.054688 4.855469 -1.414062 L 4.855469 -3.980469 C 4.855469 -4.550781 4.78125 -4.960938 4.632812 -5.21875 C 4.484375 -5.476562 4.234375 -5.605469 3.882812 -5.605469 C 3.339844 -5.605469 2.800781 -5.308594 2.261719 -4.71875 L 2.261719 -1.414062 C 2.261719 -0.992188 2.289062 -0.730469 2.339844 -0.628906 C 2.402344 -0.496094 2.488281 -0.398438 2.601562 -0.339844 C 2.714844 -0.277344 2.941406 -0.246094 3.28125 -0.246094 L 3.28125 0 L 0.183594 0 L 0.183594 -0.246094 L 0.320312 -0.246094 C 0.640625 -0.246094 0.855469 -0.328125 0.96875 -0.488281 C 1.078125 -0.652344 1.136719 -0.960938 1.136719 -1.414062 L 1.136719 -3.738281 C 1.136719 -4.492188 1.117188 -4.949219 1.082031 -5.113281 C 1.050781 -5.277344 0.996094 -5.390625 0.925781 -5.449219 C 0.855469 -5.507812 0.761719 -5.539062 0.644531 -5.539062 C 0.515625 -5.539062 0.363281 -5.503906 0.183594 -5.433594 L 0.0820312 -5.679688 L 1.96875 -6.445312 L 2.261719 -6.445312 Z M 2.261719 -5.121094 \"/>\n",
       "</symbol>\n",
       "</g>\n",
       "<clipPath id=\"clip1\">\n",
       "  <path d=\"M 79 90 L 137.5 90 L 137.5 155 L 79 155 Z M 79 90 \"/>\n",
       "</clipPath>\n",
       "<clipPath id=\"clip2\">\n",
       "  <path d=\"M 75 86 L 137.5 86 L 137.5 159 L 75 159 Z M 75 86 \"/>\n",
       "</clipPath>\n",
       "<clipPath id=\"clip3\">\n",
       "  <path d=\"M 102 75 L 137.5 75 L 137.5 115 L 102 115 Z M 102 75 \"/>\n",
       "</clipPath>\n",
       "</defs>\n",
       "<g id=\"surface1\">\n",
       "<path style=\"fill:none;stroke-width:2;stroke-linecap:butt;stroke-linejoin:miter;stroke:rgb(0%,0%,0%);stroke-opacity:1;stroke-miterlimit:10;\" d=\"M 36 -73.953471 C 36 -64.012065 27.941406 -55.953471 18 -55.953471 C 8.058594 -55.953471 0 -64.012065 0 -73.953471 C 0 -83.894878 8.058594 -91.953471 18 -91.953471 C 27.941406 -91.953471 36 -83.894878 36 -73.953471 \" transform=\"matrix(1,0,0,1,4,196.453471)\"/>\n",
       "<g style=\"fill:rgb(0%,0%,0%);fill-opacity:1;\">\n",
       "  <use xlink:href=\"#glyph0-1\" x=\"18.625\" y=\"127.550781\"/>\n",
       "</g>\n",
       "<g clip-path=\"url(#clip1)\" clip-rule=\"nonzero\">\n",
       "<path style=\"fill:none;stroke-width:1;stroke-linecap:butt;stroke-linejoin:miter;stroke:rgb(0%,0%,0%);stroke-opacity:1;stroke-miterlimit:10;\" d=\"M 125.5 -73.953471 C 125.5 -64.012065 117.441406 -55.953471 107.5 -55.953471 C 97.558594 -55.953471 89.5 -64.012065 89.5 -73.953471 C 89.5 -83.894878 97.558594 -91.953471 107.5 -91.953471 C 117.441406 -91.953471 125.5 -83.894878 125.5 -73.953471 \" transform=\"matrix(1,0,0,1,4,196.453471)\"/>\n",
       "</g>\n",
       "<g clip-path=\"url(#clip2)\" clip-rule=\"nonzero\">\n",
       "<path style=\"fill:none;stroke-width:1;stroke-linecap:butt;stroke-linejoin:miter;stroke:rgb(0%,0%,0%);stroke-opacity:1;stroke-miterlimit:10;\" d=\"M 129.5 -73.953471 C 129.5 -61.805034 119.648438 -51.953471 107.5 -51.953471 C 95.351562 -51.953471 85.5 -61.805034 85.5 -73.953471 C 85.5 -86.101909 95.351562 -95.953471 107.5 -95.953471 C 119.648438 -95.953471 129.5 -86.101909 129.5 -73.953471 \" transform=\"matrix(1,0,0,1,4,196.453471)\"/>\n",
       "</g>\n",
       "<g style=\"fill:rgb(0%,0%,0%);fill-opacity:1;\">\n",
       "  <use xlink:href=\"#glyph0-2\" x=\"108.125\" y=\"127.550781\"/>\n",
       "</g>\n",
       "<path style=\"fill:none;stroke-width:1;stroke-linecap:butt;stroke-linejoin:miter;stroke:rgb(0%,0%,0%);stroke-opacity:1;stroke-miterlimit:10;\" d=\"M 18.988281 -92.047221 C 20.066406 -114.96519 25.792969 -153.668315 51 -171.953471 C 77.894531 -191.461284 93.539062 -141.898784 101.015625 -106.359721 \" transform=\"matrix(1,0,0,1,4,196.453471)\"/>\n",
       "<path style=\"fill-rule:nonzero;fill:rgb(0%,0%,0%);fill-opacity:1;stroke-width:1;stroke-linecap:butt;stroke-linejoin:miter;stroke:rgb(0%,0%,0%);stroke-opacity:1;stroke-miterlimit:10;\" d=\"M 104.582031 -107.359721 L 103.078125 -96.87144 L 97.714844 -106.008159 Z M 104.582031 -107.359721 \" transform=\"matrix(1,0,0,1,4,196.453471)\"/>\n",
       "<g style=\"fill:rgb(0%,0%,0%);fill-opacity:1;\">\n",
       "  <use xlink:href=\"#glyph0-3\" x=\"57.625\" y=\"17.300781\"/>\n",
       "  <use xlink:href=\"#glyph0-4\" x=\"62.125\" y=\"17.300781\"/>\n",
       "  <use xlink:href=\"#glyph0-5\" x=\"67.375\" y=\"17.300781\"/>\n",
       "</g>\n",
       "<path style=\"fill:none;stroke-width:1;stroke-linecap:butt;stroke-linejoin:miter;stroke:rgb(0%,0%,0%);stroke-opacity:1;stroke-miterlimit:10;\" d=\"M 23.453125 -91.59019 C 27.9375 -105.265971 36.34375 -123.301128 51 -131.953471 C 58.464844 -136.359721 62.925781 -136.168315 70.5 -131.953471 C 81.363281 -125.910503 89.367188 -115.082378 95.035156 -104.406596 \" transform=\"matrix(1,0,0,1,4,196.453471)\"/>\n",
       "<path style=\"fill-rule:nonzero;fill:rgb(0%,0%,0%);fill-opacity:1;stroke-width:1;stroke-linecap:butt;stroke-linejoin:miter;stroke:rgb(0%,0%,0%);stroke-opacity:1;stroke-miterlimit:10;\" d=\"M 98.472656 -106.320659 L 99.59375 -95.781596 L 92.148438 -103.320659 Z M 98.472656 -106.320659 \" transform=\"matrix(1,0,0,1,4,196.453471)\"/>\n",
       "<g style=\"fill:rgb(0%,0%,0%);fill-opacity:1;\">\n",
       "  <use xlink:href=\"#glyph0-3\" x=\"55\" y=\"58.300781\"/>\n",
       "  <use xlink:href=\"#glyph0-6\" x=\"59.5\" y=\"58.300781\"/>\n",
       "  <use xlink:href=\"#glyph0-6\" x=\"64.75\" y=\"58.300781\"/>\n",
       "  <use xlink:href=\"#glyph0-5\" x=\"70\" y=\"58.300781\"/>\n",
       "</g>\n",
       "<path style=\"fill:none;stroke-width:1;stroke-linecap:butt;stroke-linejoin:miter;stroke:rgb(0%,0%,0%);stroke-opacity:1;stroke-miterlimit:10;\" d=\"M 33.296875 -84.05894 C 38.601562 -87.238628 44.832031 -90.34019 51 -91.953471 C 59.382812 -94.148784 62.066406 -93.945659 70.5 -91.953471 C 73.023438 -91.355815 75.574219 -90.555034 78.089844 -89.62144 \" transform=\"matrix(1,0,0,1,4,196.453471)\"/>\n",
       "<path style=\"fill-rule:nonzero;fill:rgb(0%,0%,0%);fill-opacity:1;stroke-width:1;stroke-linecap:butt;stroke-linejoin:miter;stroke:rgb(0%,0%,0%);stroke-opacity:1;stroke-miterlimit:10;\" d=\"M 79.335938 -92.453471 L 87.070312 -85.211284 L 76.507812 -86.051128 Z M 79.335938 -92.453471 \" transform=\"matrix(1,0,0,1,4,196.453471)\"/>\n",
       "<g style=\"fill:rgb(0%,0%,0%);fill-opacity:1;\">\n",
       "  <use xlink:href=\"#glyph0-3\" x=\"57.625\" y=\"100.300781\"/>\n",
       "  <use xlink:href=\"#glyph0-7\" x=\"62.125\" y=\"100.300781\"/>\n",
       "  <use xlink:href=\"#glyph0-5\" x=\"67.375\" y=\"100.300781\"/>\n",
       "</g>\n",
       "<path style=\"fill:none;stroke-width:1;stroke-linecap:butt;stroke-linejoin:miter;stroke:rgb(0%,0%,0%);stroke-opacity:1;stroke-miterlimit:10;\" d=\"M 36.257812 -72.355815 C 41.027344 -71.984721 46.210938 -71.640971 51 -71.453471 C 58.578125 -71.156596 66.734375 -71.281596 74.398438 -71.59019 \" transform=\"matrix(1,0,0,1,4,196.453471)\"/>\n",
       "<path style=\"fill-rule:nonzero;fill:rgb(0%,0%,0%);fill-opacity:1;stroke-width:1;stroke-linecap:butt;stroke-linejoin:miter;stroke:rgb(0%,0%,0%);stroke-opacity:1;stroke-miterlimit:10;\" d=\"M 73.984375 -75.125346 L 84.15625 -72.15269 L 74.351562 -68.137065 Z M 73.984375 -75.125346 \" transform=\"matrix(1,0,0,1,4,196.453471)\"/>\n",
       "<g style=\"fill:rgb(0%,0%,0%);fill-opacity:1;\">\n",
       "  <use xlink:href=\"#glyph0-3\" x=\"57.625\" y=\"122.300781\"/>\n",
       "  <use xlink:href=\"#glyph0-8\" x=\"62.125\" y=\"122.300781\"/>\n",
       "  <use xlink:href=\"#glyph0-5\" x=\"67.375\" y=\"122.300781\"/>\n",
       "</g>\n",
       "<path style=\"fill:none;stroke-width:1;stroke-linecap:butt;stroke-linejoin:miter;stroke:rgb(0%,0%,0%);stroke-opacity:1;stroke-miterlimit:10;\" d=\"M 31.625 -61.797221 C 37.125 -57.316753 43.925781 -52.773784 51 -50.453471 C 59.234375 -47.754253 62.191406 -47.980815 70.5 -50.453471 C 73.933594 -51.476909 77.34375 -52.937846 80.621094 -54.644878 \" transform=\"matrix(1,0,0,1,4,196.453471)\"/>\n",
       "<path style=\"fill-rule:nonzero;fill:rgb(0%,0%,0%);fill-opacity:1;stroke-width:1;stroke-linecap:butt;stroke-linejoin:miter;stroke:rgb(0%,0%,0%);stroke-opacity:1;stroke-miterlimit:10;\" d=\"M 78.570312 -58.101909 L 88.9375 -60.281596 L 82.195312 -52.109721 Z M 78.570312 -58.101909 \" transform=\"matrix(1,0,0,1,4,196.453471)\"/>\n",
       "<g style=\"fill:rgb(0%,0%,0%);fill-opacity:1;\">\n",
       "  <use xlink:href=\"#glyph0-3\" x=\"55\" y=\"143.300781\"/>\n",
       "  <use xlink:href=\"#glyph0-9\" x=\"59.5\" y=\"143.300781\"/>\n",
       "  <use xlink:href=\"#glyph0-10\" x=\"64.75\" y=\"143.300781\"/>\n",
       "  <use xlink:href=\"#glyph0-5\" x=\"70\" y=\"143.300781\"/>\n",
       "</g>\n",
       "<path style=\"fill:none;stroke-width:1;stroke-linecap:butt;stroke-linejoin:miter;stroke:rgb(0%,0%,0%);stroke-opacity:1;stroke-miterlimit:10;\" d=\"M 25.5 -57.43394 C 30.667969 -46.765971 39.03125 -33.74644 51 -27.453471 C 58.671875 -23.422221 62.71875 -23.637065 70.5 -27.453471 C 78.800781 -31.523784 85.734375 -38.535503 91.230469 -45.894878 \" transform=\"matrix(1,0,0,1,4,196.453471)\"/>\n",
       "<path style=\"fill-rule:nonzero;fill:rgb(0%,0%,0%);fill-opacity:1;stroke-width:1;stroke-linecap:butt;stroke-linejoin:miter;stroke:rgb(0%,0%,0%);stroke-opacity:1;stroke-miterlimit:10;\" d=\"M 88.542969 -47.176128 L 97.011719 -53.539409 L 94.363281 -43.281596 Z M 88.542969 -47.176128 \" transform=\"matrix(1,0,0,1,4,196.453471)\"/>\n",
       "<g style=\"fill:rgb(0%,0%,0%);fill-opacity:1;\">\n",
       "  <use xlink:href=\"#glyph0-3\" x=\"57.625\" y=\"166.300781\"/>\n",
       "  <use xlink:href=\"#glyph0-11\" x=\"62.125\" y=\"166.300781\"/>\n",
       "  <use xlink:href=\"#glyph0-5\" x=\"67.375\" y=\"166.300781\"/>\n",
       "</g>\n",
       "<path style=\"fill:none;stroke-width:1;stroke-linecap:butt;stroke-linejoin:miter;stroke:rgb(0%,0%,0%);stroke-opacity:1;stroke-miterlimit:10;\" d=\"M 21.628906 -55.926128 C 25.140625 -39.113628 33.148438 -14.957378 51 -3.453471 C 71.050781 9.464497 86.972656 -18.293315 96.53125 -42.691753 \" transform=\"matrix(1,0,0,1,4,196.453471)\"/>\n",
       "<path style=\"fill-rule:nonzero;fill:rgb(0%,0%,0%);fill-opacity:1;stroke-width:1;stroke-linecap:butt;stroke-linejoin:miter;stroke:rgb(0%,0%,0%);stroke-opacity:1;stroke-miterlimit:10;\" d=\"M 93.507812 -43.62144 L 100.230469 -51.812846 L 100.082031 -41.219096 Z M 93.507812 -43.62144 \" transform=\"matrix(1,0,0,1,4,196.453471)\"/>\n",
       "<g style=\"fill:rgb(0%,0%,0%);fill-opacity:1;\">\n",
       "  <use xlink:href=\"#glyph0-3\" x=\"57.625\" y=\"190.300781\"/>\n",
       "  <use xlink:href=\"#glyph0-10\" x=\"62.125\" y=\"190.300781\"/>\n",
       "  <use xlink:href=\"#glyph0-5\" x=\"67.375\" y=\"190.300781\"/>\n",
       "</g>\n",
       "<path style=\"fill:none;stroke-width:1;stroke-linecap:butt;stroke-linejoin:miter;stroke:rgb(0%,0%,0%);stroke-opacity:1;stroke-miterlimit:10;\" d=\"M 103.1875 -95.762065 C 102.773438 -105.515971 104.210938 -113.953471 107.5 -113.953471 C 109.453125 -113.953471 110.75 -110.980815 111.398438 -106.519878 \" transform=\"matrix(1,0,0,1,4,196.453471)\"/>\n",
       "<path style=\"fill-rule:nonzero;fill:rgb(0%,0%,0%);fill-opacity:1;stroke-width:1;stroke-linecap:butt;stroke-linejoin:miter;stroke:rgb(0%,0%,0%);stroke-opacity:1;stroke-miterlimit:10;\" d=\"M 114.925781 -106.887065 L 111.8125 -96.762065 L 107.933594 -106.617534 Z M 114.925781 -106.887065 \" transform=\"matrix(1,0,0,1,4,196.453471)\"/>\n",
       "<g style=\"fill:rgb(0%,0%,0%);fill-opacity:1;\">\n",
       "  <use xlink:href=\"#glyph0-3\" x=\"103.625\" y=\"79.300781\"/>\n",
       "  <use xlink:href=\"#glyph0-12\" x=\"108.125\" y=\"79.300781\"/>\n",
       "  <use xlink:href=\"#glyph0-5\" x=\"114.875\" y=\"79.300781\"/>\n",
       "</g>\n",
       "<path style=\"fill:none;stroke-width:1;stroke-linecap:butt;stroke-linejoin:miter;stroke:rgb(0%,0%,0%);stroke-opacity:1;stroke-miterlimit:10;\" d=\"M 100.125 -95.066753 C 96.871094 -113.047221 99.328125 -131.953471 107.5 -131.953471 C 114.011719 -131.953471 116.894531 -119.949565 116.152344 -105.973003 \" transform=\"matrix(1,0,0,1,4,196.453471)\"/>\n",
       "<path style=\" stroke:none;fill-rule:nonzero;fill:rgb(0%,0%,0%);fill-opacity:1;\" d=\"M 123.511719 90.859375 L 118.875 100.386719 L 116.5625 90.046875 Z M 123.511719 90.859375 \"/>\n",
       "<g clip-path=\"url(#clip3)\" clip-rule=\"nonzero\">\n",
       "<path style=\"fill:none;stroke-width:1;stroke-linecap:butt;stroke-linejoin:miter;stroke:rgb(0%,0%,0%);stroke-opacity:1;stroke-miterlimit:10;\" d=\"M 119.511719 -105.594096 L 114.875 -96.066753 L 112.5625 -106.406596 Z M 119.511719 -105.594096 \" transform=\"matrix(1,0,0,1,4,196.453471)\"/>\n",
       "</g>\n",
       "<g style=\"fill:rgb(0%,0%,0%);fill-opacity:1;\">\n",
       "  <use xlink:href=\"#glyph0-3\" x=\"103.625\" y=\"61.300781\"/>\n",
       "  <use xlink:href=\"#glyph0-13\" x=\"108.125\" y=\"61.300781\"/>\n",
       "  <use xlink:href=\"#glyph0-5\" x=\"114.875\" y=\"61.300781\"/>\n",
       "</g>\n",
       "</g>\n",
       "</svg>\n"
      ],
      "text/plain": [
       "<vector Fst at 0x103e6c8b0>"
      ]
     },
     "execution_count": 13,
     "metadata": {},
     "output_type": "execute_result"
    }
   ],
   "source": [
    "(tones_fsa.optimize()+coda_fsa).optimize()"
   ]
  },
  {
   "cell_type": "code",
   "execution_count": 14,
   "id": "085562ad-c44c-4ab6-8c71-0f5f2b19605b",
   "metadata": {},
   "outputs": [
    {
     "data": {
      "application/vnd.jupyter.widget-view+json": {
       "model_id": "ef4e7de76c8f418eb5db32e8c729be08",
       "version_major": 2,
       "version_minor": 0
      },
      "text/plain": [
       "  0%|          | 0/616593 [00:00<?, ?it/s]"
      ]
     },
     "metadata": {},
     "output_type": "display_data"
    }
   ],
   "source": [
    "flog = open(\"../data/charac_boundary.log\", \"w\", encoding=\"UTF-8\")\n",
    "ipa_sylls = []\n",
    "for word, ipa_x in tqdm(ipa_list):\n",
    "\n",
    "    tok_str = fsa_tokenize(ipa_x)\n",
    "    try:\n",
    "        syllstr = decode_path(accep(tok_str) @ pron_fst)\n",
    "    except:\n",
    "        print(ipa_x)\n",
    "        break\n",
    "    sylls = make_syllables(syllstr)\n",
    "    \n",
    "    word_chk = word.replace(\"，\", \"\")\n",
    "    if len(word_chk) != len(sylls):\n",
    "        flog.write(str((word, ipa_x, sylls)))\n",
    "        flog.write(\"\\n\")\n",
    "    \n",
    "    ipa_sylls.append((word, ipa_x, \" | \".join(sylls)))\n",
    "flog.close()"
   ]
  },
  {
   "attachments": {},
   "cell_type": "markdown",
   "id": "0cd3b695-ef96-426e-a183-66cef6e641ea",
   "metadata": {},
   "source": [
    "## Output data"
   ]
  },
  {
   "cell_type": "code",
   "execution_count": 15,
   "id": "cb6c2e4c-95b7-45dd-9677-73ce4b79d27e",
   "metadata": {},
   "outputs": [],
   "source": [
    "import pandas as pd\n",
    "oframe = pd.DataFrame(ipa_sylls, columns=\"word ipa syllables\".split())"
   ]
  },
  {
   "cell_type": "code",
   "execution_count": 16,
   "id": "21e977e8-b288-4fcf-b7fc-ee2e8a103143",
   "metadata": {},
   "outputs": [],
   "source": [
    "out_path = Path(\"../data/\") / Path(dict_name).with_suffix(\".syll.tsv\")"
   ]
  },
  {
   "cell_type": "code",
   "execution_count": 17,
   "id": "b27066a2-99d9-4e65-9875-da001f950df8",
   "metadata": {},
   "outputs": [],
   "source": [
    "oframe.to_csv(out_path, sep=\"\\t\", index=False)"
   ]
  },
  {
   "cell_type": "code",
   "execution_count": 18,
   "id": "21dd3670-35aa-443f-958b-eb8576d94d19",
   "metadata": {},
   "outputs": [
    {
     "name": "stdout",
     "output_type": "stream",
     "text": [
      "bb6c0a5d02d79f6ade53de9da1fa7639a03c3d4c  ../data/mandarin_taiwan_mfa_redelvar.syll.tsv\n"
     ]
    }
   ],
   "source": [
    "!sha1sum $out_path"
   ]
  },
  {
   "cell_type": "code",
   "execution_count": 19,
   "id": "9aed3db4-38bb-4b54-8879-63c949be5910",
   "metadata": {},
   "outputs": [
    {
     "data": {
      "text/html": [
       "<div>\n",
       "<style scoped>\n",
       "    .dataframe tbody tr th:only-of-type {\n",
       "        vertical-align: middle;\n",
       "    }\n",
       "\n",
       "    .dataframe tbody tr th {\n",
       "        vertical-align: top;\n",
       "    }\n",
       "\n",
       "    .dataframe thead th {\n",
       "        text-align: right;\n",
       "    }\n",
       "</style>\n",
       "<table border=\"1\" class=\"dataframe\">\n",
       "  <thead>\n",
       "    <tr style=\"text-align: right;\">\n",
       "      <th></th>\n",
       "      <th>word</th>\n",
       "      <th>ipa</th>\n",
       "      <th>syllables</th>\n",
       "    </tr>\n",
       "  </thead>\n",
       "  <tbody>\n",
       "    <tr>\n",
       "      <th>0</th>\n",
       "      <td>㐌</td>\n",
       "      <td>i˧˥</td>\n",
       "      <td>i˧˥</td>\n",
       "    </tr>\n",
       "    <tr>\n",
       "      <th>1</th>\n",
       "      <td>㐖</td>\n",
       "      <td>ɕ j e˧˥</td>\n",
       "      <td>ɕ j e˧˥</td>\n",
       "    </tr>\n",
       "    <tr>\n",
       "      <th>2</th>\n",
       "      <td>㐖</td>\n",
       "      <td>j e˧˥</td>\n",
       "      <td>j e˧˥</td>\n",
       "    </tr>\n",
       "    <tr>\n",
       "      <th>3</th>\n",
       "      <td>㐖毒</td>\n",
       "      <td>ɕ j e˧˥ t u˧˥</td>\n",
       "      <td>ɕ j e˧˥ | t u˧˥</td>\n",
       "    </tr>\n",
       "    <tr>\n",
       "      <th>4</th>\n",
       "      <td>㐖毒</td>\n",
       "      <td>ɕ j e˧˥ u˧˥</td>\n",
       "      <td>ɕ j e˧˥ | u˧˥</td>\n",
       "    </tr>\n",
       "  </tbody>\n",
       "</table>\n",
       "</div>"
      ],
      "text/plain": [
       "  word            ipa        syllables\n",
       "0    㐌            i˧˥              i˧˥\n",
       "1    㐖        ɕ j e˧˥          ɕ j e˧˥\n",
       "2    㐖          j e˧˥            j e˧˥\n",
       "3   㐖毒  ɕ j e˧˥ t u˧˥  ɕ j e˧˥ | t u˧˥\n",
       "4   㐖毒    ɕ j e˧˥ u˧˥    ɕ j e˧˥ | u˧˥"
      ]
     },
     "execution_count": 19,
     "metadata": {},
     "output_type": "execute_result"
    }
   ],
   "source": [
    "oframe.head()"
   ]
  },
  {
   "attachments": {},
   "cell_type": "markdown",
   "id": "ac8c7ec3-d5e6-4562-91ea-3d9b02ec9954",
   "metadata": {},
   "source": [
    "## Watermarks"
   ]
  },
  {
   "cell_type": "code",
   "execution_count": 20,
   "id": "91f0f66e-3142-408c-abe0-7fe41525af73",
   "metadata": {},
   "outputs": [
    {
     "name": "stdout",
     "output_type": "stream",
     "text": [
      "Last updated: 2023-05-16T11:58:02.347120+02:00\n",
      "\n",
      "Python implementation: CPython\n",
      "Python version       : 3.10.10\n",
      "IPython version      : 8.13.1\n",
      "\n",
      "Compiler    : Clang 14.0.6 \n",
      "OS          : Darwin\n",
      "Release     : 22.1.0\n",
      "Machine     : arm64\n",
      "Processor   : arm\n",
      "CPU cores   : 8\n",
      "Architecture: 64bit\n",
      "\n"
     ]
    }
   ],
   "source": [
    "%watermark"
   ]
  },
  {
   "cell_type": "code",
   "execution_count": 21,
   "id": "bae08c7d-8f3c-4ee8-8d66-da5b833a0b22",
   "metadata": {},
   "outputs": [
    {
     "name": "stdout",
     "output_type": "stream",
     "text": [
      "pandas: 2.0.1\n",
      "pynini: 2.1.5\n",
      "re    : 2.2.1\n",
      "\n"
     ]
    }
   ],
   "source": [
    "%watermark --iversion"
   ]
  },
  {
   "cell_type": "code",
   "execution_count": null,
   "id": "6b0210f6-16d5-41d0-b581-4bedfbc972df",
   "metadata": {},
   "outputs": [],
   "source": []
  }
 ],
 "metadata": {
  "kernelspec": {
   "display_name": "Python 3 (ipykernel)",
   "language": "python",
   "name": "python3"
  },
  "language_info": {
   "codemirror_mode": {
    "name": "ipython",
    "version": 3
   },
   "file_extension": ".py",
   "mimetype": "text/x-python",
   "name": "python",
   "nbconvert_exporter": "python",
   "pygments_lexer": "ipython3",
   "version": "3.10.10"
  }
 },
 "nbformat": 4,
 "nbformat_minor": 5
}
