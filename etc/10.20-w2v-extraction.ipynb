{
 "cells": [
  {
   "cell_type": "code",
   "execution_count": 1,
   "id": "18e609c0-7aa0-4d2e-a877-ec16bd5eb3eb",
   "metadata": {},
   "outputs": [],
   "source": [
    "%load_ext watermark"
   ]
  },
  {
   "cell_type": "markdown",
   "id": "aaacea3c-1b40-4259-8ad0-e90250d4a52d",
   "metadata": {},
   "source": [
    "## Data dependencies"
   ]
  },
  {
   "cell_type": "markdown",
   "id": "719909d1-6bed-4e8b-a036-049c66c55d53",
   "metadata": {},
   "source": [
    "```\n",
    "Directory hash: '878029d4ec735540276c27aac3b21c7221088c34'\n",
    "```"
   ]
  },
  {
   "cell_type": "code",
   "execution_count": 2,
   "id": "cfe0575b-3587-4c17-bc11-9380b7ca9d93",
   "metadata": {},
   "outputs": [
    {
     "data": {
      "text/plain": [
       "'878029d4ec735540276c27aac3b21c7221088c34'"
      ]
     },
     "execution_count": 2,
     "metadata": {},
     "output_type": "execute_result"
    }
   ],
   "source": [
    "from hashlib import sha1\n",
    "from pathlib import Path\n",
    "asp_dir = \"../data/asp\"\n",
    "h = sha1()\n",
    "for path_x in Path(asp_dir).glob(\"*.txt\"):\n",
    "    h.update(path_x.read_text().encode())\n",
    "h.hexdigest()"
   ]
  },
  {
   "cell_type": "markdown",
   "id": "520181f5-2224-4e6a-8b8a-c3d77c339f1f",
   "metadata": {},
   "source": [
    "## Load data"
   ]
  },
  {
   "cell_type": "code",
   "execution_count": 3,
   "id": "afbd3947-0de8-4d3b-9640-e499dac9ca42",
   "metadata": {},
   "outputs": [],
   "source": [
    "from tqdm.auto import tqdm\n",
    "import pandas as pd\n",
    "import torch\n",
    "import torchaudio\n",
    "import torchaudio.functional as T\n",
    "from transformers import AutoProcessor, Wav2Vec2Model"
   ]
  },
  {
   "cell_type": "code",
   "execution_count": 4,
   "id": "5da0e714-ed06-4f13-a408-faeb923e83e6",
   "metadata": {},
   "outputs": [
    {
     "name": "stderr",
     "output_type": "stream",
     "text": [
      "Some weights of the model checkpoint at facebook/wav2vec2-large-xlsr-53 were not used when initializing Wav2Vec2Model: ['quantizer.weight_proj.weight', 'project_q.bias', 'quantizer.codevectors', 'project_hid.bias', 'project_hid.weight', 'project_q.weight', 'quantizer.weight_proj.bias']\n",
      "- This IS expected if you are initializing Wav2Vec2Model from the checkpoint of a model trained on another task or with another architecture (e.g. initializing a BertForSequenceClassification model from a BertForPreTraining model).\n",
      "- This IS NOT expected if you are initializing Wav2Vec2Model from the checkpoint of a model that you expect to be exactly identical (initializing a BertForSequenceClassification model from a BertForSequenceClassification model).\n"
     ]
    }
   ],
   "source": [
    "processor = AutoProcessor.from_pretrained(\"facebook/wav2vec2-base-960h\")\n",
    "model = Wav2Vec2Model.from_pretrained(\"facebook/wav2vec2-large-xlsr-53\")"
   ]
  },
  {
   "cell_type": "code",
   "execution_count": 5,
   "id": "7b360615-3ccd-4480-9bdd-dc47b3ad8784",
   "metadata": {},
   "outputs": [
    {
     "data": {
      "application/vnd.jupyter.widget-view+json": {
       "model_id": "b809d0ecf60f4fe48946ad358464852b",
       "version_major": 2,
       "version_minor": 0
      },
      "text/plain": [
       "  0%|          | 0/2512 [00:00<?, ?it/s]"
      ]
     },
     "metadata": {},
     "output_type": "display_data"
    }
   ],
   "source": [
    "wav_dir = Path(\"../data/TaiwaneseMandarinCorpus/\")\n",
    "for path_x in Path(asp_dir).glob(\"*.txt\"):\n",
    "    df = pd.read_csv(path_x)\n",
    "    df_vec = pd.DataFrame(columns=[\"w2v_first\", \"w2v_mean\"], \n",
    "                          index=df.index)\n",
    "    wav_path = wav_dir / f\"{path_x.stem}.wav\"\n",
    "    assert wav_path.exists()\n",
    "    \n",
    "    wav, sr = torchaudio.load(wav_path)\n",
    "    ## by-item loop\n",
    "    for idx, row in tqdm(df.iterrows(), total=df.shape[0]):\n",
    "        start_frame = int(row.start_t * sr)\n",
    "        end_frame = int(row.end_t * sr)\n",
    "        seg = wav[:,start_frame:end_frame]\n",
    "        re_seg = T.resample(seg.squeeze(), sr, 16000)\n",
    "        inputs = processor(re_seg, sampling_rate=16000, return_tensors=\"pt\")\n",
    "        with torch.no_grad():\n",
    "            outputs = model(**inputs)\n",
    "\n",
    "        last_hidden_states = outputs.last_hidden_state.squeeze(dim=0)\n",
    "        df_vec.at[idx, \"w2v_first\"] = last_hidden_states[0,:].numpy()\n",
    "        df_vec.at[idx, \"w2v_mean\"] = last_hidden_states.mean(dim=0).numpy()\n",
    "        \n",
    "    break"
   ]
  },
  {
   "cell_type": "code",
   "execution_count": 6,
   "id": "89db068b-987a-411c-96ee-1f9c4986cf7c",
   "metadata": {},
   "outputs": [],
   "source": [
    "df_merged = df.join(df_vec)"
   ]
  },
  {
   "cell_type": "code",
   "execution_count": 7,
   "id": "05c0246b-9790-4d5f-829d-1c8ed85329e5",
   "metadata": {},
   "outputs": [
    {
     "name": "stdout",
     "output_type": "stream",
     "text": [
      "53afcbbae6cbf63b8b2d4c81fecd44e8dda1f9d6  ../data/CXH2_GY.w2v.parquet\n"
     ]
    }
   ],
   "source": [
    "sbjname = path_x.stem\n",
    "out_path = f\"../data/{sbjname}.w2v.parquet\"\n",
    "df_merged.to_parquet(out_path)\n",
    "!sha1sum $out_path"
   ]
  },
  {
   "cell_type": "markdown",
   "id": "5fa5bf23-491c-4f18-940d-f887a50175d8",
   "metadata": {},
   "source": [
    "## Watermark"
   ]
  },
  {
   "cell_type": "code",
   "execution_count": 8,
   "id": "c66abbae-2958-41ea-95ea-ed521f33856b",
   "metadata": {},
   "outputs": [
    {
     "name": "stdout",
     "output_type": "stream",
     "text": [
      "Last updated: 2023-04-23T19:34:54.623153+02:00\n",
      "\n",
      "Python implementation: CPython\n",
      "Python version       : 3.10.10\n",
      "IPython version      : 8.12.0\n",
      "\n",
      "Compiler    : Clang 14.0.6 \n",
      "OS          : Darwin\n",
      "Release     : 22.1.0\n",
      "Machine     : arm64\n",
      "Processor   : arm\n",
      "CPU cores   : 8\n",
      "Architecture: 64bit\n",
      "\n"
     ]
    }
   ],
   "source": [
    "%watermark"
   ]
  },
  {
   "cell_type": "code",
   "execution_count": 9,
   "id": "49e04d30-97cb-43f3-aa02-30abb30e8896",
   "metadata": {},
   "outputs": [
    {
     "name": "stdout",
     "output_type": "stream",
     "text": [
      "torch     : 2.0.0\n",
      "pandas    : 1.5.2\n",
      "torchaudio: 2.0.1\n",
      "\n"
     ]
    }
   ],
   "source": [
    "%watermark --iversion"
   ]
  },
  {
   "cell_type": "code",
   "execution_count": null,
   "id": "ec88f98d-e6e1-4406-9896-0aaf3700ed7e",
   "metadata": {},
   "outputs": [],
   "source": []
  }
 ],
 "metadata": {
  "kernelspec": {
   "display_name": "Python 3 (ipykernel)",
   "language": "python",
   "name": "python3"
  },
  "language_info": {
   "codemirror_mode": {
    "name": "ipython",
    "version": 3
   },
   "file_extension": ".py",
   "mimetype": "text/x-python",
   "name": "python",
   "nbconvert_exporter": "python",
   "pygments_lexer": "ipython3",
   "version": "3.10.10"
  }
 },
 "nbformat": 4,
 "nbformat_minor": 5
}
