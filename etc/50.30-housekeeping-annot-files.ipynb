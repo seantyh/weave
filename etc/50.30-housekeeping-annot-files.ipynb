{
 "cells": [
  {
   "cell_type": "code",
   "execution_count": 1,
   "metadata": {},
   "outputs": [],
   "source": [
    "from pathlib import Path\n",
    "import shutil"
   ]
  },
  {
   "cell_type": "code",
   "execution_count": 11,
   "metadata": {},
   "outputs": [],
   "source": [
    "annot_dir = Path(\"../data/retro_labels\")\n",
    "annot_files = list(annot_dir.glob(\"*.TextGrid\"))\n",
    "speaker_ids = [f.stem.replace(\"_label\", \"\") for f in annot_files]"
   ]
  },
  {
   "cell_type": "code",
   "execution_count": 12,
   "metadata": {},
   "outputs": [],
   "source": [
    "mfa_dir = Path(\"~/lago/mfa_data\").expanduser()\n",
    "seq_dir = Path(\"~/lago/resources/TaiwaneseMandarinCorpus/seqs\").expanduser()\n",
    "mfa_redel_dir = mfa_dir/\"retro_redel\"\n",
    "mfa_redel_dir.mkdir(exist_ok=True, parents=True)\n",
    "for speaker_x in speaker_ids:\n",
    "    print(speaker_x)\n",
    "    shutil.copytree(seq_dir/speaker_x, mfa_redel_dir/speaker_x)"
   ]
  },
  {
   "cell_type": "code",
   "execution_count": null,
   "metadata": {},
   "outputs": [],
   "source": []
  }
 ],
 "metadata": {
  "kernelspec": {
   "display_name": "base",
   "language": "python",
   "name": "python3"
  },
  "language_info": {
   "codemirror_mode": {
    "name": "ipython",
    "version": 3
   },
   "file_extension": ".py",
   "mimetype": "text/x-python",
   "name": "python",
   "nbconvert_exporter": "python",
   "pygments_lexer": "ipython3",
   "version": "3.10.10"
  },
  "orig_nbformat": 4
 },
 "nbformat": 4,
 "nbformat_minor": 2
}
