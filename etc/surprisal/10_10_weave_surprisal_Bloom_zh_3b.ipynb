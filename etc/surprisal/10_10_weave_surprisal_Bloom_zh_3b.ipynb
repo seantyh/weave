{
  "nbformat": 4,
  "nbformat_minor": 0,
  "metadata": {
    "colab": {
      "provenance": [],
      "machine_shape": "hm",
      "gpuType": "V100"
    },
    "kernelspec": {
      "name": "python3",
      "display_name": "Python 3"
    },
    "language_info": {
      "name": "python"
    },
    "accelerator": "GPU",
    "widgets": {
      "application/vnd.jupyter.widget-state+json": {
        "b2dcfea3488f4a10a528b0218b022860": {
          "model_module": "@jupyter-widgets/controls",
          "model_name": "HBoxModel",
          "model_module_version": "1.5.0",
          "state": {
            "_dom_classes": [],
            "_model_module": "@jupyter-widgets/controls",
            "_model_module_version": "1.5.0",
            "_model_name": "HBoxModel",
            "_view_count": null,
            "_view_module": "@jupyter-widgets/controls",
            "_view_module_version": "1.5.0",
            "_view_name": "HBoxView",
            "box_style": "",
            "children": [
              "IPY_MODEL_de0ecf81666c44a89d9699a1dcbff2a1",
              "IPY_MODEL_a1df657ae6ad4219b5550dc35c2b3a5c",
              "IPY_MODEL_710b19ba12434044bd9e7d254721ff00"
            ],
            "layout": "IPY_MODEL_541117a1886e4e2bb1680e16355b0795"
          }
        },
        "de0ecf81666c44a89d9699a1dcbff2a1": {
          "model_module": "@jupyter-widgets/controls",
          "model_name": "HTMLModel",
          "model_module_version": "1.5.0",
          "state": {
            "_dom_classes": [],
            "_model_module": "@jupyter-widgets/controls",
            "_model_module_version": "1.5.0",
            "_model_name": "HTMLModel",
            "_view_count": null,
            "_view_module": "@jupyter-widgets/controls",
            "_view_module_version": "1.5.0",
            "_view_name": "HTMLView",
            "description": "",
            "description_tooltip": null,
            "layout": "IPY_MODEL_5c0467f81d87462791a994bd43218f1d",
            "placeholder": "​",
            "style": "IPY_MODEL_270f9fa1165a447385fbcd07c0b88862",
            "value": "100%"
          }
        },
        "a1df657ae6ad4219b5550dc35c2b3a5c": {
          "model_module": "@jupyter-widgets/controls",
          "model_name": "FloatProgressModel",
          "model_module_version": "1.5.0",
          "state": {
            "_dom_classes": [],
            "_model_module": "@jupyter-widgets/controls",
            "_model_module_version": "1.5.0",
            "_model_name": "FloatProgressModel",
            "_view_count": null,
            "_view_module": "@jupyter-widgets/controls",
            "_view_module_version": "1.5.0",
            "_view_name": "ProgressView",
            "bar_style": "success",
            "description": "",
            "description_tooltip": null,
            "layout": "IPY_MODEL_c7445e95026d45a4aa14ec3589859810",
            "max": 55,
            "min": 0,
            "orientation": "horizontal",
            "style": "IPY_MODEL_c79ae613f73b4e2fa06dac0b5e2fdab2",
            "value": 55
          }
        },
        "710b19ba12434044bd9e7d254721ff00": {
          "model_module": "@jupyter-widgets/controls",
          "model_name": "HTMLModel",
          "model_module_version": "1.5.0",
          "state": {
            "_dom_classes": [],
            "_model_module": "@jupyter-widgets/controls",
            "_model_module_version": "1.5.0",
            "_model_name": "HTMLModel",
            "_view_count": null,
            "_view_module": "@jupyter-widgets/controls",
            "_view_module_version": "1.5.0",
            "_view_name": "HTMLView",
            "description": "",
            "description_tooltip": null,
            "layout": "IPY_MODEL_41e0fe50eb2a43439933b4d5aa61cd0c",
            "placeholder": "​",
            "style": "IPY_MODEL_bb66926fbf754aa0903492fa06a1b81c",
            "value": " 55/55 [06:27&lt;00:00,  6.63s/it]"
          }
        },
        "541117a1886e4e2bb1680e16355b0795": {
          "model_module": "@jupyter-widgets/base",
          "model_name": "LayoutModel",
          "model_module_version": "1.2.0",
          "state": {
            "_model_module": "@jupyter-widgets/base",
            "_model_module_version": "1.2.0",
            "_model_name": "LayoutModel",
            "_view_count": null,
            "_view_module": "@jupyter-widgets/base",
            "_view_module_version": "1.2.0",
            "_view_name": "LayoutView",
            "align_content": null,
            "align_items": null,
            "align_self": null,
            "border": null,
            "bottom": null,
            "display": null,
            "flex": null,
            "flex_flow": null,
            "grid_area": null,
            "grid_auto_columns": null,
            "grid_auto_flow": null,
            "grid_auto_rows": null,
            "grid_column": null,
            "grid_gap": null,
            "grid_row": null,
            "grid_template_areas": null,
            "grid_template_columns": null,
            "grid_template_rows": null,
            "height": null,
            "justify_content": null,
            "justify_items": null,
            "left": null,
            "margin": null,
            "max_height": null,
            "max_width": null,
            "min_height": null,
            "min_width": null,
            "object_fit": null,
            "object_position": null,
            "order": null,
            "overflow": null,
            "overflow_x": null,
            "overflow_y": null,
            "padding": null,
            "right": null,
            "top": null,
            "visibility": null,
            "width": null
          }
        },
        "5c0467f81d87462791a994bd43218f1d": {
          "model_module": "@jupyter-widgets/base",
          "model_name": "LayoutModel",
          "model_module_version": "1.2.0",
          "state": {
            "_model_module": "@jupyter-widgets/base",
            "_model_module_version": "1.2.0",
            "_model_name": "LayoutModel",
            "_view_count": null,
            "_view_module": "@jupyter-widgets/base",
            "_view_module_version": "1.2.0",
            "_view_name": "LayoutView",
            "align_content": null,
            "align_items": null,
            "align_self": null,
            "border": null,
            "bottom": null,
            "display": null,
            "flex": null,
            "flex_flow": null,
            "grid_area": null,
            "grid_auto_columns": null,
            "grid_auto_flow": null,
            "grid_auto_rows": null,
            "grid_column": null,
            "grid_gap": null,
            "grid_row": null,
            "grid_template_areas": null,
            "grid_template_columns": null,
            "grid_template_rows": null,
            "height": null,
            "justify_content": null,
            "justify_items": null,
            "left": null,
            "margin": null,
            "max_height": null,
            "max_width": null,
            "min_height": null,
            "min_width": null,
            "object_fit": null,
            "object_position": null,
            "order": null,
            "overflow": null,
            "overflow_x": null,
            "overflow_y": null,
            "padding": null,
            "right": null,
            "top": null,
            "visibility": null,
            "width": null
          }
        },
        "270f9fa1165a447385fbcd07c0b88862": {
          "model_module": "@jupyter-widgets/controls",
          "model_name": "DescriptionStyleModel",
          "model_module_version": "1.5.0",
          "state": {
            "_model_module": "@jupyter-widgets/controls",
            "_model_module_version": "1.5.0",
            "_model_name": "DescriptionStyleModel",
            "_view_count": null,
            "_view_module": "@jupyter-widgets/base",
            "_view_module_version": "1.2.0",
            "_view_name": "StyleView",
            "description_width": ""
          }
        },
        "c7445e95026d45a4aa14ec3589859810": {
          "model_module": "@jupyter-widgets/base",
          "model_name": "LayoutModel",
          "model_module_version": "1.2.0",
          "state": {
            "_model_module": "@jupyter-widgets/base",
            "_model_module_version": "1.2.0",
            "_model_name": "LayoutModel",
            "_view_count": null,
            "_view_module": "@jupyter-widgets/base",
            "_view_module_version": "1.2.0",
            "_view_name": "LayoutView",
            "align_content": null,
            "align_items": null,
            "align_self": null,
            "border": null,
            "bottom": null,
            "display": null,
            "flex": null,
            "flex_flow": null,
            "grid_area": null,
            "grid_auto_columns": null,
            "grid_auto_flow": null,
            "grid_auto_rows": null,
            "grid_column": null,
            "grid_gap": null,
            "grid_row": null,
            "grid_template_areas": null,
            "grid_template_columns": null,
            "grid_template_rows": null,
            "height": null,
            "justify_content": null,
            "justify_items": null,
            "left": null,
            "margin": null,
            "max_height": null,
            "max_width": null,
            "min_height": null,
            "min_width": null,
            "object_fit": null,
            "object_position": null,
            "order": null,
            "overflow": null,
            "overflow_x": null,
            "overflow_y": null,
            "padding": null,
            "right": null,
            "top": null,
            "visibility": null,
            "width": null
          }
        },
        "c79ae613f73b4e2fa06dac0b5e2fdab2": {
          "model_module": "@jupyter-widgets/controls",
          "model_name": "ProgressStyleModel",
          "model_module_version": "1.5.0",
          "state": {
            "_model_module": "@jupyter-widgets/controls",
            "_model_module_version": "1.5.0",
            "_model_name": "ProgressStyleModel",
            "_view_count": null,
            "_view_module": "@jupyter-widgets/base",
            "_view_module_version": "1.2.0",
            "_view_name": "StyleView",
            "bar_color": null,
            "description_width": ""
          }
        },
        "41e0fe50eb2a43439933b4d5aa61cd0c": {
          "model_module": "@jupyter-widgets/base",
          "model_name": "LayoutModel",
          "model_module_version": "1.2.0",
          "state": {
            "_model_module": "@jupyter-widgets/base",
            "_model_module_version": "1.2.0",
            "_model_name": "LayoutModel",
            "_view_count": null,
            "_view_module": "@jupyter-widgets/base",
            "_view_module_version": "1.2.0",
            "_view_name": "LayoutView",
            "align_content": null,
            "align_items": null,
            "align_self": null,
            "border": null,
            "bottom": null,
            "display": null,
            "flex": null,
            "flex_flow": null,
            "grid_area": null,
            "grid_auto_columns": null,
            "grid_auto_flow": null,
            "grid_auto_rows": null,
            "grid_column": null,
            "grid_gap": null,
            "grid_row": null,
            "grid_template_areas": null,
            "grid_template_columns": null,
            "grid_template_rows": null,
            "height": null,
            "justify_content": null,
            "justify_items": null,
            "left": null,
            "margin": null,
            "max_height": null,
            "max_width": null,
            "min_height": null,
            "min_width": null,
            "object_fit": null,
            "object_position": null,
            "order": null,
            "overflow": null,
            "overflow_x": null,
            "overflow_y": null,
            "padding": null,
            "right": null,
            "top": null,
            "visibility": null,
            "width": null
          }
        },
        "bb66926fbf754aa0903492fa06a1b81c": {
          "model_module": "@jupyter-widgets/controls",
          "model_name": "DescriptionStyleModel",
          "model_module_version": "1.5.0",
          "state": {
            "_model_module": "@jupyter-widgets/controls",
            "_model_module_version": "1.5.0",
            "_model_name": "DescriptionStyleModel",
            "_view_count": null,
            "_view_module": "@jupyter-widgets/base",
            "_view_module_version": "1.2.0",
            "_view_name": "StyleView",
            "description_width": ""
          }
        }
      }
    }
  },
  "cells": [
    {
      "cell_type": "code",
      "execution_count": null,
      "metadata": {
        "id": "HrWpUabZErbT"
      },
      "outputs": [],
      "source": [
        "%%capture\n",
        "!pip install transformers"
      ]
    },
    {
      "cell_type": "code",
      "source": [
        "# 6b6873ae3f441b3cca2e88d943ea91fb93965273\n",
        "!sha1sum \"./decode_seqs.json\"   # built from weave/etc/surprisal/10.00"
      ],
      "metadata": {
        "colab": {
          "base_uri": "https://localhost:8080/"
        },
        "id": "vlUA-C1YoHe-",
        "outputId": "6751b5bf-6957-48ed-d689-38b762b75942"
      },
      "execution_count": null,
      "outputs": [
        {
          "output_type": "stream",
          "name": "stdout",
          "text": [
            "6b6873ae3f441b3cca2e88d943ea91fb93965273  ./decode_seqs.json\n"
          ]
        }
      ]
    },
    {
      "cell_type": "markdown",
      "source": [
        "## Load the model"
      ],
      "metadata": {
        "id": "37u1jPO6oFFz"
      }
    },
    {
      "cell_type": "code",
      "source": [
        "import torch\n",
        "from transformers import AutoTokenizer, AutoModelForCausalLM\n",
        "\n",
        "tokenizer = AutoTokenizer.from_pretrained(\"ckip-joint/bloom-3b-zh\", add_prefix_space=True)\n",
        "model = AutoModelForCausalLM.from_pretrained(\"ckip-joint/bloom-3b-zh\", \n",
        "                                             torch_dtype=torch.bfloat16,\n",
        "                                             ).to(\"cuda\")"
      ],
      "metadata": {
        "id": "iZfl5DzwEyVh"
      },
      "execution_count": null,
      "outputs": []
    },
    {
      "cell_type": "code",
      "source": [
        "## Test generation\n",
        "tokenizer.batch_decode(model.generate(\n",
        "    **tokenizer(list(\"我達達\"), \n",
        "                is_split_into_words=True,\n",
        "                return_tensors=\"pt\").to(\"cuda\"), \n",
        "    max_new_tokens=20,\n",
        "    do_sample=True))"
      ],
      "metadata": {
        "colab": {
          "base_uri": "https://localhost:8080/"
        },
        "id": "O9eDv9IOFRvc",
        "outputId": "2370e72e-47fc-4353-e725-32aa93d984e8"
      },
      "execution_count": null,
      "outputs": [
        {
          "output_type": "execute_result",
          "data": {
            "text/plain": [
              "['我達達開講啦~我發現我這個部落格也滿難搞的,因為今天要寫']"
            ]
          },
          "metadata": {},
          "execution_count": 4
        }
      ]
    },
    {
      "cell_type": "markdown",
      "source": [
        "## Load the transcripts"
      ],
      "metadata": {
        "id": "E_QrxG8PFZB_"
      }
    },
    {
      "cell_type": "code",
      "source": [
        "import json\n",
        "from pathlib import Path\n",
        "from tqdm.auto import tqdm\n",
        "decodes = json.loads(Path(\"decode_seqs.json\").read_text(encoding=\"UTF-8\"))"
      ],
      "metadata": {
        "id": "eVQth0LuorU5"
      },
      "execution_count": null,
      "outputs": []
    },
    {
      "cell_type": "code",
      "source": [
        "speaker_ids = sorted(list(decodes.keys()))\n",
        "nll_data = {}\n",
        "for speaker_x in tqdm(speaker_ids):\n",
        "  decode_seqs = decodes[speaker_x]\n",
        "  nll_speaker = nll_data.setdefault(speaker_x, [])\n",
        "  for seqdata_x in decode_seqs:\n",
        "    words_x = seqdata_x[\"sequences\"]\n",
        "    words_x = sum(words_x, [])\n",
        "    batch = tokenizer(words_x, \n",
        "                      is_split_into_words=True,\n",
        "                      return_tensors=\"pt\").to(\"cuda\")\n",
        "    with torch.no_grad():\n",
        "      out = model(**batch)\n",
        "\n",
        "    prob = -out.logits.log_softmax(axis=-1)\n",
        "    shift_labels = batch[\"input_ids\"][:, 1:]\n",
        "    nlls = prob[:, :-1, :].gather(axis=2, index=shift_labels.unsqueeze(2))\n",
        "    nlls = nlls.cpu().squeeze().to(torch.float16).numpy()\n",
        "    nll_speaker.append({\n",
        "        **seqdata_x, \n",
        "        \"nll\": nlls\n",
        "    })"
      ],
      "metadata": {
        "colab": {
          "base_uri": "https://localhost:8080/",
          "height": 49,
          "referenced_widgets": [
            "b2dcfea3488f4a10a528b0218b022860",
            "de0ecf81666c44a89d9699a1dcbff2a1",
            "a1df657ae6ad4219b5550dc35c2b3a5c",
            "710b19ba12434044bd9e7d254721ff00",
            "541117a1886e4e2bb1680e16355b0795",
            "5c0467f81d87462791a994bd43218f1d",
            "270f9fa1165a447385fbcd07c0b88862",
            "c7445e95026d45a4aa14ec3589859810",
            "c79ae613f73b4e2fa06dac0b5e2fdab2",
            "41e0fe50eb2a43439933b4d5aa61cd0c",
            "bb66926fbf754aa0903492fa06a1b81c"
          ]
        },
        "id": "pz8Knq-xs4Oy",
        "outputId": "687b6691-804c-4f70-d805-175bd60e3656"
      },
      "execution_count": null,
      "outputs": [
        {
          "output_type": "display_data",
          "data": {
            "text/plain": [
              "  0%|          | 0/55 [00:00<?, ?it/s]"
            ],
            "application/vnd.jupyter.widget-view+json": {
              "version_major": 2,
              "version_minor": 0,
              "model_id": "b2dcfea3488f4a10a528b0218b022860"
            }
          },
          "metadata": {}
        }
      ]
    },
    {
      "cell_type": "code",
      "source": [
        "import pickle\n",
        "out_path = Path(\"decode_nll_bloom-zh-3b.pkl\")\n",
        "out_path.write_bytes(pickle.dumps(nll_data))"
      ],
      "metadata": {
        "colab": {
          "base_uri": "https://localhost:8080/"
        },
        "id": "6Lq9O-fc_tGS",
        "outputId": "2afda2c5-1ced-4632-87cb-0cfe6934982b"
      },
      "execution_count": null,
      "outputs": [
        {
          "output_type": "execute_result",
          "data": {
            "text/plain": [
              "4896748"
            ]
          },
          "metadata": {},
          "execution_count": 12
        }
      ]
    },
    {
      "cell_type": "code",
      "source": [
        "!sha1sum $out_path"
      ],
      "metadata": {
        "colab": {
          "base_uri": "https://localhost:8080/"
        },
        "id": "Tw5mGt0X_mTM",
        "outputId": "accdd87c-f9ad-496a-d026-035d41394a8f"
      },
      "execution_count": null,
      "outputs": [
        {
          "output_type": "stream",
          "name": "stdout",
          "text": [
            "37b7f67f5cc0685e0d223a1fc3f733f2fde70ee6  decode_nll_bloom-zh-3b.pkl\n"
          ]
        }
      ]
    },
    {
      "cell_type": "code",
      "source": [],
      "metadata": {
        "id": "IzR4miQlAPzd"
      },
      "execution_count": null,
      "outputs": []
    }
  ]
}