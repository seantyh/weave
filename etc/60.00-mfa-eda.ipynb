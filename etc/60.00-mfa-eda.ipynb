{
 "cells": [
  {
   "cell_type": "code",
   "execution_count": 1,
   "id": "15c04091",
   "metadata": {},
   "outputs": [],
   "source": [
    "%load_ext autoreload\n",
    "%autoreload 2"
   ]
  },
  {
   "cell_type": "code",
   "execution_count": 1,
   "id": "a5f20278",
   "metadata": {},
   "outputs": [],
   "source": [
    "import sys\n",
    "if \"../src\" not in sys.path:\n",
    "    sys.path.append(\"../src\")\n"
   ]
  },
  {
   "cell_type": "code",
   "execution_count": 2,
   "id": "3c8321bc-856b-4fd6-8610-880b21424c0e",
   "metadata": {},
   "outputs": [],
   "source": [
    "from pathlib import Path\n",
    "from weave import MfaAgent\n",
    "\n",
    "agent = MfaAgent(\"../data/vartest\", \"vartest\")"
   ]
  },
  {
   "cell_type": "code",
   "execution_count": null,
   "id": "9ce705a1-58d7-4601-947f-14cee7e1bf75",
   "metadata": {},
   "outputs": [
    {
     "data": {
      "text/plain": [
       "TopologyEntry(\n",
       "  phone_ids=171, 172, 173, 174, 311, 312, 313, 314, 411, 412...,\n",
       "  hmm_states=\n",
       "    HmmState(state_idx=0,pdf_class=0  transitions=[(1, 0.3333333), (2, 0.3333333), (3, 0.3333333)]\n",
       "    HmmState(state_idx=1,pdf_class=1  transitions=[(1, 0.5), (2, 0.5)]\n",
       "    HmmState(state_idx=2,pdf_class=2  transitions=[(3, 1.0)]\n",
       "    HmmState(state_idx=3,pdf_class=None  transitions=[])"
      ]
     },
     "execution_count": 17,
     "metadata": {},
     "output_type": "execute_result"
    }
   ],
   "source": [
    "agent.tmodel.topo.phone_topo[agent.phones[\"ʐ̩˨˩˦_B\"]]"
   ]
  },
  {
   "cell_type": "code",
   "execution_count": 10,
   "id": "70736ee5",
   "metadata": {},
   "outputs": [
    {
     "name": "stdout",
     "output_type": "stream",
     "text": [
      "gconsts:  (84,)\n",
      "inv_vars:  (84, 40)\n"
     ]
    }
   ],
   "source": [
    "am = agent.tmodel.am\n",
    "gmm = am.gmm[0]\n",
    "print(\"gconsts: \", gmm.gconsts.shape)\n",
    "print(\"inv_vars: \", gmm.inv_vars.shape)\n",
    "print(\"mean_invvars: \", gmm.mean_invars.shape)"
   ]
  },
  {
   "cell_type": "code",
   "execution_count": 6,
   "id": "ca73a29f",
   "metadata": {},
   "outputs": [
    {
     "data": {
      "text/plain": [
       "(84, 40)"
      ]
     },
     "execution_count": 6,
     "metadata": {},
     "output_type": "execute_result"
    }
   ],
   "source": []
  },
  {
   "cell_type": "code",
   "execution_count": 41,
   "id": "3ef44b8a",
   "metadata": {},
   "outputs": [],
   "source": [
    "mdl = Path(\"../data/vartest/alignment/final.mdl.txt\").read_text()\n",
    "gconsts = [x for x in mdl.split(\"\\n\") if x.startswith(\"<GCONSTS>\")][0]"
   ]
  },
  {
   "cell_type": "code",
   "execution_count": 33,
   "id": "12e57953",
   "metadata": {},
   "outputs": [],
   "source": [
    "gc = gconsts[gconsts.index(\"[\")+1:gconsts.index(\"]\")].split()"
   ]
  },
  {
   "cell_type": "code",
   "execution_count": 34,
   "id": "a59128f1",
   "metadata": {},
   "outputs": [
    {
     "data": {
      "text/plain": [
       "84"
      ]
     },
     "execution_count": 34,
     "metadata": {},
     "output_type": "execute_result"
    }
   ],
   "source": [
    "len(gc)"
   ]
  },
  {
   "cell_type": "code",
   "execution_count": 36,
   "id": "c5af0c54",
   "metadata": {},
   "outputs": [
    {
     "data": {
      "text/plain": [
       "['-85.38961',\n",
       " '-56.57405',\n",
       " '-69.06531',\n",
       " '-85.24483',\n",
       " '-46.83496',\n",
       " '-1065.365',\n",
       " '-49.64816',\n",
       " '-61.78451',\n",
       " '-81.46671',\n",
       " '-871.4118',\n",
       " '-86.83377',\n",
       " '-515.1218',\n",
       " '-45.7147',\n",
       " '-85.828',\n",
       " '-77.4086',\n",
       " '-40.94964',\n",
       " '-40.14349',\n",
       " '-43.29221',\n",
       " '-83.56148',\n",
       " '-47.7185',\n",
       " '-75.20725',\n",
       " '-43.29832',\n",
       " '-144.4691',\n",
       " '-41.70078',\n",
       " '-40.96073',\n",
       " '-56.54715',\n",
       " '-42.28938',\n",
       " '-52.37632',\n",
       " '-1216.113',\n",
       " '-35.70237',\n",
       " '-63.7322',\n",
       " '-63.31693',\n",
       " '-59.88073',\n",
       " '-37.25187',\n",
       " '-58.77526',\n",
       " '-407.1706',\n",
       " '-40.35186',\n",
       " '-37.3643',\n",
       " '-64.70285',\n",
       " '-46.53694',\n",
       " '-44.44769',\n",
       " '-35.04792',\n",
       " '-34.72142',\n",
       " '-42.74468',\n",
       " '-34.78654',\n",
       " '-40.2761',\n",
       " '-46.72463',\n",
       " '-39.07598',\n",
       " '-38.82893',\n",
       " '-55.63752',\n",
       " '-34.04971',\n",
       " '-42.28016',\n",
       " '-42.62495',\n",
       " '-41.22075',\n",
       " '-42.16526',\n",
       " '-69.29488',\n",
       " '-38.8871',\n",
       " '-47.06475',\n",
       " '-36.94672',\n",
       " '-53.20095',\n",
       " '-36.47509',\n",
       " '-61.53984',\n",
       " '-40.37627',\n",
       " '-52.6237',\n",
       " '-45.8441',\n",
       " '-37.75677',\n",
       " '-33.43172',\n",
       " '-40.76166',\n",
       " '-44.20689',\n",
       " '-42.8698',\n",
       " '-57.59013',\n",
       " '-43.05257',\n",
       " '-48.18136',\n",
       " '-42.13594',\n",
       " '-43.48655',\n",
       " '-53.50659',\n",
       " '-38.39364',\n",
       " '-42.50245',\n",
       " '-51.20944',\n",
       " '-41.80342',\n",
       " '-38.72265',\n",
       " '-36.37831',\n",
       " '-38.70098',\n",
       " '-46.58486']"
      ]
     },
     "execution_count": 36,
     "metadata": {},
     "output_type": "execute_result"
    }
   ],
   "source": [
    "gc"
   ]
  },
  {
   "cell_type": "code",
   "execution_count": null,
   "id": "01290b3e",
   "metadata": {},
   "outputs": [],
   "source": []
  }
 ],
 "metadata": {
  "kernelspec": {
   "display_name": "Python 3 (ipykernel)",
   "language": "python",
   "name": "python3"
  },
  "language_info": {
   "codemirror_mode": {
    "name": "ipython",
    "version": 3
   },
   "file_extension": ".py",
   "mimetype": "text/x-python",
   "name": "python",
   "nbconvert_exporter": "python",
   "pygments_lexer": "ipython3",
   "version": "3.10.10"
  }
 },
 "nbformat": 4,
 "nbformat_minor": 5
}
