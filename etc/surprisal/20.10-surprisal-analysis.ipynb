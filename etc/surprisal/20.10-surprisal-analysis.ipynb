{
 "cells": [
  {
   "attachments": {},
   "cell_type": "markdown",
   "metadata": {},
   "source": [
    "## Data dependencies"
   ]
  },
  {
   "attachments": {},
   "cell_type": "markdown",
   "metadata": {},
   "source": [
    "```\n",
    "dbf53d576713af9f8d4e783f64d52500fe30f43c  # etc/surprisal/20.00-speakers_nll_decoded.json\n",
    "````"
   ]
  },
  {
   "cell_type": "code",
   "execution_count": 1,
   "metadata": {},
   "outputs": [
    {
     "name": "stdout",
     "output_type": "stream",
     "text": [
      "dbf53d576713af9f8d4e783f64d52500fe30f43c  ../../data/surprisal/20.00-speakers_nll_decoded.json\n"
     ]
    }
   ],
   "source": [
    "nll_decoded_path = \"../../data/surprisal/20.00-speakers_nll_decoded.json\"\n",
    "!sha1sum $nll_decoded_path"
   ]
  },
  {
   "attachments": {},
   "cell_type": "markdown",
   "metadata": {},
   "source": [
    "## Load Data"
   ]
  },
  {
   "cell_type": "code",
   "execution_count": 2,
   "metadata": {},
   "outputs": [],
   "source": [
    "import json\n",
    "from pathlib import Path"
   ]
  },
  {
   "cell_type": "code",
   "execution_count": 3,
   "metadata": {},
   "outputs": [],
   "source": [
    "nll_data = json.loads(Path(nll_decoded_path).read_text())"
   ]
  },
  {
   "attachments": {},
   "cell_type": "markdown",
   "metadata": {},
   "source": [
    "## Generate a HTML"
   ]
  },
  {
   "cell_type": "code",
   "execution_count": 4,
   "metadata": {},
   "outputs": [
    {
     "name": "stdout",
     "output_type": "stream",
     "text": [
      "Write out speaker CN_GY\n",
      "Write out speaker CYF_GY\n",
      "Write out speaker HRT_GY\n",
      "Write out speaker JXW_GY\n",
      "Write out speaker LJS_GY\n",
      "Write out speaker LZZ_GY\n",
      "Write out speaker WRW_GY\n",
      "Write out speaker XSH_GY\n",
      "Write out speaker YQY_GY\n",
      "Write out speaker ZMX_GY\n",
      "Write out speaker ZZY_GY\n"
     ]
    },
    {
     "data": {
      "text/plain": [
       "4564527"
      ]
     },
     "execution_count": 4,
     "metadata": {},
     "output_type": "execute_result"
    }
   ],
   "source": [
    "import io\n",
    "sio = io.StringIO()\n",
    "sio.write(\"<html>\\n\")\n",
    "sio.write(\"\"\"\n",
    "<head><style>\n",
    ".utt {display: flex; flex-direction: row; justify-content: flex-start;}\n",
    ".utt_id {min-width: 3em; display: inline-block;}\n",
    ".speaker {font-size: large; margin-top: 1em;}\n",
    "</style></head>\n",
    "\"\"\")\n",
    "sio.write(\"<body><div class='container'>\\n\")\n",
    "counter = 0\n",
    "for speaker_id, speaker_x in nll_data.items():    \n",
    "    counter += 1\n",
    "    if counter % 5 > 0: continue\n",
    "    print(\"Write out speaker\", speaker_id)\n",
    "    sio.write(f\"<div class='speaker'>{speaker_id}</div>\\n\")\n",
    "    for utt_id, utt_x in speaker_x.items():\n",
    "        words = utt_x[\"words\"]\n",
    "        nlls = utt_x[\"nlls\"]\n",
    "        sio.write(\"<div class='utt'>\\n\")\n",
    "        sio.write(f\"<div class='utt_id'>{utt_id.rjust(3, '0')}</div>\\n\")\n",
    "        sio.write(\"<div class='utt_words'>\")\n",
    "        for word, nll in zip(words, nlls):\n",
    "            nll = min(max(nll-3, 0) / 10, 1)\n",
    "            sio.write(f\"<span class='word' style='background-color: hsl(10, 100%, {(1-nll)*60+40}%)'>{word}</span>\\n\")\n",
    "        sio.write(\"</div> <!-- .utt_words --> \\n\")\n",
    "        sio.write(\"</div> <!-- .utt --> \\n\")\n",
    "    sio.write(\"</div> <!-- .speaker --> \\n\")    \n",
    "\n",
    "sio.write(\"</div></body></html>\")\n",
    "html_path = \"../../data/surprisal/20.10-nll-visualize.html\"\n",
    "Path(html_path).write_text(sio.getvalue())"
   ]
  },
  {
   "cell_type": "code",
   "execution_count": 5,
   "metadata": {},
   "outputs": [
    {
     "name": "stdout",
     "output_type": "stream",
     "text": [
      "5065532d845d78c492c906f707a61b51b9f59976  ../../data/surprisal/20.10-nll-visualize.html\n"
     ]
    }
   ],
   "source": [
    "!sha1sum $html_path"
   ]
  },
  {
   "cell_type": "code",
   "execution_count": null,
   "metadata": {},
   "outputs": [],
   "source": []
  }
 ],
 "metadata": {
  "kernelspec": {
   "display_name": "base",
   "language": "python",
   "name": "python3"
  },
  "language_info": {
   "codemirror_mode": {
    "name": "ipython",
    "version": 3
   },
   "file_extension": ".py",
   "mimetype": "text/x-python",
   "name": "python",
   "nbconvert_exporter": "python",
   "pygments_lexer": "ipython3",
   "version": "3.10.10"
  },
  "orig_nbformat": 4
 },
 "nbformat": 4,
 "nbformat_minor": 2
}
