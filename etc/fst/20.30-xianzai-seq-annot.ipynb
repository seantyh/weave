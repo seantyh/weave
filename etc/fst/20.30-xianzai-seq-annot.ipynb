{
 "cells": [
  {
   "attachments": {},
   "cell_type": "markdown",
   "metadata": {},
   "source": [
    "## Data dependencies"
   ]
  },
  {
   "attachments": {},
   "cell_type": "markdown",
   "metadata": {},
   "source": [
    "`d896d31474decf727af64d30c704a4195b51ce9c  ../../data/fst/utt_rzs_xianzai.json`"
   ]
  },
  {
   "cell_type": "code",
   "execution_count": 1,
   "metadata": {},
   "outputs": [
    {
     "name": "stdout",
     "output_type": "stream",
     "text": [
      "5b561827a93acfb268819ca4fa12b4ead197831b  -\n",
      "d896d31474decf727af64d30c704a4195b51ce9c  ../../data/fst/utt_rzs_xianzai.json\n"
     ]
    }
   ],
   "source": [
    "annot_seq_dir = \"../../data/fst/xianzai-seq-annot\"\n",
    "utt_rzs_path = \"../../data/fst/utt_rzs_xianzai.json\"\n",
    "!sha1sum $annot_seq_dir/* | sha1sum\n",
    "!sha1sum $utt_rzs_path"
   ]
  },
  {
   "attachments": {},
   "cell_type": "markdown",
   "metadata": {},
   "source": [
    "## Load Data"
   ]
  },
  {
   "cell_type": "code",
   "execution_count": 2,
   "metadata": {},
   "outputs": [],
   "source": [
    "import json\n",
    "from pathlib import Path\n",
    "from praatio import textgrid\n",
    "\n",
    "utt_rzs = json.loads(Path(utt_rzs_path).read_text())\n",
    "annot_seq = {}\n",
    "for path in Path(annot_seq_dir).glob(\"*.TextGrid\"):    \n",
    "    tg = textgrid.openTextgrid(path, includeEmptyIntervals=True)\n",
    "    phone_tier = tg.getTier(\"phone\")    \n",
    "    annot_seq[path.stem] = \" \".join(x.label for x in phone_tier.entries)\n"
   ]
  },
  {
   "cell_type": "code",
   "execution_count": 3,
   "metadata": {},
   "outputs": [],
   "source": [
    "for utt, annot_rzs in annot_seq.items():\n",
    "  annot_seq[utt] = {\n",
    "    \"annot\": annot_rzs,\n",
    "    \"kaldi_post\": utt_rzs[utt][\"post\"],\n",
    "    \"kaldi_ori\": utt_rzs[utt][\"ori\"],\n",
    "  }"
   ]
  },
  {
   "cell_type": "code",
   "execution_count": 4,
   "metadata": {},
   "outputs": [
    {
     "data": {
      "text/plain": [
       "(60,\n",
       " [('ɕ j. aɪ.', 9),\n",
       "  ('ɕ j. e. n ts aɪ', 7),\n",
       "  ('ɕ j. e.', 4),\n",
       "  ('ɕ j. e. aɪ.', 4),\n",
       "  ('ɕ j. a.', 3)],\n",
       " [('ɕ e n ts aj', 11),\n",
       "  ('ɕ j a aj', 7),\n",
       "  ('ɕ j a', 6),\n",
       "  ('ɕ e n aj', 4),\n",
       "  ('ɕ e aj', 4)])"
      ]
     },
     "execution_count": 4,
     "metadata": {},
     "output_type": "execute_result"
    }
   ],
   "source": [
    "from collections import Counter \n",
    "annot_freq = Counter()\n",
    "mfa_freq = Counter()\n",
    "for utt, item_x in annot_seq.items():\n",
    "   annot_freq[item_x[\"annot\"]] += 1\n",
    "   mfa_freq[item_x[\"kaldi_post\"]] += 1\n",
    "\n",
    "len(annot_seq), annot_freq.most_common(5), mfa_freq.most_common(5)"
   ]
  },
  {
   "cell_type": "code",
   "execution_count": null,
   "metadata": {},
   "outputs": [],
   "source": []
  }
 ],
 "metadata": {
  "kernelspec": {
   "display_name": "mfa",
   "language": "python",
   "name": "python3"
  },
  "language_info": {
   "codemirror_mode": {
    "name": "ipython",
    "version": 3
   },
   "file_extension": ".py",
   "mimetype": "text/x-python",
   "name": "python",
   "nbconvert_exporter": "python",
   "pygments_lexer": "ipython3",
   "version": "3.11.3"
  },
  "orig_nbformat": 4
 },
 "nbformat": 4,
 "nbformat_minor": 2
}
