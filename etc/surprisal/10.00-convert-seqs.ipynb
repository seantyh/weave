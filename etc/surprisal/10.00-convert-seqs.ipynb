{
 "cells": [
  {
   "attachments": {},
   "cell_type": "markdown",
   "metadata": {},
   "source": [
    "## Convert formats of Fon's corpus into text transcripts"
   ]
  },
  {
   "attachments": {},
   "cell_type": "markdown",
   "metadata": {},
   "source": [
    "## Data source"
   ]
  },
  {
   "attachments": {},
   "cell_type": "markdown",
   "metadata": {},
   "source": [
    "The datasource is from the by-seq files originally in lago/resources.  \n",
    "I work with the folder decompressed from `seqs.zip` , which is provided by CYY.  \n",
    "The size of `seqs.zip` is 2.5G, and the SHA1sum is `0e9c2c`"
   ]
  },
  {
   "cell_type": "code",
   "execution_count": 1,
   "metadata": {},
   "outputs": [],
   "source": [
    "def sliding_window(seq_lens, window_size):\n",
    "  seq_counter = 0\n",
    "  stride_buffer = []\n",
    "  stride_count = 0\n",
    "  start_idx = 0\n",
    "  stride_idx = 0  \n",
    "  stride_size = window_size//2\n",
    "\n",
    "  for idx, len_x in enumerate(seq_lens):\n",
    "    if len_x > stride_size:\n",
    "      raise ValueError(f\"len_x ({len_x}) > stride_size ({stride_size})\")\n",
    "    \n",
    "    seq_counter += len_x\n",
    "\n",
    "    if seq_counter >= window_size:\n",
    "      assert seq_counter == seq_lens[start_idx:idx+1].sum()\n",
    "      yield (start_idx, idx)\n",
    "      start_idx = stride_idx\n",
    "      seq_counter = seq_lens[start_idx:idx+1].sum()\n",
    "\n",
    "    stride_buffer.append(len_x)\n",
    "    stride_count = sum(stride_buffer)\n",
    "    while stride_count >= stride_size \\\n",
    "          and stride_idx < idx:\n",
    "      stride_buffer.pop(0)\n",
    "      stride_count = sum(stride_buffer)\n",
    "      stride_idx += 1\n",
    "\n",
    "  yield start_idx, len(seq_lens)"
   ]
  },
  {
   "attachments": {},
   "cell_type": "markdown",
   "metadata": {},
   "source": [
    "## Load data"
   ]
  },
  {
   "cell_type": "code",
   "execution_count": 2,
   "metadata": {},
   "outputs": [],
   "source": [
    "import numpy as np\n",
    "from transformers import AutoTokenizer\n",
    "tokenizer = AutoTokenizer.from_pretrained(\"ckip-joint/bloom-3b-zh\", add_prefix_space=True)"
   ]
  },
  {
   "cell_type": "code",
   "execution_count": 3,
   "metadata": {},
   "outputs": [
    {
     "data": {
      "application/vnd.jupyter.widget-view+json": {
       "model_id": "eceec5fe201c427795698043ca1569c2",
       "version_major": 2,
       "version_minor": 0
      },
      "text/plain": [
       "0it [00:00, ?it/s]"
      ]
     },
     "metadata": {},
     "output_type": "display_data"
    }
   ],
   "source": [
    "from pathlib import Path\n",
    "from tqdm.auto import tqdm\n",
    "\n",
    "seq_dir = Path(\"~/lago/resources/fon_seqs\").expanduser()\n",
    "debom = lambda x: x.strip().strip(\"\\ufeff\")\n",
    "decodes = {}\n",
    "\n",
    "for speaker_dir in tqdm(seq_dir.iterdir()):\n",
    "  speaker_id = speaker_dir.name\n",
    "  lab_files = list(speaker_dir.glob(\"*.lab\"))\n",
    "  lab_files = sorted(lab_files)\n",
    "  transcripts = [debom(lab_file.read_text()) for lab_file in lab_files]  \n",
    "  seq_words = [x.split(\" \")+[\"\\n\"] for x in transcripts]\n",
    "  seq_words = [[w for w in words_x if w] \n",
    "               for words_x in seq_words]\n",
    "  seq_tokens = [tokenizer(x, is_split_into_words=True)[\"input_ids\"] \n",
    "                 for x in seq_words]\n",
    "  seq_lens = np.array([len(x) for x in seq_tokens])\n",
    "\n",
    "  decode_seqs = []\n",
    "  for start_idx, end_idx in sliding_window(seq_lens, 1000):\n",
    "    seq_tokens_slice = seq_tokens[start_idx:end_idx]\n",
    "    decode_seqs.append({\n",
    "      \"start_idx\": start_idx,\n",
    "      \"end_idx\": end_idx,\n",
    "      \"sequences\": seq_words[start_idx:end_idx]\n",
    "      })\n",
    "  decodes[speaker_id] = decode_seqs\n"
   ]
  },
  {
   "attachments": {},
   "cell_type": "markdown",
   "metadata": {},
   "source": [
    "## Export artifact"
   ]
  },
  {
   "cell_type": "code",
   "execution_count": 4,
   "metadata": {},
   "outputs": [
    {
     "data": {
      "text/plain": [
       "2956117"
      ]
     },
     "execution_count": 4,
     "metadata": {},
     "output_type": "execute_result"
    }
   ],
   "source": [
    "import json\n",
    "decode_path = Path(\"../../data/surprisal/decode_seqs.json\")\n",
    "decode_path.write_text(json.dumps(decodes, ensure_ascii=False))"
   ]
  },
  {
   "cell_type": "code",
   "execution_count": 5,
   "metadata": {},
   "outputs": [
    {
     "name": "stdout",
     "output_type": "stream",
     "text": [
      "huggingface/tokenizers: The current process just got forked, after parallelism has already been used. Disabling parallelism to avoid deadlocks...\n",
      "To disable this warning, you can either:\n",
      "\t- Avoid using `tokenizers` before the fork if possible\n",
      "\t- Explicitly set the environment variable TOKENIZERS_PARALLELISM=(true | false)\n",
      "6b6873ae3f441b3cca2e88d943ea91fb93965273  ../../data/surprisal/decode_seqs.json\n"
     ]
    }
   ],
   "source": [
    "## Ignore the tokenzier parallelism warning\n",
    "!sha1sum $decode_path"
   ]
  },
  {
   "cell_type": "code",
   "execution_count": null,
   "metadata": {},
   "outputs": [],
   "source": []
  }
 ],
 "metadata": {
  "kernelspec": {
   "display_name": "mfa",
   "language": "python",
   "name": "python3"
  },
  "language_info": {
   "codemirror_mode": {
    "name": "ipython",
    "version": 3
   },
   "file_extension": ".py",
   "mimetype": "text/x-python",
   "name": "python",
   "nbconvert_exporter": "python",
   "pygments_lexer": "ipython3",
   "version": "3.10.10"
  },
  "orig_nbformat": 4
 },
 "nbformat": 4,
 "nbformat_minor": 2
}
